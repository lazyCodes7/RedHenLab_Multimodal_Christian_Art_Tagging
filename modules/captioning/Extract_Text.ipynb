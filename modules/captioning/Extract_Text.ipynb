{
 "cells": [
  {
   "cell_type": "code",
   "execution_count": 1,
   "id": "037ee685",
   "metadata": {},
   "outputs": [
    {
     "name": "stdout",
     "output_type": "stream",
     "text": [
      "Collecting pytesseract\n",
      "  Downloading pytesseract-0.3.10-py3-none-any.whl (14 kB)\n",
      "Requirement already satisfied: packaging>=21.3 in /home/nightskies/anaconda3/lib/python3.9/site-packages (from pytesseract) (21.3)\n",
      "Requirement already satisfied: Pillow>=8.0.0 in /home/nightskies/anaconda3/lib/python3.9/site-packages (from pytesseract) (9.0.1)\n",
      "Requirement already satisfied: pyparsing!=3.0.5,>=2.0.2 in /home/nightskies/anaconda3/lib/python3.9/site-packages (from packaging>=21.3->pytesseract) (3.0.4)\n",
      "Installing collected packages: pytesseract\n",
      "Successfully installed pytesseract-0.3.10\n"
     ]
    }
   ],
   "source": [
    "!pip3 install pytesseract  "
   ]
  },
  {
   "cell_type": "code",
   "execution_count": 2,
   "id": "ed6e552c",
   "metadata": {},
   "outputs": [
    {
     "name": "stdout",
     "output_type": "stream",
     "text": [
      "Collecting pdf2image\n",
      "  Downloading pdf2image-1.16.0-py3-none-any.whl (10 kB)\n",
      "Requirement already satisfied: pillow in /home/nightskies/anaconda3/lib/python3.9/site-packages (from pdf2image) (9.0.1)\n",
      "Installing collected packages: pdf2image\n",
      "Successfully installed pdf2image-1.16.0\n"
     ]
    }
   ],
   "source": [
    "!pip3 install pdf2image  "
   ]
  },
  {
   "cell_type": "code",
   "execution_count": 5,
   "id": "2904333f",
   "metadata": {},
   "outputs": [
    {
     "name": "stdout",
     "output_type": "stream",
     "text": [
      "Collecting package metadata (current_repodata.json): done\n",
      "Solving environment: failed with initial frozen solve. Retrying with flexible solve.\n",
      "Collecting package metadata (repodata.json): done\n",
      "Solving environment: failed with initial frozen solve. Retrying with flexible solve.\n",
      "\n",
      "PackagesNotFoundError: The following packages are not available from current channels:\n",
      "\n",
      "  - tesseract\n",
      "\n",
      "Current channels:\n",
      "\n",
      "  - https://repo.anaconda.com/pkgs/main/linux-64\n",
      "  - https://repo.anaconda.com/pkgs/main/noarch\n",
      "  - https://repo.anaconda.com/pkgs/r/linux-64\n",
      "  - https://repo.anaconda.com/pkgs/r/noarch\n",
      "\n",
      "To search for alternate channels that may provide the conda package you're\n",
      "looking for, navigate to\n",
      "\n",
      "    https://anaconda.org\n",
      "\n",
      "and use the search bar at the top of the page.\n",
      "\n",
      "\n"
     ]
    }
   ],
   "source": [
    "!conda install tesseract"
   ]
  },
  {
   "cell_type": "code",
   "execution_count": null,
   "id": "49753296",
   "metadata": {},
   "outputs": [],
   "source": [
    "from PIL import Image as img  \n",
    "import pytesseract as PT  \n",
    "import sys  \n",
    "from pdf2image import convert_from_path as CFP  \n",
    "import os  \n",
    "# Importing the pdf file  \n",
    "PDF_file_1 = \"gothic_image.pdf\"  \n",
    "pages_1 = CFP(PDF_file_1, 450)  \n",
    "\n",
    "# Now, we will create a counter for storing images of each page of PDF to image  \n",
    "image_counter1 = 1  \n",
    "\n",
    "# Iterating through all the pages of the pdf file stored above  \n",
    "for page in pages_1:  \n",
    "\n",
    "    # We will Declare the  filename for each page of PDF file as JPG file  \n",
    "    # For each page, the filename will be:  \n",
    "    # PDF page no. 1: Page_no_1.jpg  \n",
    "    # PDF page no.2: Page_no_2.jpg  \n",
    "    # PDF page no. 3: Page_no_3.jpg  \n",
    "    # PDF page no. 4: Page_no_4.jpg  \n",
    "    # .... and so on..  \n",
    "    # PDF page n: page_n.jpg  \n",
    "    filename1 = \"Page_no_\" + str(image_counter) + \" .jpg\"  \n",
    "\n",
    "    # Now, we will save the image of the page in system  \n",
    "    page.save(filename1, 'JPEG')  \n",
    "\n",
    "    # Then, we will increase the counter for updating filenames  \n",
    "    image_counter1 = image_counter1 + 1  \n",
    "\n",
    "'''  \n",
    "Part #2 - Recognize the text content from the image files by using OCR  \n",
    "'''  \n",
    "# Variable for getting the count of the total number of pages  \n",
    "filelimit1 = image_counter1 - 1  \n",
    "\n",
    "# then, we will create a text file for writing the output  \n",
    "out_file1 = \"output_text.txt\"  \n",
    "\n",
    "# Now, we will open the output file in append mode so that all contents of the # images will be added in the same output file.  \n",
    "f_1 = open(out_file1, \"a\")  \n",
    "\n",
    "# Iterating from 1 to total number of pages  \n",
    "for K in range(176, filelimit1 + 1):  \n",
    "\n",
    "    # Now, we will set filename for recognizing text from images  \n",
    "    # Again, these files will be:  \n",
    "    # Page_no_1.jpg  \n",
    "    # Page_no_2.jpg  \n",
    "    # Page_no_3.jpg  \n",
    "    # ....  \n",
    "    # page_no_n.jpg  \n",
    "    filename1 = \"Page_no_\" + str(K) + \" .jpg\"  \n",
    "\n",
    "    # Here, we will write a code for recognizing the text as a string variable in an image file by using the pytesserct module  \n",
    "    text1 = str(((PT.image_to_string (Image.open (filename1)))))  \n",
    "\n",
    "    # : The recognized text will be stored in variable text  \n",
    "    # : Any string variable processing may be applied to text content  \n",
    "    # : Here, basic formatting will be done:-  \n",
    "\n",
    "    text1 = text1.replace('-\\n', '')      \n",
    "\n",
    "    # At last, we will write the processed text into the file.  \n",
    "    f_1.write(text1)  \n",
    "\n",
    "# Closing the file after writing all the text content.  \n",
    "f_1.close()"
   ]
  },
  {
   "cell_type": "code",
   "execution_count": null,
   "id": "52055d3a",
   "metadata": {},
   "outputs": [],
   "source": []
  }
 ],
 "metadata": {
  "kernelspec": {
   "display_name": "Python 3 (ipykernel)",
   "language": "python",
   "name": "python3"
  },
  "language_info": {
   "codemirror_mode": {
    "name": "ipython",
    "version": 3
   },
   "file_extension": ".py",
   "mimetype": "text/x-python",
   "name": "python",
   "nbconvert_exporter": "python",
   "pygments_lexer": "ipython3",
   "version": "3.9.12"
  }
 },
 "nbformat": 4,
 "nbformat_minor": 5
}

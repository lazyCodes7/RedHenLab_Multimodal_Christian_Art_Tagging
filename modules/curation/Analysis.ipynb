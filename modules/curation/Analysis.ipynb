{
 "cells": [
  {
   "cell_type": "code",
   "execution_count": 1,
   "id": "6dc2f9f4",
   "metadata": {},
   "outputs": [],
   "source": [
    "import pandas as pd\n",
    "import numpy as np"
   ]
  },
  {
   "cell_type": "code",
   "execution_count": 2,
   "id": "35346ae1",
   "metadata": {},
   "outputs": [],
   "source": [
    "metadata_df = pd.read_csv('metadata.csv')"
   ]
  },
  {
   "cell_type": "code",
   "execution_count": 3,
   "id": "516a4dd2",
   "metadata": {},
   "outputs": [
    {
     "name": "stdout",
     "output_type": "stream",
     "text": [
      "<class 'pandas.core.frame.DataFrame'>\n",
      "RangeIndex: 9503 entries, 0 to 9502\n",
      "Data columns (total 9 columns):\n",
      " #   Column        Non-Null Count  Dtype  \n",
      "---  ------        --------------  -----  \n",
      " 0   Unnamed: 0    6571 non-null   float64\n",
      " 1   ARTIST        9270 non-null   object \n",
      " 2   TITLE         8177 non-null   object \n",
      " 3   METADATA_URL  9503 non-null   object \n",
      " 4   IMAGE_LINK    9503 non-null   object \n",
      " 5   IMAGE_NAME    9503 non-null   object \n",
      " 6   DESCRIPTION   7509 non-null   object \n",
      " 7   TIMEFRAME     8867 non-null   object \n",
      " 8   TECHNIQUE     9241 non-null   object \n",
      "dtypes: float64(1), object(8)\n",
      "memory usage: 668.3+ KB\n"
     ]
    }
   ],
   "source": [
    "metadata_df.info()"
   ]
  },
  {
   "cell_type": "code",
   "execution_count": 52,
   "id": "8cfdb05b",
   "metadata": {},
   "outputs": [],
   "source": [
    "values = metadata_df.TIMEFRAME_ABS.value_counts().values[0:14]\n",
    "keys = list(metadata_df.TIMEFRAME_ABS.value_counts().keys()[0:14])"
   ]
  },
  {
   "cell_type": "code",
   "execution_count": 53,
   "id": "d13970f1",
   "metadata": {},
   "outputs": [
    {
     "data": {
      "text/plain": [
       "['1451',\n",
       " '1501',\n",
       " '1601',\n",
       " '1401',\n",
       " '1551',\n",
       " '1301',\n",
       " '1351',\n",
       " '1651',\n",
       " '1500',\n",
       " '1480',\n",
       " '1701',\n",
       " '1410',\n",
       " '1430',\n",
       " '1460']"
      ]
     },
     "execution_count": 53,
     "metadata": {},
     "output_type": "execute_result"
    }
   ],
   "source": [
    "keys"
   ]
  },
  {
   "cell_type": "code",
   "execution_count": 54,
   "id": "a30ab42c",
   "metadata": {},
   "outputs": [],
   "source": [
    "for i in range(len(keys)):\n",
    "    keys[i] = keys[i] + \"-\" + str(int(keys[i])+50)"
   ]
  },
  {
   "cell_type": "code",
   "execution_count": 55,
   "id": "290c6f30",
   "metadata": {},
   "outputs": [],
   "source": [
    "import plotly.express as px"
   ]
  },
  {
   "cell_type": "code",
   "execution_count": 56,
   "id": "9bef8818",
   "metadata": {},
   "outputs": [
    {
     "data": {
      "application/vnd.plotly.v1+json": {
       "config": {
        "plotlyServerURL": "https://plot.ly"
       },
       "data": [
        {
         "alignmentgroup": "True",
         "bingroup": "x",
         "histfunc": "sum",
         "hovertemplate": "color=1451-1501<br>x=%{x}<br>sum of y=%{y}<extra></extra>",
         "legendgroup": "1451-1501",
         "marker": {
          "color": "#636efa",
          "pattern": {
           "shape": ""
          }
         },
         "name": "1451-1501",
         "offsetgroup": "1451-1501",
         "orientation": "v",
         "showlegend": true,
         "type": "histogram",
         "x": [
          "1451-1501"
         ],
         "xaxis": "x",
         "y": [
          1205
         ],
         "yaxis": "y"
        },
        {
         "alignmentgroup": "True",
         "bingroup": "x",
         "histfunc": "sum",
         "hovertemplate": "color=1501-1551<br>x=%{x}<br>sum of y=%{y}<extra></extra>",
         "legendgroup": "1501-1551",
         "marker": {
          "color": "#EF553B",
          "pattern": {
           "shape": ""
          }
         },
         "name": "1501-1551",
         "offsetgroup": "1501-1551",
         "orientation": "v",
         "showlegend": true,
         "type": "histogram",
         "x": [
          "1501-1551"
         ],
         "xaxis": "x",
         "y": [
          1062
         ],
         "yaxis": "y"
        },
        {
         "alignmentgroup": "True",
         "bingroup": "x",
         "histfunc": "sum",
         "hovertemplate": "color=1601-1651<br>x=%{x}<br>sum of y=%{y}<extra></extra>",
         "legendgroup": "1601-1651",
         "marker": {
          "color": "#00cc96",
          "pattern": {
           "shape": ""
          }
         },
         "name": "1601-1651",
         "offsetgroup": "1601-1651",
         "orientation": "v",
         "showlegend": true,
         "type": "histogram",
         "x": [
          "1601-1651"
         ],
         "xaxis": "x",
         "y": [
          716
         ],
         "yaxis": "y"
        },
        {
         "alignmentgroup": "True",
         "bingroup": "x",
         "histfunc": "sum",
         "hovertemplate": "color=1401-1451<br>x=%{x}<br>sum of y=%{y}<extra></extra>",
         "legendgroup": "1401-1451",
         "marker": {
          "color": "#ab63fa",
          "pattern": {
           "shape": ""
          }
         },
         "name": "1401-1451",
         "offsetgroup": "1401-1451",
         "orientation": "v",
         "showlegend": true,
         "type": "histogram",
         "x": [
          "1401-1451"
         ],
         "xaxis": "x",
         "y": [
          547
         ],
         "yaxis": "y"
        },
        {
         "alignmentgroup": "True",
         "bingroup": "x",
         "histfunc": "sum",
         "hovertemplate": "color=1551-1601<br>x=%{x}<br>sum of y=%{y}<extra></extra>",
         "legendgroup": "1551-1601",
         "marker": {
          "color": "#FFA15A",
          "pattern": {
           "shape": ""
          }
         },
         "name": "1551-1601",
         "offsetgroup": "1551-1601",
         "orientation": "v",
         "showlegend": true,
         "type": "histogram",
         "x": [
          "1551-1601"
         ],
         "xaxis": "x",
         "y": [
          518
         ],
         "yaxis": "y"
        },
        {
         "alignmentgroup": "True",
         "bingroup": "x",
         "histfunc": "sum",
         "hovertemplate": "color=1301-1351<br>x=%{x}<br>sum of y=%{y}<extra></extra>",
         "legendgroup": "1301-1351",
         "marker": {
          "color": "#19d3f3",
          "pattern": {
           "shape": ""
          }
         },
         "name": "1301-1351",
         "offsetgroup": "1301-1351",
         "orientation": "v",
         "showlegend": true,
         "type": "histogram",
         "x": [
          "1301-1351"
         ],
         "xaxis": "x",
         "y": [
          451
         ],
         "yaxis": "y"
        },
        {
         "alignmentgroup": "True",
         "bingroup": "x",
         "histfunc": "sum",
         "hovertemplate": "color=1351-1401<br>x=%{x}<br>sum of y=%{y}<extra></extra>",
         "legendgroup": "1351-1401",
         "marker": {
          "color": "#FF6692",
          "pattern": {
           "shape": ""
          }
         },
         "name": "1351-1401",
         "offsetgroup": "1351-1401",
         "orientation": "v",
         "showlegend": true,
         "type": "histogram",
         "x": [
          "1351-1401"
         ],
         "xaxis": "x",
         "y": [
          279
         ],
         "yaxis": "y"
        },
        {
         "alignmentgroup": "True",
         "bingroup": "x",
         "histfunc": "sum",
         "hovertemplate": "color=1651-1701<br>x=%{x}<br>sum of y=%{y}<extra></extra>",
         "legendgroup": "1651-1701",
         "marker": {
          "color": "#B6E880",
          "pattern": {
           "shape": ""
          }
         },
         "name": "1651-1701",
         "offsetgroup": "1651-1701",
         "orientation": "v",
         "showlegend": true,
         "type": "histogram",
         "x": [
          "1651-1701"
         ],
         "xaxis": "x",
         "y": [
          232
         ],
         "yaxis": "y"
        },
        {
         "alignmentgroup": "True",
         "bingroup": "x",
         "histfunc": "sum",
         "hovertemplate": "color=1500-1550<br>x=%{x}<br>sum of y=%{y}<extra></extra>",
         "legendgroup": "1500-1550",
         "marker": {
          "color": "#FF97FF",
          "pattern": {
           "shape": ""
          }
         },
         "name": "1500-1550",
         "offsetgroup": "1500-1550",
         "orientation": "v",
         "showlegend": true,
         "type": "histogram",
         "x": [
          "1500-1550"
         ],
         "xaxis": "x",
         "y": [
          170
         ],
         "yaxis": "y"
        },
        {
         "alignmentgroup": "True",
         "bingroup": "x",
         "histfunc": "sum",
         "hovertemplate": "color=1480-1530<br>x=%{x}<br>sum of y=%{y}<extra></extra>",
         "legendgroup": "1480-1530",
         "marker": {
          "color": "#FECB52",
          "pattern": {
           "shape": ""
          }
         },
         "name": "1480-1530",
         "offsetgroup": "1480-1530",
         "orientation": "v",
         "showlegend": true,
         "type": "histogram",
         "x": [
          "1480-1530"
         ],
         "xaxis": "x",
         "y": [
          156
         ],
         "yaxis": "y"
        },
        {
         "alignmentgroup": "True",
         "bingroup": "x",
         "histfunc": "sum",
         "hovertemplate": "color=1701-1751<br>x=%{x}<br>sum of y=%{y}<extra></extra>",
         "legendgroup": "1701-1751",
         "marker": {
          "color": "#636efa",
          "pattern": {
           "shape": ""
          }
         },
         "name": "1701-1751",
         "offsetgroup": "1701-1751",
         "orientation": "v",
         "showlegend": true,
         "type": "histogram",
         "x": [
          "1701-1751"
         ],
         "xaxis": "x",
         "y": [
          150
         ],
         "yaxis": "y"
        },
        {
         "alignmentgroup": "True",
         "bingroup": "x",
         "histfunc": "sum",
         "hovertemplate": "color=1410-1460<br>x=%{x}<br>sum of y=%{y}<extra></extra>",
         "legendgroup": "1410-1460",
         "marker": {
          "color": "#EF553B",
          "pattern": {
           "shape": ""
          }
         },
         "name": "1410-1460",
         "offsetgroup": "1410-1460",
         "orientation": "v",
         "showlegend": true,
         "type": "histogram",
         "x": [
          "1410-1460"
         ],
         "xaxis": "x",
         "y": [
          131
         ],
         "yaxis": "y"
        },
        {
         "alignmentgroup": "True",
         "bingroup": "x",
         "histfunc": "sum",
         "hovertemplate": "color=1430-1480<br>x=%{x}<br>sum of y=%{y}<extra></extra>",
         "legendgroup": "1430-1480",
         "marker": {
          "color": "#00cc96",
          "pattern": {
           "shape": ""
          }
         },
         "name": "1430-1480",
         "offsetgroup": "1430-1480",
         "orientation": "v",
         "showlegend": true,
         "type": "histogram",
         "x": [
          "1430-1480"
         ],
         "xaxis": "x",
         "y": [
          122
         ],
         "yaxis": "y"
        },
        {
         "alignmentgroup": "True",
         "bingroup": "x",
         "histfunc": "sum",
         "hovertemplate": "color=1460-1510<br>x=%{x}<br>sum of y=%{y}<extra></extra>",
         "legendgroup": "1460-1510",
         "marker": {
          "color": "#ab63fa",
          "pattern": {
           "shape": ""
          }
         },
         "name": "1460-1510",
         "offsetgroup": "1460-1510",
         "orientation": "v",
         "showlegend": true,
         "type": "histogram",
         "x": [
          "1460-1510"
         ],
         "xaxis": "x",
         "y": [
          119
         ],
         "yaxis": "y"
        }
       ],
       "layout": {
        "barmode": "relative",
        "legend": {
         "title": {
          "text": "color"
         },
         "tracegroupgap": 0
        },
        "margin": {
         "t": 60
        },
        "template": {
         "data": {
          "bar": [
           {
            "error_x": {
             "color": "#2a3f5f"
            },
            "error_y": {
             "color": "#2a3f5f"
            },
            "marker": {
             "line": {
              "color": "#E5ECF6",
              "width": 0.5
             },
             "pattern": {
              "fillmode": "overlay",
              "size": 10,
              "solidity": 0.2
             }
            },
            "type": "bar"
           }
          ],
          "barpolar": [
           {
            "marker": {
             "line": {
              "color": "#E5ECF6",
              "width": 0.5
             },
             "pattern": {
              "fillmode": "overlay",
              "size": 10,
              "solidity": 0.2
             }
            },
            "type": "barpolar"
           }
          ],
          "carpet": [
           {
            "aaxis": {
             "endlinecolor": "#2a3f5f",
             "gridcolor": "white",
             "linecolor": "white",
             "minorgridcolor": "white",
             "startlinecolor": "#2a3f5f"
            },
            "baxis": {
             "endlinecolor": "#2a3f5f",
             "gridcolor": "white",
             "linecolor": "white",
             "minorgridcolor": "white",
             "startlinecolor": "#2a3f5f"
            },
            "type": "carpet"
           }
          ],
          "choropleth": [
           {
            "colorbar": {
             "outlinewidth": 0,
             "ticks": ""
            },
            "type": "choropleth"
           }
          ],
          "contour": [
           {
            "colorbar": {
             "outlinewidth": 0,
             "ticks": ""
            },
            "colorscale": [
             [
              0,
              "#0d0887"
             ],
             [
              0.1111111111111111,
              "#46039f"
             ],
             [
              0.2222222222222222,
              "#7201a8"
             ],
             [
              0.3333333333333333,
              "#9c179e"
             ],
             [
              0.4444444444444444,
              "#bd3786"
             ],
             [
              0.5555555555555556,
              "#d8576b"
             ],
             [
              0.6666666666666666,
              "#ed7953"
             ],
             [
              0.7777777777777778,
              "#fb9f3a"
             ],
             [
              0.8888888888888888,
              "#fdca26"
             ],
             [
              1,
              "#f0f921"
             ]
            ],
            "type": "contour"
           }
          ],
          "contourcarpet": [
           {
            "colorbar": {
             "outlinewidth": 0,
             "ticks": ""
            },
            "type": "contourcarpet"
           }
          ],
          "heatmap": [
           {
            "colorbar": {
             "outlinewidth": 0,
             "ticks": ""
            },
            "colorscale": [
             [
              0,
              "#0d0887"
             ],
             [
              0.1111111111111111,
              "#46039f"
             ],
             [
              0.2222222222222222,
              "#7201a8"
             ],
             [
              0.3333333333333333,
              "#9c179e"
             ],
             [
              0.4444444444444444,
              "#bd3786"
             ],
             [
              0.5555555555555556,
              "#d8576b"
             ],
             [
              0.6666666666666666,
              "#ed7953"
             ],
             [
              0.7777777777777778,
              "#fb9f3a"
             ],
             [
              0.8888888888888888,
              "#fdca26"
             ],
             [
              1,
              "#f0f921"
             ]
            ],
            "type": "heatmap"
           }
          ],
          "heatmapgl": [
           {
            "colorbar": {
             "outlinewidth": 0,
             "ticks": ""
            },
            "colorscale": [
             [
              0,
              "#0d0887"
             ],
             [
              0.1111111111111111,
              "#46039f"
             ],
             [
              0.2222222222222222,
              "#7201a8"
             ],
             [
              0.3333333333333333,
              "#9c179e"
             ],
             [
              0.4444444444444444,
              "#bd3786"
             ],
             [
              0.5555555555555556,
              "#d8576b"
             ],
             [
              0.6666666666666666,
              "#ed7953"
             ],
             [
              0.7777777777777778,
              "#fb9f3a"
             ],
             [
              0.8888888888888888,
              "#fdca26"
             ],
             [
              1,
              "#f0f921"
             ]
            ],
            "type": "heatmapgl"
           }
          ],
          "histogram": [
           {
            "marker": {
             "pattern": {
              "fillmode": "overlay",
              "size": 10,
              "solidity": 0.2
             }
            },
            "type": "histogram"
           }
          ],
          "histogram2d": [
           {
            "colorbar": {
             "outlinewidth": 0,
             "ticks": ""
            },
            "colorscale": [
             [
              0,
              "#0d0887"
             ],
             [
              0.1111111111111111,
              "#46039f"
             ],
             [
              0.2222222222222222,
              "#7201a8"
             ],
             [
              0.3333333333333333,
              "#9c179e"
             ],
             [
              0.4444444444444444,
              "#bd3786"
             ],
             [
              0.5555555555555556,
              "#d8576b"
             ],
             [
              0.6666666666666666,
              "#ed7953"
             ],
             [
              0.7777777777777778,
              "#fb9f3a"
             ],
             [
              0.8888888888888888,
              "#fdca26"
             ],
             [
              1,
              "#f0f921"
             ]
            ],
            "type": "histogram2d"
           }
          ],
          "histogram2dcontour": [
           {
            "colorbar": {
             "outlinewidth": 0,
             "ticks": ""
            },
            "colorscale": [
             [
              0,
              "#0d0887"
             ],
             [
              0.1111111111111111,
              "#46039f"
             ],
             [
              0.2222222222222222,
              "#7201a8"
             ],
             [
              0.3333333333333333,
              "#9c179e"
             ],
             [
              0.4444444444444444,
              "#bd3786"
             ],
             [
              0.5555555555555556,
              "#d8576b"
             ],
             [
              0.6666666666666666,
              "#ed7953"
             ],
             [
              0.7777777777777778,
              "#fb9f3a"
             ],
             [
              0.8888888888888888,
              "#fdca26"
             ],
             [
              1,
              "#f0f921"
             ]
            ],
            "type": "histogram2dcontour"
           }
          ],
          "mesh3d": [
           {
            "colorbar": {
             "outlinewidth": 0,
             "ticks": ""
            },
            "type": "mesh3d"
           }
          ],
          "parcoords": [
           {
            "line": {
             "colorbar": {
              "outlinewidth": 0,
              "ticks": ""
             }
            },
            "type": "parcoords"
           }
          ],
          "pie": [
           {
            "automargin": true,
            "type": "pie"
           }
          ],
          "scatter": [
           {
            "marker": {
             "colorbar": {
              "outlinewidth": 0,
              "ticks": ""
             }
            },
            "type": "scatter"
           }
          ],
          "scatter3d": [
           {
            "line": {
             "colorbar": {
              "outlinewidth": 0,
              "ticks": ""
             }
            },
            "marker": {
             "colorbar": {
              "outlinewidth": 0,
              "ticks": ""
             }
            },
            "type": "scatter3d"
           }
          ],
          "scattercarpet": [
           {
            "marker": {
             "colorbar": {
              "outlinewidth": 0,
              "ticks": ""
             }
            },
            "type": "scattercarpet"
           }
          ],
          "scattergeo": [
           {
            "marker": {
             "colorbar": {
              "outlinewidth": 0,
              "ticks": ""
             }
            },
            "type": "scattergeo"
           }
          ],
          "scattergl": [
           {
            "marker": {
             "colorbar": {
              "outlinewidth": 0,
              "ticks": ""
             }
            },
            "type": "scattergl"
           }
          ],
          "scattermapbox": [
           {
            "marker": {
             "colorbar": {
              "outlinewidth": 0,
              "ticks": ""
             }
            },
            "type": "scattermapbox"
           }
          ],
          "scatterpolar": [
           {
            "marker": {
             "colorbar": {
              "outlinewidth": 0,
              "ticks": ""
             }
            },
            "type": "scatterpolar"
           }
          ],
          "scatterpolargl": [
           {
            "marker": {
             "colorbar": {
              "outlinewidth": 0,
              "ticks": ""
             }
            },
            "type": "scatterpolargl"
           }
          ],
          "scatterternary": [
           {
            "marker": {
             "colorbar": {
              "outlinewidth": 0,
              "ticks": ""
             }
            },
            "type": "scatterternary"
           }
          ],
          "surface": [
           {
            "colorbar": {
             "outlinewidth": 0,
             "ticks": ""
            },
            "colorscale": [
             [
              0,
              "#0d0887"
             ],
             [
              0.1111111111111111,
              "#46039f"
             ],
             [
              0.2222222222222222,
              "#7201a8"
             ],
             [
              0.3333333333333333,
              "#9c179e"
             ],
             [
              0.4444444444444444,
              "#bd3786"
             ],
             [
              0.5555555555555556,
              "#d8576b"
             ],
             [
              0.6666666666666666,
              "#ed7953"
             ],
             [
              0.7777777777777778,
              "#fb9f3a"
             ],
             [
              0.8888888888888888,
              "#fdca26"
             ],
             [
              1,
              "#f0f921"
             ]
            ],
            "type": "surface"
           }
          ],
          "table": [
           {
            "cells": {
             "fill": {
              "color": "#EBF0F8"
             },
             "line": {
              "color": "white"
             }
            },
            "header": {
             "fill": {
              "color": "#C8D4E3"
             },
             "line": {
              "color": "white"
             }
            },
            "type": "table"
           }
          ]
         },
         "layout": {
          "annotationdefaults": {
           "arrowcolor": "#2a3f5f",
           "arrowhead": 0,
           "arrowwidth": 1
          },
          "autotypenumbers": "strict",
          "coloraxis": {
           "colorbar": {
            "outlinewidth": 0,
            "ticks": ""
           }
          },
          "colorscale": {
           "diverging": [
            [
             0,
             "#8e0152"
            ],
            [
             0.1,
             "#c51b7d"
            ],
            [
             0.2,
             "#de77ae"
            ],
            [
             0.3,
             "#f1b6da"
            ],
            [
             0.4,
             "#fde0ef"
            ],
            [
             0.5,
             "#f7f7f7"
            ],
            [
             0.6,
             "#e6f5d0"
            ],
            [
             0.7,
             "#b8e186"
            ],
            [
             0.8,
             "#7fbc41"
            ],
            [
             0.9,
             "#4d9221"
            ],
            [
             1,
             "#276419"
            ]
           ],
           "sequential": [
            [
             0,
             "#0d0887"
            ],
            [
             0.1111111111111111,
             "#46039f"
            ],
            [
             0.2222222222222222,
             "#7201a8"
            ],
            [
             0.3333333333333333,
             "#9c179e"
            ],
            [
             0.4444444444444444,
             "#bd3786"
            ],
            [
             0.5555555555555556,
             "#d8576b"
            ],
            [
             0.6666666666666666,
             "#ed7953"
            ],
            [
             0.7777777777777778,
             "#fb9f3a"
            ],
            [
             0.8888888888888888,
             "#fdca26"
            ],
            [
             1,
             "#f0f921"
            ]
           ],
           "sequentialminus": [
            [
             0,
             "#0d0887"
            ],
            [
             0.1111111111111111,
             "#46039f"
            ],
            [
             0.2222222222222222,
             "#7201a8"
            ],
            [
             0.3333333333333333,
             "#9c179e"
            ],
            [
             0.4444444444444444,
             "#bd3786"
            ],
            [
             0.5555555555555556,
             "#d8576b"
            ],
            [
             0.6666666666666666,
             "#ed7953"
            ],
            [
             0.7777777777777778,
             "#fb9f3a"
            ],
            [
             0.8888888888888888,
             "#fdca26"
            ],
            [
             1,
             "#f0f921"
            ]
           ]
          },
          "colorway": [
           "#636efa",
           "#EF553B",
           "#00cc96",
           "#ab63fa",
           "#FFA15A",
           "#19d3f3",
           "#FF6692",
           "#B6E880",
           "#FF97FF",
           "#FECB52"
          ],
          "font": {
           "color": "#2a3f5f"
          },
          "geo": {
           "bgcolor": "white",
           "lakecolor": "white",
           "landcolor": "#E5ECF6",
           "showlakes": true,
           "showland": true,
           "subunitcolor": "white"
          },
          "hoverlabel": {
           "align": "left"
          },
          "hovermode": "closest",
          "mapbox": {
           "style": "light"
          },
          "paper_bgcolor": "white",
          "plot_bgcolor": "#E5ECF6",
          "polar": {
           "angularaxis": {
            "gridcolor": "white",
            "linecolor": "white",
            "ticks": ""
           },
           "bgcolor": "#E5ECF6",
           "radialaxis": {
            "gridcolor": "white",
            "linecolor": "white",
            "ticks": ""
           }
          },
          "scene": {
           "xaxis": {
            "backgroundcolor": "#E5ECF6",
            "gridcolor": "white",
            "gridwidth": 2,
            "linecolor": "white",
            "showbackground": true,
            "ticks": "",
            "zerolinecolor": "white"
           },
           "yaxis": {
            "backgroundcolor": "#E5ECF6",
            "gridcolor": "white",
            "gridwidth": 2,
            "linecolor": "white",
            "showbackground": true,
            "ticks": "",
            "zerolinecolor": "white"
           },
           "zaxis": {
            "backgroundcolor": "#E5ECF6",
            "gridcolor": "white",
            "gridwidth": 2,
            "linecolor": "white",
            "showbackground": true,
            "ticks": "",
            "zerolinecolor": "white"
           }
          },
          "shapedefaults": {
           "line": {
            "color": "#2a3f5f"
           }
          },
          "ternary": {
           "aaxis": {
            "gridcolor": "white",
            "linecolor": "white",
            "ticks": ""
           },
           "baxis": {
            "gridcolor": "white",
            "linecolor": "white",
            "ticks": ""
           },
           "bgcolor": "#E5ECF6",
           "caxis": {
            "gridcolor": "white",
            "linecolor": "white",
            "ticks": ""
           }
          },
          "title": {
           "x": 0.05
          },
          "xaxis": {
           "automargin": true,
           "gridcolor": "white",
           "linecolor": "white",
           "ticks": "",
           "title": {
            "standoff": 15
           },
           "zerolinecolor": "white",
           "zerolinewidth": 2
          },
          "yaxis": {
           "automargin": true,
           "gridcolor": "white",
           "linecolor": "white",
           "ticks": "",
           "title": {
            "standoff": 15
           },
           "zerolinecolor": "white",
           "zerolinewidth": 2
          }
         }
        },
        "xaxis": {
         "anchor": "y",
         "domain": [
          0,
          1
         ],
         "title": {
          "text": "x"
         }
        },
        "yaxis": {
         "anchor": "x",
         "domain": [
          0,
          1
         ],
         "title": {
          "text": "sum of y"
         }
        }
       }
      },
      "text/html": [
       "<div>                            <div id=\"ab9819d0-ac83-4f14-8cf8-b17442134096\" class=\"plotly-graph-div\" style=\"height:525px; width:100%;\"></div>            <script type=\"text/javascript\">                require([\"plotly\"], function(Plotly) {                    window.PLOTLYENV=window.PLOTLYENV || {};                                    if (document.getElementById(\"ab9819d0-ac83-4f14-8cf8-b17442134096\")) {                    Plotly.newPlot(                        \"ab9819d0-ac83-4f14-8cf8-b17442134096\",                        [{\"alignmentgroup\":\"True\",\"bingroup\":\"x\",\"histfunc\":\"sum\",\"hovertemplate\":\"color=1451-1501<br>x=%{x}<br>sum of y=%{y}<extra></extra>\",\"legendgroup\":\"1451-1501\",\"marker\":{\"color\":\"#636efa\",\"pattern\":{\"shape\":\"\"}},\"name\":\"1451-1501\",\"offsetgroup\":\"1451-1501\",\"orientation\":\"v\",\"showlegend\":true,\"x\":[\"1451-1501\"],\"xaxis\":\"x\",\"y\":[1205],\"yaxis\":\"y\",\"type\":\"histogram\"},{\"alignmentgroup\":\"True\",\"bingroup\":\"x\",\"histfunc\":\"sum\",\"hovertemplate\":\"color=1501-1551<br>x=%{x}<br>sum of y=%{y}<extra></extra>\",\"legendgroup\":\"1501-1551\",\"marker\":{\"color\":\"#EF553B\",\"pattern\":{\"shape\":\"\"}},\"name\":\"1501-1551\",\"offsetgroup\":\"1501-1551\",\"orientation\":\"v\",\"showlegend\":true,\"x\":[\"1501-1551\"],\"xaxis\":\"x\",\"y\":[1062],\"yaxis\":\"y\",\"type\":\"histogram\"},{\"alignmentgroup\":\"True\",\"bingroup\":\"x\",\"histfunc\":\"sum\",\"hovertemplate\":\"color=1601-1651<br>x=%{x}<br>sum of y=%{y}<extra></extra>\",\"legendgroup\":\"1601-1651\",\"marker\":{\"color\":\"#00cc96\",\"pattern\":{\"shape\":\"\"}},\"name\":\"1601-1651\",\"offsetgroup\":\"1601-1651\",\"orientation\":\"v\",\"showlegend\":true,\"x\":[\"1601-1651\"],\"xaxis\":\"x\",\"y\":[716],\"yaxis\":\"y\",\"type\":\"histogram\"},{\"alignmentgroup\":\"True\",\"bingroup\":\"x\",\"histfunc\":\"sum\",\"hovertemplate\":\"color=1401-1451<br>x=%{x}<br>sum of y=%{y}<extra></extra>\",\"legendgroup\":\"1401-1451\",\"marker\":{\"color\":\"#ab63fa\",\"pattern\":{\"shape\":\"\"}},\"name\":\"1401-1451\",\"offsetgroup\":\"1401-1451\",\"orientation\":\"v\",\"showlegend\":true,\"x\":[\"1401-1451\"],\"xaxis\":\"x\",\"y\":[547],\"yaxis\":\"y\",\"type\":\"histogram\"},{\"alignmentgroup\":\"True\",\"bingroup\":\"x\",\"histfunc\":\"sum\",\"hovertemplate\":\"color=1551-1601<br>x=%{x}<br>sum of y=%{y}<extra></extra>\",\"legendgroup\":\"1551-1601\",\"marker\":{\"color\":\"#FFA15A\",\"pattern\":{\"shape\":\"\"}},\"name\":\"1551-1601\",\"offsetgroup\":\"1551-1601\",\"orientation\":\"v\",\"showlegend\":true,\"x\":[\"1551-1601\"],\"xaxis\":\"x\",\"y\":[518],\"yaxis\":\"y\",\"type\":\"histogram\"},{\"alignmentgroup\":\"True\",\"bingroup\":\"x\",\"histfunc\":\"sum\",\"hovertemplate\":\"color=1301-1351<br>x=%{x}<br>sum of y=%{y}<extra></extra>\",\"legendgroup\":\"1301-1351\",\"marker\":{\"color\":\"#19d3f3\",\"pattern\":{\"shape\":\"\"}},\"name\":\"1301-1351\",\"offsetgroup\":\"1301-1351\",\"orientation\":\"v\",\"showlegend\":true,\"x\":[\"1301-1351\"],\"xaxis\":\"x\",\"y\":[451],\"yaxis\":\"y\",\"type\":\"histogram\"},{\"alignmentgroup\":\"True\",\"bingroup\":\"x\",\"histfunc\":\"sum\",\"hovertemplate\":\"color=1351-1401<br>x=%{x}<br>sum of y=%{y}<extra></extra>\",\"legendgroup\":\"1351-1401\",\"marker\":{\"color\":\"#FF6692\",\"pattern\":{\"shape\":\"\"}},\"name\":\"1351-1401\",\"offsetgroup\":\"1351-1401\",\"orientation\":\"v\",\"showlegend\":true,\"x\":[\"1351-1401\"],\"xaxis\":\"x\",\"y\":[279],\"yaxis\":\"y\",\"type\":\"histogram\"},{\"alignmentgroup\":\"True\",\"bingroup\":\"x\",\"histfunc\":\"sum\",\"hovertemplate\":\"color=1651-1701<br>x=%{x}<br>sum of y=%{y}<extra></extra>\",\"legendgroup\":\"1651-1701\",\"marker\":{\"color\":\"#B6E880\",\"pattern\":{\"shape\":\"\"}},\"name\":\"1651-1701\",\"offsetgroup\":\"1651-1701\",\"orientation\":\"v\",\"showlegend\":true,\"x\":[\"1651-1701\"],\"xaxis\":\"x\",\"y\":[232],\"yaxis\":\"y\",\"type\":\"histogram\"},{\"alignmentgroup\":\"True\",\"bingroup\":\"x\",\"histfunc\":\"sum\",\"hovertemplate\":\"color=1500-1550<br>x=%{x}<br>sum of y=%{y}<extra></extra>\",\"legendgroup\":\"1500-1550\",\"marker\":{\"color\":\"#FF97FF\",\"pattern\":{\"shape\":\"\"}},\"name\":\"1500-1550\",\"offsetgroup\":\"1500-1550\",\"orientation\":\"v\",\"showlegend\":true,\"x\":[\"1500-1550\"],\"xaxis\":\"x\",\"y\":[170],\"yaxis\":\"y\",\"type\":\"histogram\"},{\"alignmentgroup\":\"True\",\"bingroup\":\"x\",\"histfunc\":\"sum\",\"hovertemplate\":\"color=1480-1530<br>x=%{x}<br>sum of y=%{y}<extra></extra>\",\"legendgroup\":\"1480-1530\",\"marker\":{\"color\":\"#FECB52\",\"pattern\":{\"shape\":\"\"}},\"name\":\"1480-1530\",\"offsetgroup\":\"1480-1530\",\"orientation\":\"v\",\"showlegend\":true,\"x\":[\"1480-1530\"],\"xaxis\":\"x\",\"y\":[156],\"yaxis\":\"y\",\"type\":\"histogram\"},{\"alignmentgroup\":\"True\",\"bingroup\":\"x\",\"histfunc\":\"sum\",\"hovertemplate\":\"color=1701-1751<br>x=%{x}<br>sum of y=%{y}<extra></extra>\",\"legendgroup\":\"1701-1751\",\"marker\":{\"color\":\"#636efa\",\"pattern\":{\"shape\":\"\"}},\"name\":\"1701-1751\",\"offsetgroup\":\"1701-1751\",\"orientation\":\"v\",\"showlegend\":true,\"x\":[\"1701-1751\"],\"xaxis\":\"x\",\"y\":[150],\"yaxis\":\"y\",\"type\":\"histogram\"},{\"alignmentgroup\":\"True\",\"bingroup\":\"x\",\"histfunc\":\"sum\",\"hovertemplate\":\"color=1410-1460<br>x=%{x}<br>sum of y=%{y}<extra></extra>\",\"legendgroup\":\"1410-1460\",\"marker\":{\"color\":\"#EF553B\",\"pattern\":{\"shape\":\"\"}},\"name\":\"1410-1460\",\"offsetgroup\":\"1410-1460\",\"orientation\":\"v\",\"showlegend\":true,\"x\":[\"1410-1460\"],\"xaxis\":\"x\",\"y\":[131],\"yaxis\":\"y\",\"type\":\"histogram\"},{\"alignmentgroup\":\"True\",\"bingroup\":\"x\",\"histfunc\":\"sum\",\"hovertemplate\":\"color=1430-1480<br>x=%{x}<br>sum of y=%{y}<extra></extra>\",\"legendgroup\":\"1430-1480\",\"marker\":{\"color\":\"#00cc96\",\"pattern\":{\"shape\":\"\"}},\"name\":\"1430-1480\",\"offsetgroup\":\"1430-1480\",\"orientation\":\"v\",\"showlegend\":true,\"x\":[\"1430-1480\"],\"xaxis\":\"x\",\"y\":[122],\"yaxis\":\"y\",\"type\":\"histogram\"},{\"alignmentgroup\":\"True\",\"bingroup\":\"x\",\"histfunc\":\"sum\",\"hovertemplate\":\"color=1460-1510<br>x=%{x}<br>sum of y=%{y}<extra></extra>\",\"legendgroup\":\"1460-1510\",\"marker\":{\"color\":\"#ab63fa\",\"pattern\":{\"shape\":\"\"}},\"name\":\"1460-1510\",\"offsetgroup\":\"1460-1510\",\"orientation\":\"v\",\"showlegend\":true,\"x\":[\"1460-1510\"],\"xaxis\":\"x\",\"y\":[119],\"yaxis\":\"y\",\"type\":\"histogram\"}],                        {\"template\":{\"data\":{\"bar\":[{\"error_x\":{\"color\":\"#2a3f5f\"},\"error_y\":{\"color\":\"#2a3f5f\"},\"marker\":{\"line\":{\"color\":\"#E5ECF6\",\"width\":0.5},\"pattern\":{\"fillmode\":\"overlay\",\"size\":10,\"solidity\":0.2}},\"type\":\"bar\"}],\"barpolar\":[{\"marker\":{\"line\":{\"color\":\"#E5ECF6\",\"width\":0.5},\"pattern\":{\"fillmode\":\"overlay\",\"size\":10,\"solidity\":0.2}},\"type\":\"barpolar\"}],\"carpet\":[{\"aaxis\":{\"endlinecolor\":\"#2a3f5f\",\"gridcolor\":\"white\",\"linecolor\":\"white\",\"minorgridcolor\":\"white\",\"startlinecolor\":\"#2a3f5f\"},\"baxis\":{\"endlinecolor\":\"#2a3f5f\",\"gridcolor\":\"white\",\"linecolor\":\"white\",\"minorgridcolor\":\"white\",\"startlinecolor\":\"#2a3f5f\"},\"type\":\"carpet\"}],\"choropleth\":[{\"colorbar\":{\"outlinewidth\":0,\"ticks\":\"\"},\"type\":\"choropleth\"}],\"contour\":[{\"colorbar\":{\"outlinewidth\":0,\"ticks\":\"\"},\"colorscale\":[[0.0,\"#0d0887\"],[0.1111111111111111,\"#46039f\"],[0.2222222222222222,\"#7201a8\"],[0.3333333333333333,\"#9c179e\"],[0.4444444444444444,\"#bd3786\"],[0.5555555555555556,\"#d8576b\"],[0.6666666666666666,\"#ed7953\"],[0.7777777777777778,\"#fb9f3a\"],[0.8888888888888888,\"#fdca26\"],[1.0,\"#f0f921\"]],\"type\":\"contour\"}],\"contourcarpet\":[{\"colorbar\":{\"outlinewidth\":0,\"ticks\":\"\"},\"type\":\"contourcarpet\"}],\"heatmap\":[{\"colorbar\":{\"outlinewidth\":0,\"ticks\":\"\"},\"colorscale\":[[0.0,\"#0d0887\"],[0.1111111111111111,\"#46039f\"],[0.2222222222222222,\"#7201a8\"],[0.3333333333333333,\"#9c179e\"],[0.4444444444444444,\"#bd3786\"],[0.5555555555555556,\"#d8576b\"],[0.6666666666666666,\"#ed7953\"],[0.7777777777777778,\"#fb9f3a\"],[0.8888888888888888,\"#fdca26\"],[1.0,\"#f0f921\"]],\"type\":\"heatmap\"}],\"heatmapgl\":[{\"colorbar\":{\"outlinewidth\":0,\"ticks\":\"\"},\"colorscale\":[[0.0,\"#0d0887\"],[0.1111111111111111,\"#46039f\"],[0.2222222222222222,\"#7201a8\"],[0.3333333333333333,\"#9c179e\"],[0.4444444444444444,\"#bd3786\"],[0.5555555555555556,\"#d8576b\"],[0.6666666666666666,\"#ed7953\"],[0.7777777777777778,\"#fb9f3a\"],[0.8888888888888888,\"#fdca26\"],[1.0,\"#f0f921\"]],\"type\":\"heatmapgl\"}],\"histogram\":[{\"marker\":{\"pattern\":{\"fillmode\":\"overlay\",\"size\":10,\"solidity\":0.2}},\"type\":\"histogram\"}],\"histogram2d\":[{\"colorbar\":{\"outlinewidth\":0,\"ticks\":\"\"},\"colorscale\":[[0.0,\"#0d0887\"],[0.1111111111111111,\"#46039f\"],[0.2222222222222222,\"#7201a8\"],[0.3333333333333333,\"#9c179e\"],[0.4444444444444444,\"#bd3786\"],[0.5555555555555556,\"#d8576b\"],[0.6666666666666666,\"#ed7953\"],[0.7777777777777778,\"#fb9f3a\"],[0.8888888888888888,\"#fdca26\"],[1.0,\"#f0f921\"]],\"type\":\"histogram2d\"}],\"histogram2dcontour\":[{\"colorbar\":{\"outlinewidth\":0,\"ticks\":\"\"},\"colorscale\":[[0.0,\"#0d0887\"],[0.1111111111111111,\"#46039f\"],[0.2222222222222222,\"#7201a8\"],[0.3333333333333333,\"#9c179e\"],[0.4444444444444444,\"#bd3786\"],[0.5555555555555556,\"#d8576b\"],[0.6666666666666666,\"#ed7953\"],[0.7777777777777778,\"#fb9f3a\"],[0.8888888888888888,\"#fdca26\"],[1.0,\"#f0f921\"]],\"type\":\"histogram2dcontour\"}],\"mesh3d\":[{\"colorbar\":{\"outlinewidth\":0,\"ticks\":\"\"},\"type\":\"mesh3d\"}],\"parcoords\":[{\"line\":{\"colorbar\":{\"outlinewidth\":0,\"ticks\":\"\"}},\"type\":\"parcoords\"}],\"pie\":[{\"automargin\":true,\"type\":\"pie\"}],\"scatter\":[{\"marker\":{\"colorbar\":{\"outlinewidth\":0,\"ticks\":\"\"}},\"type\":\"scatter\"}],\"scatter3d\":[{\"line\":{\"colorbar\":{\"outlinewidth\":0,\"ticks\":\"\"}},\"marker\":{\"colorbar\":{\"outlinewidth\":0,\"ticks\":\"\"}},\"type\":\"scatter3d\"}],\"scattercarpet\":[{\"marker\":{\"colorbar\":{\"outlinewidth\":0,\"ticks\":\"\"}},\"type\":\"scattercarpet\"}],\"scattergeo\":[{\"marker\":{\"colorbar\":{\"outlinewidth\":0,\"ticks\":\"\"}},\"type\":\"scattergeo\"}],\"scattergl\":[{\"marker\":{\"colorbar\":{\"outlinewidth\":0,\"ticks\":\"\"}},\"type\":\"scattergl\"}],\"scattermapbox\":[{\"marker\":{\"colorbar\":{\"outlinewidth\":0,\"ticks\":\"\"}},\"type\":\"scattermapbox\"}],\"scatterpolar\":[{\"marker\":{\"colorbar\":{\"outlinewidth\":0,\"ticks\":\"\"}},\"type\":\"scatterpolar\"}],\"scatterpolargl\":[{\"marker\":{\"colorbar\":{\"outlinewidth\":0,\"ticks\":\"\"}},\"type\":\"scatterpolargl\"}],\"scatterternary\":[{\"marker\":{\"colorbar\":{\"outlinewidth\":0,\"ticks\":\"\"}},\"type\":\"scatterternary\"}],\"surface\":[{\"colorbar\":{\"outlinewidth\":0,\"ticks\":\"\"},\"colorscale\":[[0.0,\"#0d0887\"],[0.1111111111111111,\"#46039f\"],[0.2222222222222222,\"#7201a8\"],[0.3333333333333333,\"#9c179e\"],[0.4444444444444444,\"#bd3786\"],[0.5555555555555556,\"#d8576b\"],[0.6666666666666666,\"#ed7953\"],[0.7777777777777778,\"#fb9f3a\"],[0.8888888888888888,\"#fdca26\"],[1.0,\"#f0f921\"]],\"type\":\"surface\"}],\"table\":[{\"cells\":{\"fill\":{\"color\":\"#EBF0F8\"},\"line\":{\"color\":\"white\"}},\"header\":{\"fill\":{\"color\":\"#C8D4E3\"},\"line\":{\"color\":\"white\"}},\"type\":\"table\"}]},\"layout\":{\"annotationdefaults\":{\"arrowcolor\":\"#2a3f5f\",\"arrowhead\":0,\"arrowwidth\":1},\"autotypenumbers\":\"strict\",\"coloraxis\":{\"colorbar\":{\"outlinewidth\":0,\"ticks\":\"\"}},\"colorscale\":{\"diverging\":[[0,\"#8e0152\"],[0.1,\"#c51b7d\"],[0.2,\"#de77ae\"],[0.3,\"#f1b6da\"],[0.4,\"#fde0ef\"],[0.5,\"#f7f7f7\"],[0.6,\"#e6f5d0\"],[0.7,\"#b8e186\"],[0.8,\"#7fbc41\"],[0.9,\"#4d9221\"],[1,\"#276419\"]],\"sequential\":[[0.0,\"#0d0887\"],[0.1111111111111111,\"#46039f\"],[0.2222222222222222,\"#7201a8\"],[0.3333333333333333,\"#9c179e\"],[0.4444444444444444,\"#bd3786\"],[0.5555555555555556,\"#d8576b\"],[0.6666666666666666,\"#ed7953\"],[0.7777777777777778,\"#fb9f3a\"],[0.8888888888888888,\"#fdca26\"],[1.0,\"#f0f921\"]],\"sequentialminus\":[[0.0,\"#0d0887\"],[0.1111111111111111,\"#46039f\"],[0.2222222222222222,\"#7201a8\"],[0.3333333333333333,\"#9c179e\"],[0.4444444444444444,\"#bd3786\"],[0.5555555555555556,\"#d8576b\"],[0.6666666666666666,\"#ed7953\"],[0.7777777777777778,\"#fb9f3a\"],[0.8888888888888888,\"#fdca26\"],[1.0,\"#f0f921\"]]},\"colorway\":[\"#636efa\",\"#EF553B\",\"#00cc96\",\"#ab63fa\",\"#FFA15A\",\"#19d3f3\",\"#FF6692\",\"#B6E880\",\"#FF97FF\",\"#FECB52\"],\"font\":{\"color\":\"#2a3f5f\"},\"geo\":{\"bgcolor\":\"white\",\"lakecolor\":\"white\",\"landcolor\":\"#E5ECF6\",\"showlakes\":true,\"showland\":true,\"subunitcolor\":\"white\"},\"hoverlabel\":{\"align\":\"left\"},\"hovermode\":\"closest\",\"mapbox\":{\"style\":\"light\"},\"paper_bgcolor\":\"white\",\"plot_bgcolor\":\"#E5ECF6\",\"polar\":{\"angularaxis\":{\"gridcolor\":\"white\",\"linecolor\":\"white\",\"ticks\":\"\"},\"bgcolor\":\"#E5ECF6\",\"radialaxis\":{\"gridcolor\":\"white\",\"linecolor\":\"white\",\"ticks\":\"\"}},\"scene\":{\"xaxis\":{\"backgroundcolor\":\"#E5ECF6\",\"gridcolor\":\"white\",\"gridwidth\":2,\"linecolor\":\"white\",\"showbackground\":true,\"ticks\":\"\",\"zerolinecolor\":\"white\"},\"yaxis\":{\"backgroundcolor\":\"#E5ECF6\",\"gridcolor\":\"white\",\"gridwidth\":2,\"linecolor\":\"white\",\"showbackground\":true,\"ticks\":\"\",\"zerolinecolor\":\"white\"},\"zaxis\":{\"backgroundcolor\":\"#E5ECF6\",\"gridcolor\":\"white\",\"gridwidth\":2,\"linecolor\":\"white\",\"showbackground\":true,\"ticks\":\"\",\"zerolinecolor\":\"white\"}},\"shapedefaults\":{\"line\":{\"color\":\"#2a3f5f\"}},\"ternary\":{\"aaxis\":{\"gridcolor\":\"white\",\"linecolor\":\"white\",\"ticks\":\"\"},\"baxis\":{\"gridcolor\":\"white\",\"linecolor\":\"white\",\"ticks\":\"\"},\"bgcolor\":\"#E5ECF6\",\"caxis\":{\"gridcolor\":\"white\",\"linecolor\":\"white\",\"ticks\":\"\"}},\"title\":{\"x\":0.05},\"xaxis\":{\"automargin\":true,\"gridcolor\":\"white\",\"linecolor\":\"white\",\"ticks\":\"\",\"title\":{\"standoff\":15},\"zerolinecolor\":\"white\",\"zerolinewidth\":2},\"yaxis\":{\"automargin\":true,\"gridcolor\":\"white\",\"linecolor\":\"white\",\"ticks\":\"\",\"title\":{\"standoff\":15},\"zerolinecolor\":\"white\",\"zerolinewidth\":2}}},\"xaxis\":{\"anchor\":\"y\",\"domain\":[0.0,1.0],\"title\":{\"text\":\"x\"}},\"yaxis\":{\"anchor\":\"x\",\"domain\":[0.0,1.0],\"title\":{\"text\":\"sum of y\"}},\"legend\":{\"title\":{\"text\":\"color\"},\"tracegroupgap\":0},\"margin\":{\"t\":60},\"barmode\":\"relative\"},                        {\"responsive\": true}                    ).then(function(){\n",
       "                            \n",
       "var gd = document.getElementById('ab9819d0-ac83-4f14-8cf8-b17442134096');\n",
       "var x = new MutationObserver(function (mutations, observer) {{\n",
       "        var display = window.getComputedStyle(gd).display;\n",
       "        if (!display || display === 'none') {{\n",
       "            console.log([gd, 'removed!']);\n",
       "            Plotly.purge(gd);\n",
       "            observer.disconnect();\n",
       "        }}\n",
       "}});\n",
       "\n",
       "// Listen for the removal of the full notebook cells\n",
       "var notebookContainer = gd.closest('#notebook-container');\n",
       "if (notebookContainer) {{\n",
       "    x.observe(notebookContainer, {childList: true});\n",
       "}}\n",
       "\n",
       "// Listen for the clearing of the current output cell\n",
       "var outputEl = gd.closest('.output');\n",
       "if (outputEl) {{\n",
       "    x.observe(outputEl, {childList: true});\n",
       "}}\n",
       "\n",
       "                        })                };                });            </script>        </div>"
      ]
     },
     "metadata": {},
     "output_type": "display_data"
    }
   ],
   "source": [
    "px.histogram(x = keys, y = values, color = keys)"
   ]
  },
  {
   "cell_type": "code",
   "execution_count": 22,
   "id": "a37a560e",
   "metadata": {},
   "outputs": [
    {
     "data": {
      "text/plain": [
       "['a', '1430/34']"
      ]
     },
     "execution_count": 22,
     "metadata": {},
     "output_type": "execute_result"
    }
   ],
   "source": [
    "metadata_df.TIMEFRAME.iloc[7000].split(\" \")[-1]"
   ]
  },
  {
   "cell_type": "code",
   "execution_count": 32,
   "id": "e9f5c465",
   "metadata": {},
   "outputs": [],
   "source": [
    "def retrieve_timeline(row):\n",
    "    try:\n",
    "        return row.split(\" \")[-1][:4]\n",
    "    except:\n",
    "        pass\n",
    "    "
   ]
  },
  {
   "cell_type": "code",
   "execution_count": 33,
   "id": "34c6551d",
   "metadata": {},
   "outputs": [],
   "source": [
    "metadata_df['TIMEFRAME_ABS'] = metadata_df.TIMEFRAME.apply(retrieve_timeline)"
   ]
  },
  {
   "cell_type": "code",
   "execution_count": 35,
   "id": "cc9bf330",
   "metadata": {},
   "outputs": [
    {
     "data": {
      "text/plain": [
       "8867"
      ]
     },
     "execution_count": 35,
     "metadata": {},
     "output_type": "execute_result"
    }
   ],
   "source": [
    "metadata_df['TIMEFRAME_ABS'].value_counts().sum()"
   ]
  },
  {
   "cell_type": "code",
   "execution_count": 57,
   "id": "96475b6e",
   "metadata": {},
   "outputs": [
    {
     "data": {
      "text/plain": [
       "0                            Oil on wood, 55,5 x 76 cm cm\n",
       "1                              Oil on panel, 126 x 200 cm\n",
       "2                                             Oil on wood\n",
       "3                                             Oil on wood\n",
       "4                                             Oil on wood\n",
       "                              ...                        \n",
       "9498                                            engraving\n",
       "9499                              woodcut [restrike 1968]\n",
       "9500                                  miniature on vellum\n",
       "9501    pen and brown-black ink over black chalk on la...\n",
       "9502                                              woodcut\n",
       "Name: TECHNIQUE, Length: 9503, dtype: object"
      ]
     },
     "execution_count": 57,
     "metadata": {},
     "output_type": "execute_result"
    }
   ],
   "source": [
    "metadata_df.TECHNIQUE"
   ]
  },
  {
   "cell_type": "code",
   "execution_count": 67,
   "id": "98eb0059",
   "metadata": {},
   "outputs": [],
   "source": [
    "metadata_df['TECHNIQUE'] = metadata_df['TECHNIQUE'].fillna(\"Unknown\")"
   ]
  },
  {
   "cell_type": "code",
   "execution_count": 68,
   "id": "0c1ed931",
   "metadata": {},
   "outputs": [],
   "source": [
    "keys = metadata_df['TECHNIQUE'].value_counts().keys()\n",
    "values = metadata_df['TECHNIQUE'].value_counts().values"
   ]
  },
  {
   "cell_type": "code",
   "execution_count": 69,
   "id": "efea2d10",
   "metadata": {},
   "outputs": [
    {
     "data": {
      "text/plain": [
       "array([1120,  694,  425, ...,    1,    1,    1])"
      ]
     },
     "execution_count": 69,
     "metadata": {},
     "output_type": "execute_result"
    }
   ],
   "source": [
    "values"
   ]
  },
  {
   "cell_type": "code",
   "execution_count": 79,
   "id": "0d58d9d5",
   "metadata": {},
   "outputs": [
    {
     "data": {
      "application/vnd.plotly.v1+json": {
       "config": {
        "plotlyServerURL": "https://plot.ly"
       },
       "data": [
        {
         "hoverinfo": "label+percent",
         "labels": [
          "Transmitted light front single shot",
          "Fresco",
          "Oil on canvas",
          "",
          "Transmitted light front detail",
          "Oil on wood",
          "woodcut",
          "engraving",
          "Tempera on wood",
          "Transmitted light from the front, overall picture",
          "Transmitted front detail",
          "Oil on panel",
          "Panel",
          "Tempera on panel",
          "Tempera on wood, gold ground"
         ],
         "marker": {
          "colors": [
           "gold",
           "mediumturquoise",
           "darkorange",
           "lightgreen"
          ],
          "line": {
           "color": "#000000",
           "width": 2
          }
         },
         "pull": [
          0,
          0,
          0.2,
          0
         ],
         "textfont": {
          "size": 20
         },
         "textinfo": "value",
         "type": "pie",
         "values": [
          1120,
          694,
          425,
          262,
          248,
          177,
          154,
          151,
          146,
          143,
          110,
          106,
          86,
          85,
          84
         ]
        }
       ],
       "layout": {
        "template": {
         "data": {
          "bar": [
           {
            "error_x": {
             "color": "#2a3f5f"
            },
            "error_y": {
             "color": "#2a3f5f"
            },
            "marker": {
             "line": {
              "color": "#E5ECF6",
              "width": 0.5
             },
             "pattern": {
              "fillmode": "overlay",
              "size": 10,
              "solidity": 0.2
             }
            },
            "type": "bar"
           }
          ],
          "barpolar": [
           {
            "marker": {
             "line": {
              "color": "#E5ECF6",
              "width": 0.5
             },
             "pattern": {
              "fillmode": "overlay",
              "size": 10,
              "solidity": 0.2
             }
            },
            "type": "barpolar"
           }
          ],
          "carpet": [
           {
            "aaxis": {
             "endlinecolor": "#2a3f5f",
             "gridcolor": "white",
             "linecolor": "white",
             "minorgridcolor": "white",
             "startlinecolor": "#2a3f5f"
            },
            "baxis": {
             "endlinecolor": "#2a3f5f",
             "gridcolor": "white",
             "linecolor": "white",
             "minorgridcolor": "white",
             "startlinecolor": "#2a3f5f"
            },
            "type": "carpet"
           }
          ],
          "choropleth": [
           {
            "colorbar": {
             "outlinewidth": 0,
             "ticks": ""
            },
            "type": "choropleth"
           }
          ],
          "contour": [
           {
            "colorbar": {
             "outlinewidth": 0,
             "ticks": ""
            },
            "colorscale": [
             [
              0,
              "#0d0887"
             ],
             [
              0.1111111111111111,
              "#46039f"
             ],
             [
              0.2222222222222222,
              "#7201a8"
             ],
             [
              0.3333333333333333,
              "#9c179e"
             ],
             [
              0.4444444444444444,
              "#bd3786"
             ],
             [
              0.5555555555555556,
              "#d8576b"
             ],
             [
              0.6666666666666666,
              "#ed7953"
             ],
             [
              0.7777777777777778,
              "#fb9f3a"
             ],
             [
              0.8888888888888888,
              "#fdca26"
             ],
             [
              1,
              "#f0f921"
             ]
            ],
            "type": "contour"
           }
          ],
          "contourcarpet": [
           {
            "colorbar": {
             "outlinewidth": 0,
             "ticks": ""
            },
            "type": "contourcarpet"
           }
          ],
          "heatmap": [
           {
            "colorbar": {
             "outlinewidth": 0,
             "ticks": ""
            },
            "colorscale": [
             [
              0,
              "#0d0887"
             ],
             [
              0.1111111111111111,
              "#46039f"
             ],
             [
              0.2222222222222222,
              "#7201a8"
             ],
             [
              0.3333333333333333,
              "#9c179e"
             ],
             [
              0.4444444444444444,
              "#bd3786"
             ],
             [
              0.5555555555555556,
              "#d8576b"
             ],
             [
              0.6666666666666666,
              "#ed7953"
             ],
             [
              0.7777777777777778,
              "#fb9f3a"
             ],
             [
              0.8888888888888888,
              "#fdca26"
             ],
             [
              1,
              "#f0f921"
             ]
            ],
            "type": "heatmap"
           }
          ],
          "heatmapgl": [
           {
            "colorbar": {
             "outlinewidth": 0,
             "ticks": ""
            },
            "colorscale": [
             [
              0,
              "#0d0887"
             ],
             [
              0.1111111111111111,
              "#46039f"
             ],
             [
              0.2222222222222222,
              "#7201a8"
             ],
             [
              0.3333333333333333,
              "#9c179e"
             ],
             [
              0.4444444444444444,
              "#bd3786"
             ],
             [
              0.5555555555555556,
              "#d8576b"
             ],
             [
              0.6666666666666666,
              "#ed7953"
             ],
             [
              0.7777777777777778,
              "#fb9f3a"
             ],
             [
              0.8888888888888888,
              "#fdca26"
             ],
             [
              1,
              "#f0f921"
             ]
            ],
            "type": "heatmapgl"
           }
          ],
          "histogram": [
           {
            "marker": {
             "pattern": {
              "fillmode": "overlay",
              "size": 10,
              "solidity": 0.2
             }
            },
            "type": "histogram"
           }
          ],
          "histogram2d": [
           {
            "colorbar": {
             "outlinewidth": 0,
             "ticks": ""
            },
            "colorscale": [
             [
              0,
              "#0d0887"
             ],
             [
              0.1111111111111111,
              "#46039f"
             ],
             [
              0.2222222222222222,
              "#7201a8"
             ],
             [
              0.3333333333333333,
              "#9c179e"
             ],
             [
              0.4444444444444444,
              "#bd3786"
             ],
             [
              0.5555555555555556,
              "#d8576b"
             ],
             [
              0.6666666666666666,
              "#ed7953"
             ],
             [
              0.7777777777777778,
              "#fb9f3a"
             ],
             [
              0.8888888888888888,
              "#fdca26"
             ],
             [
              1,
              "#f0f921"
             ]
            ],
            "type": "histogram2d"
           }
          ],
          "histogram2dcontour": [
           {
            "colorbar": {
             "outlinewidth": 0,
             "ticks": ""
            },
            "colorscale": [
             [
              0,
              "#0d0887"
             ],
             [
              0.1111111111111111,
              "#46039f"
             ],
             [
              0.2222222222222222,
              "#7201a8"
             ],
             [
              0.3333333333333333,
              "#9c179e"
             ],
             [
              0.4444444444444444,
              "#bd3786"
             ],
             [
              0.5555555555555556,
              "#d8576b"
             ],
             [
              0.6666666666666666,
              "#ed7953"
             ],
             [
              0.7777777777777778,
              "#fb9f3a"
             ],
             [
              0.8888888888888888,
              "#fdca26"
             ],
             [
              1,
              "#f0f921"
             ]
            ],
            "type": "histogram2dcontour"
           }
          ],
          "mesh3d": [
           {
            "colorbar": {
             "outlinewidth": 0,
             "ticks": ""
            },
            "type": "mesh3d"
           }
          ],
          "parcoords": [
           {
            "line": {
             "colorbar": {
              "outlinewidth": 0,
              "ticks": ""
             }
            },
            "type": "parcoords"
           }
          ],
          "pie": [
           {
            "automargin": true,
            "type": "pie"
           }
          ],
          "scatter": [
           {
            "marker": {
             "colorbar": {
              "outlinewidth": 0,
              "ticks": ""
             }
            },
            "type": "scatter"
           }
          ],
          "scatter3d": [
           {
            "line": {
             "colorbar": {
              "outlinewidth": 0,
              "ticks": ""
             }
            },
            "marker": {
             "colorbar": {
              "outlinewidth": 0,
              "ticks": ""
             }
            },
            "type": "scatter3d"
           }
          ],
          "scattercarpet": [
           {
            "marker": {
             "colorbar": {
              "outlinewidth": 0,
              "ticks": ""
             }
            },
            "type": "scattercarpet"
           }
          ],
          "scattergeo": [
           {
            "marker": {
             "colorbar": {
              "outlinewidth": 0,
              "ticks": ""
             }
            },
            "type": "scattergeo"
           }
          ],
          "scattergl": [
           {
            "marker": {
             "colorbar": {
              "outlinewidth": 0,
              "ticks": ""
             }
            },
            "type": "scattergl"
           }
          ],
          "scattermapbox": [
           {
            "marker": {
             "colorbar": {
              "outlinewidth": 0,
              "ticks": ""
             }
            },
            "type": "scattermapbox"
           }
          ],
          "scatterpolar": [
           {
            "marker": {
             "colorbar": {
              "outlinewidth": 0,
              "ticks": ""
             }
            },
            "type": "scatterpolar"
           }
          ],
          "scatterpolargl": [
           {
            "marker": {
             "colorbar": {
              "outlinewidth": 0,
              "ticks": ""
             }
            },
            "type": "scatterpolargl"
           }
          ],
          "scatterternary": [
           {
            "marker": {
             "colorbar": {
              "outlinewidth": 0,
              "ticks": ""
             }
            },
            "type": "scatterternary"
           }
          ],
          "surface": [
           {
            "colorbar": {
             "outlinewidth": 0,
             "ticks": ""
            },
            "colorscale": [
             [
              0,
              "#0d0887"
             ],
             [
              0.1111111111111111,
              "#46039f"
             ],
             [
              0.2222222222222222,
              "#7201a8"
             ],
             [
              0.3333333333333333,
              "#9c179e"
             ],
             [
              0.4444444444444444,
              "#bd3786"
             ],
             [
              0.5555555555555556,
              "#d8576b"
             ],
             [
              0.6666666666666666,
              "#ed7953"
             ],
             [
              0.7777777777777778,
              "#fb9f3a"
             ],
             [
              0.8888888888888888,
              "#fdca26"
             ],
             [
              1,
              "#f0f921"
             ]
            ],
            "type": "surface"
           }
          ],
          "table": [
           {
            "cells": {
             "fill": {
              "color": "#EBF0F8"
             },
             "line": {
              "color": "white"
             }
            },
            "header": {
             "fill": {
              "color": "#C8D4E3"
             },
             "line": {
              "color": "white"
             }
            },
            "type": "table"
           }
          ]
         },
         "layout": {
          "annotationdefaults": {
           "arrowcolor": "#2a3f5f",
           "arrowhead": 0,
           "arrowwidth": 1
          },
          "autotypenumbers": "strict",
          "coloraxis": {
           "colorbar": {
            "outlinewidth": 0,
            "ticks": ""
           }
          },
          "colorscale": {
           "diverging": [
            [
             0,
             "#8e0152"
            ],
            [
             0.1,
             "#c51b7d"
            ],
            [
             0.2,
             "#de77ae"
            ],
            [
             0.3,
             "#f1b6da"
            ],
            [
             0.4,
             "#fde0ef"
            ],
            [
             0.5,
             "#f7f7f7"
            ],
            [
             0.6,
             "#e6f5d0"
            ],
            [
             0.7,
             "#b8e186"
            ],
            [
             0.8,
             "#7fbc41"
            ],
            [
             0.9,
             "#4d9221"
            ],
            [
             1,
             "#276419"
            ]
           ],
           "sequential": [
            [
             0,
             "#0d0887"
            ],
            [
             0.1111111111111111,
             "#46039f"
            ],
            [
             0.2222222222222222,
             "#7201a8"
            ],
            [
             0.3333333333333333,
             "#9c179e"
            ],
            [
             0.4444444444444444,
             "#bd3786"
            ],
            [
             0.5555555555555556,
             "#d8576b"
            ],
            [
             0.6666666666666666,
             "#ed7953"
            ],
            [
             0.7777777777777778,
             "#fb9f3a"
            ],
            [
             0.8888888888888888,
             "#fdca26"
            ],
            [
             1,
             "#f0f921"
            ]
           ],
           "sequentialminus": [
            [
             0,
             "#0d0887"
            ],
            [
             0.1111111111111111,
             "#46039f"
            ],
            [
             0.2222222222222222,
             "#7201a8"
            ],
            [
             0.3333333333333333,
             "#9c179e"
            ],
            [
             0.4444444444444444,
             "#bd3786"
            ],
            [
             0.5555555555555556,
             "#d8576b"
            ],
            [
             0.6666666666666666,
             "#ed7953"
            ],
            [
             0.7777777777777778,
             "#fb9f3a"
            ],
            [
             0.8888888888888888,
             "#fdca26"
            ],
            [
             1,
             "#f0f921"
            ]
           ]
          },
          "colorway": [
           "#636efa",
           "#EF553B",
           "#00cc96",
           "#ab63fa",
           "#FFA15A",
           "#19d3f3",
           "#FF6692",
           "#B6E880",
           "#FF97FF",
           "#FECB52"
          ],
          "font": {
           "color": "#2a3f5f"
          },
          "geo": {
           "bgcolor": "white",
           "lakecolor": "white",
           "landcolor": "#E5ECF6",
           "showlakes": true,
           "showland": true,
           "subunitcolor": "white"
          },
          "hoverlabel": {
           "align": "left"
          },
          "hovermode": "closest",
          "mapbox": {
           "style": "light"
          },
          "paper_bgcolor": "white",
          "plot_bgcolor": "#E5ECF6",
          "polar": {
           "angularaxis": {
            "gridcolor": "white",
            "linecolor": "white",
            "ticks": ""
           },
           "bgcolor": "#E5ECF6",
           "radialaxis": {
            "gridcolor": "white",
            "linecolor": "white",
            "ticks": ""
           }
          },
          "scene": {
           "xaxis": {
            "backgroundcolor": "#E5ECF6",
            "gridcolor": "white",
            "gridwidth": 2,
            "linecolor": "white",
            "showbackground": true,
            "ticks": "",
            "zerolinecolor": "white"
           },
           "yaxis": {
            "backgroundcolor": "#E5ECF6",
            "gridcolor": "white",
            "gridwidth": 2,
            "linecolor": "white",
            "showbackground": true,
            "ticks": "",
            "zerolinecolor": "white"
           },
           "zaxis": {
            "backgroundcolor": "#E5ECF6",
            "gridcolor": "white",
            "gridwidth": 2,
            "linecolor": "white",
            "showbackground": true,
            "ticks": "",
            "zerolinecolor": "white"
           }
          },
          "shapedefaults": {
           "line": {
            "color": "#2a3f5f"
           }
          },
          "ternary": {
           "aaxis": {
            "gridcolor": "white",
            "linecolor": "white",
            "ticks": ""
           },
           "baxis": {
            "gridcolor": "white",
            "linecolor": "white",
            "ticks": ""
           },
           "bgcolor": "#E5ECF6",
           "caxis": {
            "gridcolor": "white",
            "linecolor": "white",
            "ticks": ""
           }
          },
          "title": {
           "x": 0.05
          },
          "xaxis": {
           "automargin": true,
           "gridcolor": "white",
           "linecolor": "white",
           "ticks": "",
           "title": {
            "standoff": 15
           },
           "zerolinecolor": "white",
           "zerolinewidth": 2
          },
          "yaxis": {
           "automargin": true,
           "gridcolor": "white",
           "linecolor": "white",
           "ticks": "",
           "title": {
            "standoff": 15
           },
           "zerolinecolor": "white",
           "zerolinewidth": 2
          }
         }
        }
       }
      },
      "text/html": [
       "<div>                            <div id=\"bebb0646-9d5b-47dc-a273-60b0eea5fdf7\" class=\"plotly-graph-div\" style=\"height:525px; width:100%;\"></div>            <script type=\"text/javascript\">                require([\"plotly\"], function(Plotly) {                    window.PLOTLYENV=window.PLOTLYENV || {};                                    if (document.getElementById(\"bebb0646-9d5b-47dc-a273-60b0eea5fdf7\")) {                    Plotly.newPlot(                        \"bebb0646-9d5b-47dc-a273-60b0eea5fdf7\",                        [{\"labels\":[\"Transmitted light front single shot\",\"Fresco\",\"Oil on canvas\",\"\",\"Transmitted light front detail\",\"Oil on wood\",\"woodcut\",\"engraving\",\"Tempera on wood\",\"Transmitted light from the front, overall picture\",\"Transmitted front detail\",\"Oil on panel\",\"Panel\",\"Tempera on panel\",\"Tempera on wood, gold ground\"],\"pull\":[0,0,0.2,0],\"values\":[1120,694,425,262,248,177,154,151,146,143,110,106,86,85,84],\"type\":\"pie\",\"textfont\":{\"size\":20},\"marker\":{\"line\":{\"color\":\"#000000\",\"width\":2},\"colors\":[\"gold\",\"mediumturquoise\",\"darkorange\",\"lightgreen\"]},\"hoverinfo\":\"label+percent\",\"textinfo\":\"value\"}],                        {\"template\":{\"data\":{\"bar\":[{\"error_x\":{\"color\":\"#2a3f5f\"},\"error_y\":{\"color\":\"#2a3f5f\"},\"marker\":{\"line\":{\"color\":\"#E5ECF6\",\"width\":0.5},\"pattern\":{\"fillmode\":\"overlay\",\"size\":10,\"solidity\":0.2}},\"type\":\"bar\"}],\"barpolar\":[{\"marker\":{\"line\":{\"color\":\"#E5ECF6\",\"width\":0.5},\"pattern\":{\"fillmode\":\"overlay\",\"size\":10,\"solidity\":0.2}},\"type\":\"barpolar\"}],\"carpet\":[{\"aaxis\":{\"endlinecolor\":\"#2a3f5f\",\"gridcolor\":\"white\",\"linecolor\":\"white\",\"minorgridcolor\":\"white\",\"startlinecolor\":\"#2a3f5f\"},\"baxis\":{\"endlinecolor\":\"#2a3f5f\",\"gridcolor\":\"white\",\"linecolor\":\"white\",\"minorgridcolor\":\"white\",\"startlinecolor\":\"#2a3f5f\"},\"type\":\"carpet\"}],\"choropleth\":[{\"colorbar\":{\"outlinewidth\":0,\"ticks\":\"\"},\"type\":\"choropleth\"}],\"contour\":[{\"colorbar\":{\"outlinewidth\":0,\"ticks\":\"\"},\"colorscale\":[[0.0,\"#0d0887\"],[0.1111111111111111,\"#46039f\"],[0.2222222222222222,\"#7201a8\"],[0.3333333333333333,\"#9c179e\"],[0.4444444444444444,\"#bd3786\"],[0.5555555555555556,\"#d8576b\"],[0.6666666666666666,\"#ed7953\"],[0.7777777777777778,\"#fb9f3a\"],[0.8888888888888888,\"#fdca26\"],[1.0,\"#f0f921\"]],\"type\":\"contour\"}],\"contourcarpet\":[{\"colorbar\":{\"outlinewidth\":0,\"ticks\":\"\"},\"type\":\"contourcarpet\"}],\"heatmap\":[{\"colorbar\":{\"outlinewidth\":0,\"ticks\":\"\"},\"colorscale\":[[0.0,\"#0d0887\"],[0.1111111111111111,\"#46039f\"],[0.2222222222222222,\"#7201a8\"],[0.3333333333333333,\"#9c179e\"],[0.4444444444444444,\"#bd3786\"],[0.5555555555555556,\"#d8576b\"],[0.6666666666666666,\"#ed7953\"],[0.7777777777777778,\"#fb9f3a\"],[0.8888888888888888,\"#fdca26\"],[1.0,\"#f0f921\"]],\"type\":\"heatmap\"}],\"heatmapgl\":[{\"colorbar\":{\"outlinewidth\":0,\"ticks\":\"\"},\"colorscale\":[[0.0,\"#0d0887\"],[0.1111111111111111,\"#46039f\"],[0.2222222222222222,\"#7201a8\"],[0.3333333333333333,\"#9c179e\"],[0.4444444444444444,\"#bd3786\"],[0.5555555555555556,\"#d8576b\"],[0.6666666666666666,\"#ed7953\"],[0.7777777777777778,\"#fb9f3a\"],[0.8888888888888888,\"#fdca26\"],[1.0,\"#f0f921\"]],\"type\":\"heatmapgl\"}],\"histogram\":[{\"marker\":{\"pattern\":{\"fillmode\":\"overlay\",\"size\":10,\"solidity\":0.2}},\"type\":\"histogram\"}],\"histogram2d\":[{\"colorbar\":{\"outlinewidth\":0,\"ticks\":\"\"},\"colorscale\":[[0.0,\"#0d0887\"],[0.1111111111111111,\"#46039f\"],[0.2222222222222222,\"#7201a8\"],[0.3333333333333333,\"#9c179e\"],[0.4444444444444444,\"#bd3786\"],[0.5555555555555556,\"#d8576b\"],[0.6666666666666666,\"#ed7953\"],[0.7777777777777778,\"#fb9f3a\"],[0.8888888888888888,\"#fdca26\"],[1.0,\"#f0f921\"]],\"type\":\"histogram2d\"}],\"histogram2dcontour\":[{\"colorbar\":{\"outlinewidth\":0,\"ticks\":\"\"},\"colorscale\":[[0.0,\"#0d0887\"],[0.1111111111111111,\"#46039f\"],[0.2222222222222222,\"#7201a8\"],[0.3333333333333333,\"#9c179e\"],[0.4444444444444444,\"#bd3786\"],[0.5555555555555556,\"#d8576b\"],[0.6666666666666666,\"#ed7953\"],[0.7777777777777778,\"#fb9f3a\"],[0.8888888888888888,\"#fdca26\"],[1.0,\"#f0f921\"]],\"type\":\"histogram2dcontour\"}],\"mesh3d\":[{\"colorbar\":{\"outlinewidth\":0,\"ticks\":\"\"},\"type\":\"mesh3d\"}],\"parcoords\":[{\"line\":{\"colorbar\":{\"outlinewidth\":0,\"ticks\":\"\"}},\"type\":\"parcoords\"}],\"pie\":[{\"automargin\":true,\"type\":\"pie\"}],\"scatter\":[{\"marker\":{\"colorbar\":{\"outlinewidth\":0,\"ticks\":\"\"}},\"type\":\"scatter\"}],\"scatter3d\":[{\"line\":{\"colorbar\":{\"outlinewidth\":0,\"ticks\":\"\"}},\"marker\":{\"colorbar\":{\"outlinewidth\":0,\"ticks\":\"\"}},\"type\":\"scatter3d\"}],\"scattercarpet\":[{\"marker\":{\"colorbar\":{\"outlinewidth\":0,\"ticks\":\"\"}},\"type\":\"scattercarpet\"}],\"scattergeo\":[{\"marker\":{\"colorbar\":{\"outlinewidth\":0,\"ticks\":\"\"}},\"type\":\"scattergeo\"}],\"scattergl\":[{\"marker\":{\"colorbar\":{\"outlinewidth\":0,\"ticks\":\"\"}},\"type\":\"scattergl\"}],\"scattermapbox\":[{\"marker\":{\"colorbar\":{\"outlinewidth\":0,\"ticks\":\"\"}},\"type\":\"scattermapbox\"}],\"scatterpolar\":[{\"marker\":{\"colorbar\":{\"outlinewidth\":0,\"ticks\":\"\"}},\"type\":\"scatterpolar\"}],\"scatterpolargl\":[{\"marker\":{\"colorbar\":{\"outlinewidth\":0,\"ticks\":\"\"}},\"type\":\"scatterpolargl\"}],\"scatterternary\":[{\"marker\":{\"colorbar\":{\"outlinewidth\":0,\"ticks\":\"\"}},\"type\":\"scatterternary\"}],\"surface\":[{\"colorbar\":{\"outlinewidth\":0,\"ticks\":\"\"},\"colorscale\":[[0.0,\"#0d0887\"],[0.1111111111111111,\"#46039f\"],[0.2222222222222222,\"#7201a8\"],[0.3333333333333333,\"#9c179e\"],[0.4444444444444444,\"#bd3786\"],[0.5555555555555556,\"#d8576b\"],[0.6666666666666666,\"#ed7953\"],[0.7777777777777778,\"#fb9f3a\"],[0.8888888888888888,\"#fdca26\"],[1.0,\"#f0f921\"]],\"type\":\"surface\"}],\"table\":[{\"cells\":{\"fill\":{\"color\":\"#EBF0F8\"},\"line\":{\"color\":\"white\"}},\"header\":{\"fill\":{\"color\":\"#C8D4E3\"},\"line\":{\"color\":\"white\"}},\"type\":\"table\"}]},\"layout\":{\"annotationdefaults\":{\"arrowcolor\":\"#2a3f5f\",\"arrowhead\":0,\"arrowwidth\":1},\"autotypenumbers\":\"strict\",\"coloraxis\":{\"colorbar\":{\"outlinewidth\":0,\"ticks\":\"\"}},\"colorscale\":{\"diverging\":[[0,\"#8e0152\"],[0.1,\"#c51b7d\"],[0.2,\"#de77ae\"],[0.3,\"#f1b6da\"],[0.4,\"#fde0ef\"],[0.5,\"#f7f7f7\"],[0.6,\"#e6f5d0\"],[0.7,\"#b8e186\"],[0.8,\"#7fbc41\"],[0.9,\"#4d9221\"],[1,\"#276419\"]],\"sequential\":[[0.0,\"#0d0887\"],[0.1111111111111111,\"#46039f\"],[0.2222222222222222,\"#7201a8\"],[0.3333333333333333,\"#9c179e\"],[0.4444444444444444,\"#bd3786\"],[0.5555555555555556,\"#d8576b\"],[0.6666666666666666,\"#ed7953\"],[0.7777777777777778,\"#fb9f3a\"],[0.8888888888888888,\"#fdca26\"],[1.0,\"#f0f921\"]],\"sequentialminus\":[[0.0,\"#0d0887\"],[0.1111111111111111,\"#46039f\"],[0.2222222222222222,\"#7201a8\"],[0.3333333333333333,\"#9c179e\"],[0.4444444444444444,\"#bd3786\"],[0.5555555555555556,\"#d8576b\"],[0.6666666666666666,\"#ed7953\"],[0.7777777777777778,\"#fb9f3a\"],[0.8888888888888888,\"#fdca26\"],[1.0,\"#f0f921\"]]},\"colorway\":[\"#636efa\",\"#EF553B\",\"#00cc96\",\"#ab63fa\",\"#FFA15A\",\"#19d3f3\",\"#FF6692\",\"#B6E880\",\"#FF97FF\",\"#FECB52\"],\"font\":{\"color\":\"#2a3f5f\"},\"geo\":{\"bgcolor\":\"white\",\"lakecolor\":\"white\",\"landcolor\":\"#E5ECF6\",\"showlakes\":true,\"showland\":true,\"subunitcolor\":\"white\"},\"hoverlabel\":{\"align\":\"left\"},\"hovermode\":\"closest\",\"mapbox\":{\"style\":\"light\"},\"paper_bgcolor\":\"white\",\"plot_bgcolor\":\"#E5ECF6\",\"polar\":{\"angularaxis\":{\"gridcolor\":\"white\",\"linecolor\":\"white\",\"ticks\":\"\"},\"bgcolor\":\"#E5ECF6\",\"radialaxis\":{\"gridcolor\":\"white\",\"linecolor\":\"white\",\"ticks\":\"\"}},\"scene\":{\"xaxis\":{\"backgroundcolor\":\"#E5ECF6\",\"gridcolor\":\"white\",\"gridwidth\":2,\"linecolor\":\"white\",\"showbackground\":true,\"ticks\":\"\",\"zerolinecolor\":\"white\"},\"yaxis\":{\"backgroundcolor\":\"#E5ECF6\",\"gridcolor\":\"white\",\"gridwidth\":2,\"linecolor\":\"white\",\"showbackground\":true,\"ticks\":\"\",\"zerolinecolor\":\"white\"},\"zaxis\":{\"backgroundcolor\":\"#E5ECF6\",\"gridcolor\":\"white\",\"gridwidth\":2,\"linecolor\":\"white\",\"showbackground\":true,\"ticks\":\"\",\"zerolinecolor\":\"white\"}},\"shapedefaults\":{\"line\":{\"color\":\"#2a3f5f\"}},\"ternary\":{\"aaxis\":{\"gridcolor\":\"white\",\"linecolor\":\"white\",\"ticks\":\"\"},\"baxis\":{\"gridcolor\":\"white\",\"linecolor\":\"white\",\"ticks\":\"\"},\"bgcolor\":\"#E5ECF6\",\"caxis\":{\"gridcolor\":\"white\",\"linecolor\":\"white\",\"ticks\":\"\"}},\"title\":{\"x\":0.05},\"xaxis\":{\"automargin\":true,\"gridcolor\":\"white\",\"linecolor\":\"white\",\"ticks\":\"\",\"title\":{\"standoff\":15},\"zerolinecolor\":\"white\",\"zerolinewidth\":2},\"yaxis\":{\"automargin\":true,\"gridcolor\":\"white\",\"linecolor\":\"white\",\"ticks\":\"\",\"title\":{\"standoff\":15},\"zerolinecolor\":\"white\",\"zerolinewidth\":2}}}},                        {\"responsive\": true}                    ).then(function(){\n",
       "                            \n",
       "var gd = document.getElementById('bebb0646-9d5b-47dc-a273-60b0eea5fdf7');\n",
       "var x = new MutationObserver(function (mutations, observer) {{\n",
       "        var display = window.getComputedStyle(gd).display;\n",
       "        if (!display || display === 'none') {{\n",
       "            console.log([gd, 'removed!']);\n",
       "            Plotly.purge(gd);\n",
       "            observer.disconnect();\n",
       "        }}\n",
       "}});\n",
       "\n",
       "// Listen for the removal of the full notebook cells\n",
       "var notebookContainer = gd.closest('#notebook-container');\n",
       "if (notebookContainer) {{\n",
       "    x.observe(notebookContainer, {childList: true});\n",
       "}}\n",
       "\n",
       "// Listen for the clearing of the current output cell\n",
       "var outputEl = gd.closest('.output');\n",
       "if (outputEl) {{\n",
       "    x.observe(outputEl, {childList: true});\n",
       "}}\n",
       "\n",
       "                        })                };                });            </script>        </div>"
      ]
     },
     "metadata": {},
     "output_type": "display_data"
    }
   ],
   "source": [
    "import plotly.graph_objects as go\n",
    "colors = ['gold', 'mediumturquoise', 'darkorange', 'lightgreen']\n",
    "\n",
    "fig = go.Figure(data=[go.Pie(labels=keys[0:15],\n",
    "                             values=values[0:15], pull=[0, 0, 0.2, 0])])\n",
    "fig.update_traces(hoverinfo='label+percent', textinfo='value', textfont_size=20,\n",
    "                  marker=dict(colors=colors, line=dict(color='#000000', width=2)))\n",
    "fig.show()"
   ]
  },
  {
   "cell_type": "code",
   "execution_count": 81,
   "id": "321f4966",
   "metadata": {},
   "outputs": [],
   "source": [
    "metadata_df['DESCRIPTION'] = metadata_df['DESCRIPTION'].fillna(\"\")"
   ]
  },
  {
   "cell_type": "code",
   "execution_count": 91,
   "id": "c33fef92",
   "metadata": {},
   "outputs": [],
   "source": [
    "metadata_df['TITLE'] = metadata_df['TITLE'].fillna(\"\")"
   ]
  },
  {
   "cell_type": "code",
   "execution_count": 92,
   "id": "1da14e23",
   "metadata": {},
   "outputs": [],
   "source": [
    "metadata_df['TITLE_LEN'] = metadata_df['TITLE'].apply(len)"
   ]
  },
  {
   "cell_type": "code",
   "execution_count": 94,
   "id": "43d8727d",
   "metadata": {},
   "outputs": [
    {
     "data": {
      "text/plain": [
       "0      1326\n",
       "24      266\n",
       "26      248\n",
       "25      243\n",
       "16      240\n",
       "       ... \n",
       "148       1\n",
       "194       1\n",
       "164       1\n",
       "182       1\n",
       "147       1\n",
       "Name: TITLE_LEN, Length: 157, dtype: int64"
      ]
     },
     "execution_count": 94,
     "metadata": {},
     "output_type": "execute_result"
    }
   ],
   "source": [
    "metadata_df['TITLE_LEN'].value_counts()"
   ]
  },
  {
   "cell_type": "code",
   "execution_count": 82,
   "id": "d58dfc81",
   "metadata": {},
   "outputs": [],
   "source": [
    "metadata_df['DESCRIPTION_LEN'] = metadata_df['DESCRIPTION'].apply(len)"
   ]
  },
  {
   "cell_type": "code",
   "execution_count": 85,
   "id": "37b7880c",
   "metadata": {},
   "outputs": [
    {
     "data": {
      "text/plain": [
       "<AxesSubplot:>"
      ]
     },
     "execution_count": 85,
     "metadata": {},
     "output_type": "execute_result"
    },
    {
     "data": {
      "image/png": "[encoded data removed]",
      "text/plain": [
       "<Figure size 432x288 with 1 Axes>"
      ]
     },
     "metadata": {
      "needs_background": "light"
     },
     "output_type": "display_data"
    }
   ],
   "source": [
    "metadata_df['DESCRIPTION_LEN'].plot()"
   ]
  },
  {
   "cell_type": "code",
   "execution_count": 89,
   "id": "6366e43b",
   "metadata": {},
   "outputs": [],
   "source": [
    "import matplotlib.pyplot as plt\n",
    "import seaborn as sns"
   ]
  },
  {
   "cell_type": "code",
   "execution_count": 98,
   "id": "8ac5f879",
   "metadata": {
    "scrolled": false
   },
   "outputs": [
    {
     "data": {
      "image/png": "[encoded data removed]",
      "text/plain": [
       "<Figure size 1080x720 with 1 Axes>"
      ]
     },
     "metadata": {
      "needs_background": "light"
     },
     "output_type": "display_data"
    }
   ],
   "source": [
    "plt.figure(figsize=(15,10))\n",
    "target_dist = sns.histplot(\n",
    "    data=metadata_df, \n",
    "    x=\"DESCRIPTION_LEN\",\n",
    "    bins=40,\n",
    "    palette='rainbow'\n",
    ")\n",
    "target_dist.set_title('Distribution of Description lengths')\n",
    "target_dist.set_ylabel('Description Lengths')\n",
    "plt.show()"
   ]
  },
  {
   "cell_type": "code",
   "execution_count": 95,
   "id": "0635868a",
   "metadata": {},
   "outputs": [],
   "source": [
    "keys = metadata_df['ARTIST'].value_counts().keys()\n",
    "values = metadata_df['ARTIST'].value_counts().values"
   ]
  },
  {
   "cell_type": "code",
   "execution_count": 96,
   "id": "dd162fce",
   "metadata": {},
   "outputs": [
    {
     "data": {
      "application/vnd.plotly.v1+json": {
       "config": {
        "plotlyServerURL": "https://plot.ly"
       },
       "data": [
        {
         "hoverinfo": "label+percent",
         "labels": [
          "Rosenwald Collection",
          "GIOTTO di Bondone",
          "ANGELICO, Fra",
          "Samuel H. Kress Collection",
          "GRECO, El",
          "CARAVAGGIO",
          "UNKNOWN MASTER, Italian",
          "PIERO DELLA FRANCESCA",
          "CRANACH, Lucas the Elder",
          "TIZIANO Vecellio",
          "LOTTO, Lorenzo",
          "MEMLING, Hans",
          "RUBENS, Peter Paul",
          "VERONESE, Paolo",
          "GOZZOLI, Benozzo"
         ],
         "marker": {
          "colors": [
           "gold",
           "mediumturquoise",
           "darkorange",
           "lightgreen"
          ],
          "line": {
           "color": "#000000",
           "width": 2
          }
         },
         "pull": [
          0,
          0,
          0.2,
          0
         ],
         "textfont": {
          "size": 20
         },
         "textinfo": "value",
         "type": "pie",
         "values": [
          548,
          229,
          114,
          112,
          106,
          77,
          72,
          72,
          71,
          68,
          66,
          65,
          64,
          63,
          60
         ]
        }
       ],
       "layout": {
        "template": {
         "data": {
          "bar": [
           {
            "error_x": {
             "color": "#2a3f5f"
            },
            "error_y": {
             "color": "#2a3f5f"
            },
            "marker": {
             "line": {
              "color": "#E5ECF6",
              "width": 0.5
             },
             "pattern": {
              "fillmode": "overlay",
              "size": 10,
              "solidity": 0.2
             }
            },
            "type": "bar"
           }
          ],
          "barpolar": [
           {
            "marker": {
             "line": {
              "color": "#E5ECF6",
              "width": 0.5
             },
             "pattern": {
              "fillmode": "overlay",
              "size": 10,
              "solidity": 0.2
             }
            },
            "type": "barpolar"
           }
          ],
          "carpet": [
           {
            "aaxis": {
             "endlinecolor": "#2a3f5f",
             "gridcolor": "white",
             "linecolor": "white",
             "minorgridcolor": "white",
             "startlinecolor": "#2a3f5f"
            },
            "baxis": {
             "endlinecolor": "#2a3f5f",
             "gridcolor": "white",
             "linecolor": "white",
             "minorgridcolor": "white",
             "startlinecolor": "#2a3f5f"
            },
            "type": "carpet"
           }
          ],
          "choropleth": [
           {
            "colorbar": {
             "outlinewidth": 0,
             "ticks": ""
            },
            "type": "choropleth"
           }
          ],
          "contour": [
           {
            "colorbar": {
             "outlinewidth": 0,
             "ticks": ""
            },
            "colorscale": [
             [
              0,
              "#0d0887"
             ],
             [
              0.1111111111111111,
              "#46039f"
             ],
             [
              0.2222222222222222,
              "#7201a8"
             ],
             [
              0.3333333333333333,
              "#9c179e"
             ],
             [
              0.4444444444444444,
              "#bd3786"
             ],
             [
              0.5555555555555556,
              "#d8576b"
             ],
             [
              0.6666666666666666,
              "#ed7953"
             ],
             [
              0.7777777777777778,
              "#fb9f3a"
             ],
             [
              0.8888888888888888,
              "#fdca26"
             ],
             [
              1,
              "#f0f921"
             ]
            ],
            "type": "contour"
           }
          ],
          "contourcarpet": [
           {
            "colorbar": {
             "outlinewidth": 0,
             "ticks": ""
            },
            "type": "contourcarpet"
           }
          ],
          "heatmap": [
           {
            "colorbar": {
             "outlinewidth": 0,
             "ticks": ""
            },
            "colorscale": [
             [
              0,
              "#0d0887"
             ],
             [
              0.1111111111111111,
              "#46039f"
             ],
             [
              0.2222222222222222,
              "#7201a8"
             ],
             [
              0.3333333333333333,
              "#9c179e"
             ],
             [
              0.4444444444444444,
              "#bd3786"
             ],
             [
              0.5555555555555556,
              "#d8576b"
             ],
             [
              0.6666666666666666,
              "#ed7953"
             ],
             [
              0.7777777777777778,
              "#fb9f3a"
             ],
             [
              0.8888888888888888,
              "#fdca26"
             ],
             [
              1,
              "#f0f921"
             ]
            ],
            "type": "heatmap"
           }
          ],
          "heatmapgl": [
           {
            "colorbar": {
             "outlinewidth": 0,
             "ticks": ""
            },
            "colorscale": [
             [
              0,
              "#0d0887"
             ],
             [
              0.1111111111111111,
              "#46039f"
             ],
             [
              0.2222222222222222,
              "#7201a8"
             ],
             [
              0.3333333333333333,
              "#9c179e"
             ],
             [
              0.4444444444444444,
              "#bd3786"
             ],
             [
              0.5555555555555556,
              "#d8576b"
             ],
             [
              0.6666666666666666,
              "#ed7953"
             ],
             [
              0.7777777777777778,
              "#fb9f3a"
             ],
             [
              0.8888888888888888,
              "#fdca26"
             ],
             [
              1,
              "#f0f921"
             ]
            ],
            "type": "heatmapgl"
           }
          ],
          "histogram": [
           {
            "marker": {
             "pattern": {
              "fillmode": "overlay",
              "size": 10,
              "solidity": 0.2
             }
            },
            "type": "histogram"
           }
          ],
          "histogram2d": [
           {
            "colorbar": {
             "outlinewidth": 0,
             "ticks": ""
            },
            "colorscale": [
             [
              0,
              "#0d0887"
             ],
             [
              0.1111111111111111,
              "#46039f"
             ],
             [
              0.2222222222222222,
              "#7201a8"
             ],
             [
              0.3333333333333333,
              "#9c179e"
             ],
             [
              0.4444444444444444,
              "#bd3786"
             ],
             [
              0.5555555555555556,
              "#d8576b"
             ],
             [
              0.6666666666666666,
              "#ed7953"
             ],
             [
              0.7777777777777778,
              "#fb9f3a"
             ],
             [
              0.8888888888888888,
              "#fdca26"
             ],
             [
              1,
              "#f0f921"
             ]
            ],
            "type": "histogram2d"
           }
          ],
          "histogram2dcontour": [
           {
            "colorbar": {
             "outlinewidth": 0,
             "ticks": ""
            },
            "colorscale": [
             [
              0,
              "#0d0887"
             ],
             [
              0.1111111111111111,
              "#46039f"
             ],
             [
              0.2222222222222222,
              "#7201a8"
             ],
             [
              0.3333333333333333,
              "#9c179e"
             ],
             [
              0.4444444444444444,
              "#bd3786"
             ],
             [
              0.5555555555555556,
              "#d8576b"
             ],
             [
              0.6666666666666666,
              "#ed7953"
             ],
             [
              0.7777777777777778,
              "#fb9f3a"
             ],
             [
              0.8888888888888888,
              "#fdca26"
             ],
             [
              1,
              "#f0f921"
             ]
            ],
            "type": "histogram2dcontour"
           }
          ],
          "mesh3d": [
           {
            "colorbar": {
             "outlinewidth": 0,
             "ticks": ""
            },
            "type": "mesh3d"
           }
          ],
          "parcoords": [
           {
            "line": {
             "colorbar": {
              "outlinewidth": 0,
              "ticks": ""
             }
            },
            "type": "parcoords"
           }
          ],
          "pie": [
           {
            "automargin": true,
            "type": "pie"
           }
          ],
          "scatter": [
           {
            "marker": {
             "colorbar": {
              "outlinewidth": 0,
              "ticks": ""
             }
            },
            "type": "scatter"
           }
          ],
          "scatter3d": [
           {
            "line": {
             "colorbar": {
              "outlinewidth": 0,
              "ticks": ""
             }
            },
            "marker": {
             "colorbar": {
              "outlinewidth": 0,
              "ticks": ""
             }
            },
            "type": "scatter3d"
           }
          ],
          "scattercarpet": [
           {
            "marker": {
             "colorbar": {
              "outlinewidth": 0,
              "ticks": ""
             }
            },
            "type": "scattercarpet"
           }
          ],
          "scattergeo": [
           {
            "marker": {
             "colorbar": {
              "outlinewidth": 0,
              "ticks": ""
             }
            },
            "type": "scattergeo"
           }
          ],
          "scattergl": [
           {
            "marker": {
             "colorbar": {
              "outlinewidth": 0,
              "ticks": ""
             }
            },
            "type": "scattergl"
           }
          ],
          "scattermapbox": [
           {
            "marker": {
             "colorbar": {
              "outlinewidth": 0,
              "ticks": ""
             }
            },
            "type": "scattermapbox"
           }
          ],
          "scatterpolar": [
           {
            "marker": {
             "colorbar": {
              "outlinewidth": 0,
              "ticks": ""
             }
            },
            "type": "scatterpolar"
           }
          ],
          "scatterpolargl": [
           {
            "marker": {
             "colorbar": {
              "outlinewidth": 0,
              "ticks": ""
             }
            },
            "type": "scatterpolargl"
           }
          ],
          "scatterternary": [
           {
            "marker": {
             "colorbar": {
              "outlinewidth": 0,
              "ticks": ""
             }
            },
            "type": "scatterternary"
           }
          ],
          "surface": [
           {
            "colorbar": {
             "outlinewidth": 0,
             "ticks": ""
            },
            "colorscale": [
             [
              0,
              "#0d0887"
             ],
             [
              0.1111111111111111,
              "#46039f"
             ],
             [
              0.2222222222222222,
              "#7201a8"
             ],
             [
              0.3333333333333333,
              "#9c179e"
             ],
             [
              0.4444444444444444,
              "#bd3786"
             ],
             [
              0.5555555555555556,
              "#d8576b"
             ],
             [
              0.6666666666666666,
              "#ed7953"
             ],
             [
              0.7777777777777778,
              "#fb9f3a"
             ],
             [
              0.8888888888888888,
              "#fdca26"
             ],
             [
              1,
              "#f0f921"
             ]
            ],
            "type": "surface"
           }
          ],
          "table": [
           {
            "cells": {
             "fill": {
              "color": "#EBF0F8"
             },
             "line": {
              "color": "white"
             }
            },
            "header": {
             "fill": {
              "color": "#C8D4E3"
             },
             "line": {
              "color": "white"
             }
            },
            "type": "table"
           }
          ]
         },
         "layout": {
          "annotationdefaults": {
           "arrowcolor": "#2a3f5f",
           "arrowhead": 0,
           "arrowwidth": 1
          },
          "autotypenumbers": "strict",
          "coloraxis": {
           "colorbar": {
            "outlinewidth": 0,
            "ticks": ""
           }
          },
          "colorscale": {
           "diverging": [
            [
             0,
             "#8e0152"
            ],
            [
             0.1,
             "#c51b7d"
            ],
            [
             0.2,
             "#de77ae"
            ],
            [
             0.3,
             "#f1b6da"
            ],
            [
             0.4,
             "#fde0ef"
            ],
            [
             0.5,
             "#f7f7f7"
            ],
            [
             0.6,
             "#e6f5d0"
            ],
            [
             0.7,
             "#b8e186"
            ],
            [
             0.8,
             "#7fbc41"
            ],
            [
             0.9,
             "#4d9221"
            ],
            [
             1,
             "#276419"
            ]
           ],
           "sequential": [
            [
             0,
             "#0d0887"
            ],
            [
             0.1111111111111111,
             "#46039f"
            ],
            [
             0.2222222222222222,
             "#7201a8"
            ],
            [
             0.3333333333333333,
             "#9c179e"
            ],
            [
             0.4444444444444444,
             "#bd3786"
            ],
            [
             0.5555555555555556,
             "#d8576b"
            ],
            [
             0.6666666666666666,
             "#ed7953"
            ],
            [
             0.7777777777777778,
             "#fb9f3a"
            ],
            [
             0.8888888888888888,
             "#fdca26"
            ],
            [
             1,
             "#f0f921"
            ]
           ],
           "sequentialminus": [
            [
             0,
             "#0d0887"
            ],
            [
             0.1111111111111111,
             "#46039f"
            ],
            [
             0.2222222222222222,
             "#7201a8"
            ],
            [
             0.3333333333333333,
             "#9c179e"
            ],
            [
             0.4444444444444444,
             "#bd3786"
            ],
            [
             0.5555555555555556,
             "#d8576b"
            ],
            [
             0.6666666666666666,
             "#ed7953"
            ],
            [
             0.7777777777777778,
             "#fb9f3a"
            ],
            [
             0.8888888888888888,
             "#fdca26"
            ],
            [
             1,
             "#f0f921"
            ]
           ]
          },
          "colorway": [
           "#636efa",
           "#EF553B",
           "#00cc96",
           "#ab63fa",
           "#FFA15A",
           "#19d3f3",
           "#FF6692",
           "#B6E880",
           "#FF97FF",
           "#FECB52"
          ],
          "font": {
           "color": "#2a3f5f"
          },
          "geo": {
           "bgcolor": "white",
           "lakecolor": "white",
           "landcolor": "#E5ECF6",
           "showlakes": true,
           "showland": true,
           "subunitcolor": "white"
          },
          "hoverlabel": {
           "align": "left"
          },
          "hovermode": "closest",
          "mapbox": {
           "style": "light"
          },
          "paper_bgcolor": "white",
          "plot_bgcolor": "#E5ECF6",
          "polar": {
           "angularaxis": {
            "gridcolor": "white",
            "linecolor": "white",
            "ticks": ""
           },
           "bgcolor": "#E5ECF6",
           "radialaxis": {
            "gridcolor": "white",
            "linecolor": "white",
            "ticks": ""
           }
          },
          "scene": {
           "xaxis": {
            "backgroundcolor": "#E5ECF6",
            "gridcolor": "white",
            "gridwidth": 2,
            "linecolor": "white",
            "showbackground": true,
            "ticks": "",
            "zerolinecolor": "white"
           },
           "yaxis": {
            "backgroundcolor": "#E5ECF6",
            "gridcolor": "white",
            "gridwidth": 2,
            "linecolor": "white",
            "showbackground": true,
            "ticks": "",
            "zerolinecolor": "white"
           },
           "zaxis": {
            "backgroundcolor": "#E5ECF6",
            "gridcolor": "white",
            "gridwidth": 2,
            "linecolor": "white",
            "showbackground": true,
            "ticks": "",
            "zerolinecolor": "white"
           }
          },
          "shapedefaults": {
           "line": {
            "color": "#2a3f5f"
           }
          },
          "ternary": {
           "aaxis": {
            "gridcolor": "white",
            "linecolor": "white",
            "ticks": ""
           },
           "baxis": {
            "gridcolor": "white",
            "linecolor": "white",
            "ticks": ""
           },
           "bgcolor": "#E5ECF6",
           "caxis": {
            "gridcolor": "white",
            "linecolor": "white",
            "ticks": ""
           }
          },
          "title": {
           "x": 0.05
          },
          "xaxis": {
           "automargin": true,
           "gridcolor": "white",
           "linecolor": "white",
           "ticks": "",
           "title": {
            "standoff": 15
           },
           "zerolinecolor": "white",
           "zerolinewidth": 2
          },
          "yaxis": {
           "automargin": true,
           "gridcolor": "white",
           "linecolor": "white",
           "ticks": "",
           "title": {
            "standoff": 15
           },
           "zerolinecolor": "white",
           "zerolinewidth": 2
          }
         }
        }
       }
      },
      "text/html": [
       "<div>                            <div id=\"04a78880-3d52-4f22-84bd-a812c83d4756\" class=\"plotly-graph-div\" style=\"height:525px; width:100%;\"></div>            <script type=\"text/javascript\">                require([\"plotly\"], function(Plotly) {                    window.PLOTLYENV=window.PLOTLYENV || {};                                    if (document.getElementById(\"04a78880-3d52-4f22-84bd-a812c83d4756\")) {                    Plotly.newPlot(                        \"04a78880-3d52-4f22-84bd-a812c83d4756\",                        [{\"labels\":[\"Rosenwald Collection\",\"GIOTTO di Bondone\",\"ANGELICO, Fra\",\"Samuel H. Kress Collection\",\"GRECO, El\",\"CARAVAGGIO\",\"UNKNOWN MASTER, Italian\",\"PIERO DELLA FRANCESCA\",\"CRANACH, Lucas the Elder\",\"TIZIANO Vecellio\",\"LOTTO, Lorenzo\",\"MEMLING, Hans\",\"RUBENS, Peter Paul\",\"VERONESE, Paolo\",\"GOZZOLI, Benozzo\"],\"pull\":[0,0,0.2,0],\"values\":[548,229,114,112,106,77,72,72,71,68,66,65,64,63,60],\"type\":\"pie\",\"textfont\":{\"size\":20},\"marker\":{\"line\":{\"color\":\"#000000\",\"width\":2},\"colors\":[\"gold\",\"mediumturquoise\",\"darkorange\",\"lightgreen\"]},\"hoverinfo\":\"label+percent\",\"textinfo\":\"value\"}],                        {\"template\":{\"data\":{\"bar\":[{\"error_x\":{\"color\":\"#2a3f5f\"},\"error_y\":{\"color\":\"#2a3f5f\"},\"marker\":{\"line\":{\"color\":\"#E5ECF6\",\"width\":0.5},\"pattern\":{\"fillmode\":\"overlay\",\"size\":10,\"solidity\":0.2}},\"type\":\"bar\"}],\"barpolar\":[{\"marker\":{\"line\":{\"color\":\"#E5ECF6\",\"width\":0.5},\"pattern\":{\"fillmode\":\"overlay\",\"size\":10,\"solidity\":0.2}},\"type\":\"barpolar\"}],\"carpet\":[{\"aaxis\":{\"endlinecolor\":\"#2a3f5f\",\"gridcolor\":\"white\",\"linecolor\":\"white\",\"minorgridcolor\":\"white\",\"startlinecolor\":\"#2a3f5f\"},\"baxis\":{\"endlinecolor\":\"#2a3f5f\",\"gridcolor\":\"white\",\"linecolor\":\"white\",\"minorgridcolor\":\"white\",\"startlinecolor\":\"#2a3f5f\"},\"type\":\"carpet\"}],\"choropleth\":[{\"colorbar\":{\"outlinewidth\":0,\"ticks\":\"\"},\"type\":\"choropleth\"}],\"contour\":[{\"colorbar\":{\"outlinewidth\":0,\"ticks\":\"\"},\"colorscale\":[[0.0,\"#0d0887\"],[0.1111111111111111,\"#46039f\"],[0.2222222222222222,\"#7201a8\"],[0.3333333333333333,\"#9c179e\"],[0.4444444444444444,\"#bd3786\"],[0.5555555555555556,\"#d8576b\"],[0.6666666666666666,\"#ed7953\"],[0.7777777777777778,\"#fb9f3a\"],[0.8888888888888888,\"#fdca26\"],[1.0,\"#f0f921\"]],\"type\":\"contour\"}],\"contourcarpet\":[{\"colorbar\":{\"outlinewidth\":0,\"ticks\":\"\"},\"type\":\"contourcarpet\"}],\"heatmap\":[{\"colorbar\":{\"outlinewidth\":0,\"ticks\":\"\"},\"colorscale\":[[0.0,\"#0d0887\"],[0.1111111111111111,\"#46039f\"],[0.2222222222222222,\"#7201a8\"],[0.3333333333333333,\"#9c179e\"],[0.4444444444444444,\"#bd3786\"],[0.5555555555555556,\"#d8576b\"],[0.6666666666666666,\"#ed7953\"],[0.7777777777777778,\"#fb9f3a\"],[0.8888888888888888,\"#fdca26\"],[1.0,\"#f0f921\"]],\"type\":\"heatmap\"}],\"heatmapgl\":[{\"colorbar\":{\"outlinewidth\":0,\"ticks\":\"\"},\"colorscale\":[[0.0,\"#0d0887\"],[0.1111111111111111,\"#46039f\"],[0.2222222222222222,\"#7201a8\"],[0.3333333333333333,\"#9c179e\"],[0.4444444444444444,\"#bd3786\"],[0.5555555555555556,\"#d8576b\"],[0.6666666666666666,\"#ed7953\"],[0.7777777777777778,\"#fb9f3a\"],[0.8888888888888888,\"#fdca26\"],[1.0,\"#f0f921\"]],\"type\":\"heatmapgl\"}],\"histogram\":[{\"marker\":{\"pattern\":{\"fillmode\":\"overlay\",\"size\":10,\"solidity\":0.2}},\"type\":\"histogram\"}],\"histogram2d\":[{\"colorbar\":{\"outlinewidth\":0,\"ticks\":\"\"},\"colorscale\":[[0.0,\"#0d0887\"],[0.1111111111111111,\"#46039f\"],[0.2222222222222222,\"#7201a8\"],[0.3333333333333333,\"#9c179e\"],[0.4444444444444444,\"#bd3786\"],[0.5555555555555556,\"#d8576b\"],[0.6666666666666666,\"#ed7953\"],[0.7777777777777778,\"#fb9f3a\"],[0.8888888888888888,\"#fdca26\"],[1.0,\"#f0f921\"]],\"type\":\"histogram2d\"}],\"histogram2dcontour\":[{\"colorbar\":{\"outlinewidth\":0,\"ticks\":\"\"},\"colorscale\":[[0.0,\"#0d0887\"],[0.1111111111111111,\"#46039f\"],[0.2222222222222222,\"#7201a8\"],[0.3333333333333333,\"#9c179e\"],[0.4444444444444444,\"#bd3786\"],[0.5555555555555556,\"#d8576b\"],[0.6666666666666666,\"#ed7953\"],[0.7777777777777778,\"#fb9f3a\"],[0.8888888888888888,\"#fdca26\"],[1.0,\"#f0f921\"]],\"type\":\"histogram2dcontour\"}],\"mesh3d\":[{\"colorbar\":{\"outlinewidth\":0,\"ticks\":\"\"},\"type\":\"mesh3d\"}],\"parcoords\":[{\"line\":{\"colorbar\":{\"outlinewidth\":0,\"ticks\":\"\"}},\"type\":\"parcoords\"}],\"pie\":[{\"automargin\":true,\"type\":\"pie\"}],\"scatter\":[{\"marker\":{\"colorbar\":{\"outlinewidth\":0,\"ticks\":\"\"}},\"type\":\"scatter\"}],\"scatter3d\":[{\"line\":{\"colorbar\":{\"outlinewidth\":0,\"ticks\":\"\"}},\"marker\":{\"colorbar\":{\"outlinewidth\":0,\"ticks\":\"\"}},\"type\":\"scatter3d\"}],\"scattercarpet\":[{\"marker\":{\"colorbar\":{\"outlinewidth\":0,\"ticks\":\"\"}},\"type\":\"scattercarpet\"}],\"scattergeo\":[{\"marker\":{\"colorbar\":{\"outlinewidth\":0,\"ticks\":\"\"}},\"type\":\"scattergeo\"}],\"scattergl\":[{\"marker\":{\"colorbar\":{\"outlinewidth\":0,\"ticks\":\"\"}},\"type\":\"scattergl\"}],\"scattermapbox\":[{\"marker\":{\"colorbar\":{\"outlinewidth\":0,\"ticks\":\"\"}},\"type\":\"scattermapbox\"}],\"scatterpolar\":[{\"marker\":{\"colorbar\":{\"outlinewidth\":0,\"ticks\":\"\"}},\"type\":\"scatterpolar\"}],\"scatterpolargl\":[{\"marker\":{\"colorbar\":{\"outlinewidth\":0,\"ticks\":\"\"}},\"type\":\"scatterpolargl\"}],\"scatterternary\":[{\"marker\":{\"colorbar\":{\"outlinewidth\":0,\"ticks\":\"\"}},\"type\":\"scatterternary\"}],\"surface\":[{\"colorbar\":{\"outlinewidth\":0,\"ticks\":\"\"},\"colorscale\":[[0.0,\"#0d0887\"],[0.1111111111111111,\"#46039f\"],[0.2222222222222222,\"#7201a8\"],[0.3333333333333333,\"#9c179e\"],[0.4444444444444444,\"#bd3786\"],[0.5555555555555556,\"#d8576b\"],[0.6666666666666666,\"#ed7953\"],[0.7777777777777778,\"#fb9f3a\"],[0.8888888888888888,\"#fdca26\"],[1.0,\"#f0f921\"]],\"type\":\"surface\"}],\"table\":[{\"cells\":{\"fill\":{\"color\":\"#EBF0F8\"},\"line\":{\"color\":\"white\"}},\"header\":{\"fill\":{\"color\":\"#C8D4E3\"},\"line\":{\"color\":\"white\"}},\"type\":\"table\"}]},\"layout\":{\"annotationdefaults\":{\"arrowcolor\":\"#2a3f5f\",\"arrowhead\":0,\"arrowwidth\":1},\"autotypenumbers\":\"strict\",\"coloraxis\":{\"colorbar\":{\"outlinewidth\":0,\"ticks\":\"\"}},\"colorscale\":{\"diverging\":[[0,\"#8e0152\"],[0.1,\"#c51b7d\"],[0.2,\"#de77ae\"],[0.3,\"#f1b6da\"],[0.4,\"#fde0ef\"],[0.5,\"#f7f7f7\"],[0.6,\"#e6f5d0\"],[0.7,\"#b8e186\"],[0.8,\"#7fbc41\"],[0.9,\"#4d9221\"],[1,\"#276419\"]],\"sequential\":[[0.0,\"#0d0887\"],[0.1111111111111111,\"#46039f\"],[0.2222222222222222,\"#7201a8\"],[0.3333333333333333,\"#9c179e\"],[0.4444444444444444,\"#bd3786\"],[0.5555555555555556,\"#d8576b\"],[0.6666666666666666,\"#ed7953\"],[0.7777777777777778,\"#fb9f3a\"],[0.8888888888888888,\"#fdca26\"],[1.0,\"#f0f921\"]],\"sequentialminus\":[[0.0,\"#0d0887\"],[0.1111111111111111,\"#46039f\"],[0.2222222222222222,\"#7201a8\"],[0.3333333333333333,\"#9c179e\"],[0.4444444444444444,\"#bd3786\"],[0.5555555555555556,\"#d8576b\"],[0.6666666666666666,\"#ed7953\"],[0.7777777777777778,\"#fb9f3a\"],[0.8888888888888888,\"#fdca26\"],[1.0,\"#f0f921\"]]},\"colorway\":[\"#636efa\",\"#EF553B\",\"#00cc96\",\"#ab63fa\",\"#FFA15A\",\"#19d3f3\",\"#FF6692\",\"#B6E880\",\"#FF97FF\",\"#FECB52\"],\"font\":{\"color\":\"#2a3f5f\"},\"geo\":{\"bgcolor\":\"white\",\"lakecolor\":\"white\",\"landcolor\":\"#E5ECF6\",\"showlakes\":true,\"showland\":true,\"subunitcolor\":\"white\"},\"hoverlabel\":{\"align\":\"left\"},\"hovermode\":\"closest\",\"mapbox\":{\"style\":\"light\"},\"paper_bgcolor\":\"white\",\"plot_bgcolor\":\"#E5ECF6\",\"polar\":{\"angularaxis\":{\"gridcolor\":\"white\",\"linecolor\":\"white\",\"ticks\":\"\"},\"bgcolor\":\"#E5ECF6\",\"radialaxis\":{\"gridcolor\":\"white\",\"linecolor\":\"white\",\"ticks\":\"\"}},\"scene\":{\"xaxis\":{\"backgroundcolor\":\"#E5ECF6\",\"gridcolor\":\"white\",\"gridwidth\":2,\"linecolor\":\"white\",\"showbackground\":true,\"ticks\":\"\",\"zerolinecolor\":\"white\"},\"yaxis\":{\"backgroundcolor\":\"#E5ECF6\",\"gridcolor\":\"white\",\"gridwidth\":2,\"linecolor\":\"white\",\"showbackground\":true,\"ticks\":\"\",\"zerolinecolor\":\"white\"},\"zaxis\":{\"backgroundcolor\":\"#E5ECF6\",\"gridcolor\":\"white\",\"gridwidth\":2,\"linecolor\":\"white\",\"showbackground\":true,\"ticks\":\"\",\"zerolinecolor\":\"white\"}},\"shapedefaults\":{\"line\":{\"color\":\"#2a3f5f\"}},\"ternary\":{\"aaxis\":{\"gridcolor\":\"white\",\"linecolor\":\"white\",\"ticks\":\"\"},\"baxis\":{\"gridcolor\":\"white\",\"linecolor\":\"white\",\"ticks\":\"\"},\"bgcolor\":\"#E5ECF6\",\"caxis\":{\"gridcolor\":\"white\",\"linecolor\":\"white\",\"ticks\":\"\"}},\"title\":{\"x\":0.05},\"xaxis\":{\"automargin\":true,\"gridcolor\":\"white\",\"linecolor\":\"white\",\"ticks\":\"\",\"title\":{\"standoff\":15},\"zerolinecolor\":\"white\",\"zerolinewidth\":2},\"yaxis\":{\"automargin\":true,\"gridcolor\":\"white\",\"linecolor\":\"white\",\"ticks\":\"\",\"title\":{\"standoff\":15},\"zerolinecolor\":\"white\",\"zerolinewidth\":2}}}},                        {\"responsive\": true}                    ).then(function(){\n",
       "                            \n",
       "var gd = document.getElementById('04a78880-3d52-4f22-84bd-a812c83d4756');\n",
       "var x = new MutationObserver(function (mutations, observer) {{\n",
       "        var display = window.getComputedStyle(gd).display;\n",
       "        if (!display || display === 'none') {{\n",
       "            console.log([gd, 'removed!']);\n",
       "            Plotly.purge(gd);\n",
       "            observer.disconnect();\n",
       "        }}\n",
       "}});\n",
       "\n",
       "// Listen for the removal of the full notebook cells\n",
       "var notebookContainer = gd.closest('#notebook-container');\n",
       "if (notebookContainer) {{\n",
       "    x.observe(notebookContainer, {childList: true});\n",
       "}}\n",
       "\n",
       "// Listen for the clearing of the current output cell\n",
       "var outputEl = gd.closest('.output');\n",
       "if (outputEl) {{\n",
       "    x.observe(outputEl, {childList: true});\n",
       "}}\n",
       "\n",
       "                        })                };                });            </script>        </div>"
      ]
     },
     "metadata": {},
     "output_type": "display_data"
    }
   ],
   "source": [
    "import plotly.graph_objects as go\n",
    "colors = ['gold', 'mediumturquoise', 'darkorange', 'lightgreen']\n",
    "\n",
    "fig = go.Figure(data=[go.Pie(labels=keys[0:15],\n",
    "                             values=values[0:15], pull=[0, 0, 0.2, 0])])\n",
    "fig.update_traces(hoverinfo='label+percent', textinfo='value', textfont_size=20,\n",
    "                  marker=dict(colors=colors, line=dict(color='#000000', width=2)))\n",
    "fig.show()"
   ]
  },
  {
   "cell_type": "code",
   "execution_count": 4,
   "id": "42317d39",
   "metadata": {},
   "outputs": [
    {
     "data": {
      "text/html": [
       "<div>\n",
       "<style scoped>\n",
       "    .dataframe tbody tr th:only-of-type {\n",
       "        vertical-align: middle;\n",
       "    }\n",
       "\n",
       "    .dataframe tbody tr th {\n",
       "        vertical-align: top;\n",
       "    }\n",
       "\n",
       "    .dataframe thead th {\n",
       "        text-align: right;\n",
       "    }\n",
       "</style>\n",
       "<table border=\"1\" class=\"dataframe\">\n",
       "  <thead>\n",
       "    <tr style=\"text-align: right;\">\n",
       "      <th></th>\n",
       "      <th>Unnamed: 0</th>\n",
       "      <th>ARTIST</th>\n",
       "      <th>TITLE</th>\n",
       "      <th>METADATA_URL</th>\n",
       "      <th>IMAGE_LINK</th>\n",
       "      <th>IMAGE_NAME</th>\n",
       "      <th>DESCRIPTION</th>\n",
       "      <th>TIMEFRAME</th>\n",
       "      <th>TECHNIQUE</th>\n",
       "    </tr>\n",
       "  </thead>\n",
       "  <tbody>\n",
       "    <tr>\n",
       "      <th>0</th>\n",
       "      <td>0.0</td>\n",
       "      <td>AERTSEN, Pieter</td>\n",
       "      <td>Apostles Peter and John</td>\n",
       "      <td>https://www.wga.hu/html/a/aertsen/apostles.html</td>\n",
       "      <td>https://www.wga.hu/detail/a/aertsen/apostles.jpg</td>\n",
       "      <td>web_gallery_aaertsenapostles.jpg</td>\n",
       "      <td>Earlier the painting was attributed to Joachim...</td>\n",
       "      <td>1501-1550</td>\n",
       "      <td>Oil on wood, 55,5 x 76 cm cm</td>\n",
       "    </tr>\n",
       "    <tr>\n",
       "      <th>1</th>\n",
       "      <td>1.0</td>\n",
       "      <td>AERTSEN, Pieter</td>\n",
       "      <td>Christ in the House of Martha and Mary</td>\n",
       "      <td>https://www.wga.hu/html/a/aertsen/christ_m.html</td>\n",
       "      <td>https://www.wga.hu/detail/a/aertsen/christ_m.jpg</td>\n",
       "      <td>web_gallery_aaertsenchrist_m.jpg</td>\n",
       "      <td>A kitchen scene combined with a religious subj...</td>\n",
       "      <td>1501-1550</td>\n",
       "      <td>Oil on panel, 126 x 200 cm</td>\n",
       "    </tr>\n",
       "    <tr>\n",
       "      <th>2</th>\n",
       "      <td>2.0</td>\n",
       "      <td>AGABITI, Pietro Paolo</td>\n",
       "      <td>Virgin Enthroned between Sts John the Baptist ...</td>\n",
       "      <td>https://www.wga.hu/html/a/agabiti/altar1.html</td>\n",
       "      <td>https://www.wga.hu/detail/a/agabiti/altar1.jpg</td>\n",
       "      <td>web_gallery_aagabitialtar1.jpg</td>\n",
       "      <td>This is the central piece of an altarpiece. Th...</td>\n",
       "      <td>1501-1550</td>\n",
       "      <td>Oil on wood</td>\n",
       "    </tr>\n",
       "    <tr>\n",
       "      <th>3</th>\n",
       "      <td>3.0</td>\n",
       "      <td>AGABITI, Pietro Paolo</td>\n",
       "      <td>Sts Sebastian and Roch</td>\n",
       "      <td>https://www.wga.hu/html/a/agabiti/altar32.html</td>\n",
       "      <td>https://www.wga.hu/detail/a/agabiti/altar32.jpg</td>\n",
       "      <td>web_gallery_aagabitialtar32.jpg</td>\n",
       "      <td>This is one of the four predella scenes belong...</td>\n",
       "      <td>1501-1550</td>\n",
       "      <td>Oil on wood</td>\n",
       "    </tr>\n",
       "    <tr>\n",
       "      <th>4</th>\n",
       "      <td>4.0</td>\n",
       "      <td>AGABITI, Pietro Paolo</td>\n",
       "      <td>St Jerome in the Desert</td>\n",
       "      <td>https://www.wga.hu/html/a/agabiti/altar33.html</td>\n",
       "      <td>https://www.wga.hu/detail/a/agabiti/altar33.jpg</td>\n",
       "      <td>web_gallery_aagabitialtar33.jpg</td>\n",
       "      <td>This is one of the four predella scenes belong...</td>\n",
       "      <td>1501-1550</td>\n",
       "      <td>Oil on wood</td>\n",
       "    </tr>\n",
       "    <tr>\n",
       "      <th>...</th>\n",
       "      <td>...</td>\n",
       "      <td>...</td>\n",
       "      <td>...</td>\n",
       "      <td>...</td>\n",
       "      <td>...</td>\n",
       "      <td>...</td>\n",
       "      <td>...</td>\n",
       "      <td>...</td>\n",
       "      <td>...</td>\n",
       "    </tr>\n",
       "    <tr>\n",
       "      <th>9498</th>\n",
       "      <td>NaN</td>\n",
       "      <td>Rosenwald Collection</td>\n",
       "      <td>Coats of Arms with Corner Portraits of Henry V...</td>\n",
       "      <td>https://www.nga.gov/collection/art-object-page...</td>\n",
       "      <td>https://media.nga.gov/iiif/b1c8f026-c6c1-45b6-...</td>\n",
       "      <td>nga_b1c8f026-c6c1-45b6-97bc-877c3bda7e50.jpg</td>\n",
       "      <td>NaN</td>\n",
       "      <td>1500.0</td>\n",
       "      <td>engraving</td>\n",
       "    </tr>\n",
       "    <tr>\n",
       "      <th>9499</th>\n",
       "      <td>NaN</td>\n",
       "      <td>Rosenwald Collection</td>\n",
       "      <td>The Flight to Egypt</td>\n",
       "      <td>https://www.nga.gov/collection/art-object-page...</td>\n",
       "      <td>https://media.nga.gov/iiif/3149723d-f276-4c0b-...</td>\n",
       "      <td>nga_3149723d-f276-4c0b-9177-5ee29114dfa0.jpg</td>\n",
       "      <td>NaN</td>\n",
       "      <td>1500.0</td>\n",
       "      <td>woodcut [restrike 1968]</td>\n",
       "    </tr>\n",
       "    <tr>\n",
       "      <th>9500</th>\n",
       "      <td>NaN</td>\n",
       "      <td>Rosenwald Collection</td>\n",
       "      <td>Saints Peter and Paul</td>\n",
       "      <td>https://www.nga.gov/collection/art-object-page...</td>\n",
       "      <td>https://media.nga.gov/iiif/4106c711-defc-4a1a-...</td>\n",
       "      <td>nga_4106c711-defc-4a1a-8648-668113de7138.jpg</td>\n",
       "      <td>NaN</td>\n",
       "      <td>1489.0</td>\n",
       "      <td>miniature on vellum</td>\n",
       "    </tr>\n",
       "    <tr>\n",
       "      <th>9501</th>\n",
       "      <td>NaN</td>\n",
       "      <td>Rosenwald Collection</td>\n",
       "      <td>King John [right side]</td>\n",
       "      <td>https://www.nga.gov/collection/art-object-page...</td>\n",
       "      <td>https://media.nga.gov/iiif/8f7afd37-1314-49ef-...</td>\n",
       "      <td>nga_8f7afd37-1314-49ef-b7e5-9689a77c01e4.jpg</td>\n",
       "      <td>NaN</td>\n",
       "      <td>1500.0</td>\n",
       "      <td>pen and brown-black ink over black chalk on la...</td>\n",
       "    </tr>\n",
       "    <tr>\n",
       "      <th>9502</th>\n",
       "      <td>NaN</td>\n",
       "      <td>Ailsa Mellon Bruce Fund</td>\n",
       "      <td>Saints Nicholas, Ulrich, and Erasmus</td>\n",
       "      <td>https://www.nga.gov/collection/art-object-page...</td>\n",
       "      <td>https://media.nga.gov/iiif/8625f7c6-68cf-4765-...</td>\n",
       "      <td>nga_8625f7c6-68cf-4765-909c-c868ec3ccd60.jpg</td>\n",
       "      <td>NaN</td>\n",
       "      <td>1508.0</td>\n",
       "      <td>woodcut</td>\n",
       "    </tr>\n",
       "  </tbody>\n",
       "</table>\n",
       "<p>9503 rows × 9 columns</p>\n",
       "</div>"
      ],
      "text/plain": [
       "      Unnamed: 0                   ARTIST  \\\n",
       "0            0.0          AERTSEN, Pieter   \n",
       "1            1.0          AERTSEN, Pieter   \n",
       "2            2.0    AGABITI, Pietro Paolo   \n",
       "3            3.0    AGABITI, Pietro Paolo   \n",
       "4            4.0    AGABITI, Pietro Paolo   \n",
       "...          ...                      ...   \n",
       "9498         NaN     Rosenwald Collection   \n",
       "9499         NaN     Rosenwald Collection   \n",
       "9500         NaN     Rosenwald Collection   \n",
       "9501         NaN     Rosenwald Collection   \n",
       "9502         NaN  Ailsa Mellon Bruce Fund   \n",
       "\n",
       "                                                  TITLE  \\\n",
       "0                               Apostles Peter and John   \n",
       "1                Christ in the House of Martha and Mary   \n",
       "2     Virgin Enthroned between Sts John the Baptist ...   \n",
       "3                                Sts Sebastian and Roch   \n",
       "4                               St Jerome in the Desert   \n",
       "...                                                 ...   \n",
       "9498  Coats of Arms with Corner Portraits of Henry V...   \n",
       "9499                                The Flight to Egypt   \n",
       "9500                              Saints Peter and Paul   \n",
       "9501                             King John [right side]   \n",
       "9502               Saints Nicholas, Ulrich, and Erasmus   \n",
       "\n",
       "                                           METADATA_URL  \\\n",
       "0       https://www.wga.hu/html/a/aertsen/apostles.html   \n",
       "1       https://www.wga.hu/html/a/aertsen/christ_m.html   \n",
       "2         https://www.wga.hu/html/a/agabiti/altar1.html   \n",
       "3        https://www.wga.hu/html/a/agabiti/altar32.html   \n",
       "4        https://www.wga.hu/html/a/agabiti/altar33.html   \n",
       "...                                                 ...   \n",
       "9498  https://www.nga.gov/collection/art-object-page...   \n",
       "9499  https://www.nga.gov/collection/art-object-page...   \n",
       "9500  https://www.nga.gov/collection/art-object-page...   \n",
       "9501  https://www.nga.gov/collection/art-object-page...   \n",
       "9502  https://www.nga.gov/collection/art-object-page...   \n",
       "\n",
       "                                             IMAGE_LINK  \\\n",
       "0      https://www.wga.hu/detail/a/aertsen/apostles.jpg   \n",
       "1      https://www.wga.hu/detail/a/aertsen/christ_m.jpg   \n",
       "2        https://www.wga.hu/detail/a/agabiti/altar1.jpg   \n",
       "3       https://www.wga.hu/detail/a/agabiti/altar32.jpg   \n",
       "4       https://www.wga.hu/detail/a/agabiti/altar33.jpg   \n",
       "...                                                 ...   \n",
       "9498  https://media.nga.gov/iiif/b1c8f026-c6c1-45b6-...   \n",
       "9499  https://media.nga.gov/iiif/3149723d-f276-4c0b-...   \n",
       "9500  https://media.nga.gov/iiif/4106c711-defc-4a1a-...   \n",
       "9501  https://media.nga.gov/iiif/8f7afd37-1314-49ef-...   \n",
       "9502  https://media.nga.gov/iiif/8625f7c6-68cf-4765-...   \n",
       "\n",
       "                                        IMAGE_NAME  \\\n",
       "0                 web_gallery_aaertsenapostles.jpg   \n",
       "1                 web_gallery_aaertsenchrist_m.jpg   \n",
       "2                   web_gallery_aagabitialtar1.jpg   \n",
       "3                  web_gallery_aagabitialtar32.jpg   \n",
       "4                  web_gallery_aagabitialtar33.jpg   \n",
       "...                                            ...   \n",
       "9498  nga_b1c8f026-c6c1-45b6-97bc-877c3bda7e50.jpg   \n",
       "9499  nga_3149723d-f276-4c0b-9177-5ee29114dfa0.jpg   \n",
       "9500  nga_4106c711-defc-4a1a-8648-668113de7138.jpg   \n",
       "9501  nga_8f7afd37-1314-49ef-b7e5-9689a77c01e4.jpg   \n",
       "9502  nga_8625f7c6-68cf-4765-909c-c868ec3ccd60.jpg   \n",
       "\n",
       "                                            DESCRIPTION  TIMEFRAME  \\\n",
       "0     Earlier the painting was attributed to Joachim...  1501-1550   \n",
       "1     A kitchen scene combined with a religious subj...  1501-1550   \n",
       "2     This is the central piece of an altarpiece. Th...  1501-1550   \n",
       "3     This is one of the four predella scenes belong...  1501-1550   \n",
       "4     This is one of the four predella scenes belong...  1501-1550   \n",
       "...                                                 ...        ...   \n",
       "9498                                                NaN     1500.0   \n",
       "9499                                                NaN     1500.0   \n",
       "9500                                                NaN     1489.0   \n",
       "9501                                                NaN     1500.0   \n",
       "9502                                                NaN     1508.0   \n",
       "\n",
       "                                              TECHNIQUE  \n",
       "0                          Oil on wood, 55,5 x 76 cm cm  \n",
       "1                            Oil on panel, 126 x 200 cm  \n",
       "2                                           Oil on wood  \n",
       "3                                           Oil on wood  \n",
       "4                                           Oil on wood  \n",
       "...                                                 ...  \n",
       "9498                                          engraving  \n",
       "9499                            woodcut [restrike 1968]  \n",
       "9500                                miniature on vellum  \n",
       "9501  pen and brown-black ink over black chalk on la...  \n",
       "9502                                            woodcut  \n",
       "\n",
       "[9503 rows x 9 columns]"
      ]
     },
     "execution_count": 4,
     "metadata": {},
     "output_type": "execute_result"
    }
   ],
   "source": [
    "metadata_df"
   ]
  },
  {
   "cell_type": "code",
   "execution_count": 4,
   "id": "54398d74",
   "metadata": {},
   "outputs": [],
   "source": [
    "def search_st_seb(key, title):\n",
    "    return True if key in title.lower().split(\" \") else False"
   ]
  },
  {
   "cell_type": "code",
   "execution_count": 5,
   "id": "830ae757",
   "metadata": {},
   "outputs": [],
   "source": [
    "metadata_df['TITLE'] = metadata_df['TITLE'].fillna(\"\")"
   ]
  },
  {
   "cell_type": "code",
   "execution_count": 6,
   "id": "17738024",
   "metadata": {},
   "outputs": [],
   "source": [
    "metadata_df['sebastian_present'] = metadata_df['TITLE'].apply(lambda x : search_st_seb(\"sebastian\", x))"
   ]
  },
  {
   "cell_type": "code",
   "execution_count": 7,
   "id": "dded935e",
   "metadata": {},
   "outputs": [],
   "source": [
    "metadata_df['catherine_present'] = metadata_df['TITLE'].apply(lambda x : search_st_seb(\"catherine\", x))"
   ]
  },
  {
   "cell_type": "code",
   "execution_count": 8,
   "id": "199ddf17",
   "metadata": {},
   "outputs": [],
   "source": [
    "metadata_df['baptist_present'] = metadata_df['TITLE'].apply(lambda x : search_st_seb(\"baptist\", x))"
   ]
  },
  {
   "cell_type": "code",
   "execution_count": 9,
   "id": "070738e0",
   "metadata": {},
   "outputs": [],
   "source": [
    "metadata_df['jerome_present'] = metadata_df['TITLE'].apply(lambda x : search_st_seb(\"jerome\", x))"
   ]
  },
  {
   "cell_type": "code",
   "execution_count": 10,
   "id": "214b9013",
   "metadata": {},
   "outputs": [],
   "source": [
    "metadata_df['francis_present'] = metadata_df['TITLE'].apply(lambda x : search_st_seb(\"francis\", x))"
   ]
  },
  {
   "cell_type": "code",
   "execution_count": 11,
   "id": "e377bbba",
   "metadata": {},
   "outputs": [],
   "source": [
    "metadata_df['magdalene_present'] = metadata_df['TITLE'].apply(lambda x : search_st_seb(\"magdalene\", x))"
   ]
  },
  {
   "cell_type": "code",
   "execution_count": 12,
   "id": "e9838a39",
   "metadata": {},
   "outputs": [],
   "source": [
    "metadata_df['mark_present'] = metadata_df['TITLE'].apply(lambda x : search_st_seb(\"mark\", x))"
   ]
  },
  {
   "cell_type": "code",
   "execution_count": 13,
   "id": "b15404b0",
   "metadata": {},
   "outputs": [],
   "source": [
    "metadata_df['lucy_present'] = metadata_df['TITLE'].apply(lambda x : search_st_seb(\"lucy\", x))"
   ]
  },
  {
   "cell_type": "code",
   "execution_count": 14,
   "id": "8e79734c",
   "metadata": {},
   "outputs": [],
   "source": [
    "metadata_df['evangelist_present'] = metadata_df['TITLE'].apply(lambda x : search_st_seb(\"evangelist\", x))"
   ]
  },
  {
   "cell_type": "code",
   "execution_count": 15,
   "id": "0a2f3d81",
   "metadata": {},
   "outputs": [],
   "source": [
    "t1 = metadata_df[metadata_df['sebastian_present'] == True].sample(frac=1).reset_index(drop=True)\n",
    "t2 = metadata_df[metadata_df['catherine_present'] == True].sample(frac=1).reset_index(drop=True)\n",
    "t3 = metadata_df[metadata_df['francis_present'] == True].sample(frac=1).reset_index(drop=True)\n",
    "t4 = metadata_df[metadata_df['magdalene_present'] == True].sample(frac=1).reset_index(drop=True)\n",
    "t5 = metadata_df[metadata_df['baptist_present'] == True].sample(frac=1).reset_index(drop=True)\n",
    "t6 = metadata_df[metadata_df['jerome_present'] == True].sample(frac=1).reset_index(drop=True)\n",
    "t7 = metadata_df[metadata_df['mark_present'] == True].sample(frac=1).reset_index(drop=True)\n",
    "t8 = metadata_df[metadata_df['lucy_present'] == True].sample(frac=1).reset_index(drop=True)\n",
    "t9 = metadata_df[metadata_df['evangelist_present'] == True].sample(frac=1).reset_index(drop=True)"
   ]
  },
  {
   "cell_type": "code",
   "execution_count": 16,
   "id": "a7e70f11",
   "metadata": {},
   "outputs": [],
   "source": [
    "temp = pd.DataFrame()"
   ]
  },
  {
   "cell_type": "code",
   "execution_count": 17,
   "id": "f6271bcd",
   "metadata": {},
   "outputs": [],
   "source": [
    "temp = temp.append(t1[:150])\n",
    "temp = temp.append(t2[:150])\n",
    "temp = temp.append(t3[:150])\n",
    "temp = temp.append(t4[:150])\n",
    "temp = temp.append(t5[:150])\n",
    "temp = temp.append(t6[:150])\n",
    "temp = temp.append(t7[:150])\n",
    "temp = temp.append(t8[:150])\n",
    "temp = temp.append(t9[:150])"
   ]
  },
  {
   "cell_type": "code",
   "execution_count": 18,
   "id": "3c095a39",
   "metadata": {},
   "outputs": [],
   "source": [
    "temp = temp.drop_duplicates()"
   ]
  },
  {
   "cell_type": "code",
   "execution_count": 19,
   "id": "72df3649",
   "metadata": {},
   "outputs": [],
   "source": [
    "temp.reset_index(inplace = True)"
   ]
  },
  {
   "cell_type": "code",
   "execution_count": 20,
   "id": "c4c99d55",
   "metadata": {},
   "outputs": [
    {
     "data": {
      "text/html": [
       "<div>\n",
       "<style scoped>\n",
       "    .dataframe tbody tr th:only-of-type {\n",
       "        vertical-align: middle;\n",
       "    }\n",
       "\n",
       "    .dataframe tbody tr th {\n",
       "        vertical-align: top;\n",
       "    }\n",
       "\n",
       "    .dataframe thead th {\n",
       "        text-align: right;\n",
       "    }\n",
       "</style>\n",
       "<table border=\"1\" class=\"dataframe\">\n",
       "  <thead>\n",
       "    <tr style=\"text-align: right;\">\n",
       "      <th></th>\n",
       "      <th>index</th>\n",
       "      <th>Unnamed: 0</th>\n",
       "      <th>ARTIST</th>\n",
       "      <th>TITLE</th>\n",
       "      <th>METADATA_URL</th>\n",
       "      <th>IMAGE_LINK</th>\n",
       "      <th>IMAGE_NAME</th>\n",
       "      <th>DESCRIPTION</th>\n",
       "      <th>TIMEFRAME</th>\n",
       "      <th>TECHNIQUE</th>\n",
       "      <th>sebastian_present</th>\n",
       "      <th>catherine_present</th>\n",
       "      <th>baptist_present</th>\n",
       "      <th>jerome_present</th>\n",
       "      <th>francis_present</th>\n",
       "      <th>magdalene_present</th>\n",
       "      <th>mark_present</th>\n",
       "      <th>lucy_present</th>\n",
       "      <th>evangelist_present</th>\n",
       "    </tr>\n",
       "  </thead>\n",
       "  <tbody>\n",
       "    <tr>\n",
       "      <th>0</th>\n",
       "      <td>0</td>\n",
       "      <td>5848.0</td>\n",
       "      <td>Master I.B. with the Bird</td>\n",
       "      <td>Saint Sebastian</td>\n",
       "      <td>https://www.artic.edu/artworks/76077/saint-seb...</td>\n",
       "      <td>https://www.artic.edu/iiif/2/ca4744b9-b20e-c01...</td>\n",
       "      <td>chicago_art_gallery_ca4744b9-b20e-c014-0ef6-9f...</td>\n",
       "      <td>Bartsch 1</td>\n",
       "      <td>Made 1506–1507</td>\n",
       "      <td>Engraving, on paper</td>\n",
       "      <td>True</td>\n",
       "      <td>False</td>\n",
       "      <td>False</td>\n",
       "      <td>False</td>\n",
       "      <td>False</td>\n",
       "      <td>False</td>\n",
       "      <td>False</td>\n",
       "      <td>False</td>\n",
       "      <td>False</td>\n",
       "    </tr>\n",
       "    <tr>\n",
       "      <th>1</th>\n",
       "      <td>1</td>\n",
       "      <td>5154.0</td>\n",
       "      <td>VERONESE, Paolo</td>\n",
       "      <td>Martyrdom of St Sebastian (detail)</td>\n",
       "      <td>https://www.wga.hu/html/v/veronese/02a/1choir/...</td>\n",
       "      <td>https://www.wga.hu/detail/v/veronese/02a/1choi...</td>\n",
       "      <td>web_gallery_vveronese02a1choir3martyr3.jpg</td>\n",
       "      <td>This picture of the title saint suffering his ...</td>\n",
       "      <td>1551-1600</td>\n",
       "      <td>Oil on canvas</td>\n",
       "      <td>True</td>\n",
       "      <td>False</td>\n",
       "      <td>False</td>\n",
       "      <td>False</td>\n",
       "      <td>False</td>\n",
       "      <td>False</td>\n",
       "      <td>False</td>\n",
       "      <td>False</td>\n",
       "      <td>False</td>\n",
       "    </tr>\n",
       "    <tr>\n",
       "      <th>2</th>\n",
       "      <td>2</td>\n",
       "      <td>707.0</td>\n",
       "      <td>BUONCONSIGLIO, Giovanni</td>\n",
       "      <td>St Sebastian with St Roch and St Lawrence</td>\n",
       "      <td>https://www.wga.hu/html/b/buoncons/sebastia.html</td>\n",
       "      <td>https://www.wga.hu/detail/b/buoncons/sebastia.jpg</td>\n",
       "      <td>web_gallery_bbuonconssebastia.jpg</td>\n",
       "      <td>NaN</td>\n",
       "      <td>1451-1500</td>\n",
       "      <td>Oil on canvas</td>\n",
       "      <td>True</td>\n",
       "      <td>False</td>\n",
       "      <td>False</td>\n",
       "      <td>False</td>\n",
       "      <td>False</td>\n",
       "      <td>False</td>\n",
       "      <td>False</td>\n",
       "      <td>False</td>\n",
       "      <td>False</td>\n",
       "    </tr>\n",
       "    <tr>\n",
       "      <th>3</th>\n",
       "      <td>3</td>\n",
       "      <td>5694.0</td>\n",
       "      <td>Bartholomaeus Spranger</td>\n",
       "      <td>Martyrdom of Saint Sebastian</td>\n",
       "      <td>https://www.artic.edu/artworks/84259/martyrdom...</td>\n",
       "      <td>https://www.artic.edu/iiif/2/193f34d8-8c15-2a5...</td>\n",
       "      <td>chicago_art_gallery_193f34d8-8c15-2a51-d033-98...</td>\n",
       "      <td>Object information is a work in progress and m...</td>\n",
       "      <td>1566–1611</td>\n",
       "      <td>Pen and brown ink, with brush and brown wash, ...</td>\n",
       "      <td>True</td>\n",
       "      <td>False</td>\n",
       "      <td>False</td>\n",
       "      <td>False</td>\n",
       "      <td>False</td>\n",
       "      <td>False</td>\n",
       "      <td>False</td>\n",
       "      <td>False</td>\n",
       "      <td>False</td>\n",
       "    </tr>\n",
       "    <tr>\n",
       "      <th>4</th>\n",
       "      <td>4</td>\n",
       "      <td>4984.0</td>\n",
       "      <td>UNKNOWN MASTER, German</td>\n",
       "      <td>St Sebastian</td>\n",
       "      <td>https://www.wga.hu/html/m/master/zunk_ge/zunk_...</td>\n",
       "      <td>https://www.wga.hu/detail/m/master/zunk_ge/zun...</td>\n",
       "      <td>web_gallery_mmasterzunk_gezunk_ge4bx_sebast.jpg</td>\n",
       "      <td>This panel was one of the side wing of an alta...</td>\n",
       "      <td>1501-1550</td>\n",
       "      <td>Tempera on wood</td>\n",
       "      <td>True</td>\n",
       "      <td>False</td>\n",
       "      <td>False</td>\n",
       "      <td>False</td>\n",
       "      <td>False</td>\n",
       "      <td>False</td>\n",
       "      <td>False</td>\n",
       "      <td>False</td>\n",
       "      <td>False</td>\n",
       "    </tr>\n",
       "    <tr>\n",
       "      <th>...</th>\n",
       "      <td>...</td>\n",
       "      <td>...</td>\n",
       "      <td>...</td>\n",
       "      <td>...</td>\n",
       "      <td>...</td>\n",
       "      <td>...</td>\n",
       "      <td>...</td>\n",
       "      <td>...</td>\n",
       "      <td>...</td>\n",
       "      <td>...</td>\n",
       "      <td>...</td>\n",
       "      <td>...</td>\n",
       "      <td>...</td>\n",
       "      <td>...</td>\n",
       "      <td>...</td>\n",
       "      <td>...</td>\n",
       "      <td>...</td>\n",
       "      <td>...</td>\n",
       "      <td>...</td>\n",
       "    </tr>\n",
       "    <tr>\n",
       "      <th>1103</th>\n",
       "      <td>144</td>\n",
       "      <td>1956.0</td>\n",
       "      <td>GIOTTO di Bondone</td>\n",
       "      <td>Scenes from the Life of St John the Evangelist...</td>\n",
       "      <td>https://www.wga.hu/html/g/giotto/s_croce/1peru...</td>\n",
       "      <td>https://www.wga.hu/detail/g/giotto/s_croce/1pe...</td>\n",
       "      <td>web_gallery_ggiottos_croce1peruzzievang3.jpg</td>\n",
       "      <td>Giotto illustrates the miracle of the ascensio...</td>\n",
       "      <td>1301-1350</td>\n",
       "      <td>Fresco, 280 x 450 cm</td>\n",
       "      <td>False</td>\n",
       "      <td>False</td>\n",
       "      <td>False</td>\n",
       "      <td>False</td>\n",
       "      <td>False</td>\n",
       "      <td>False</td>\n",
       "      <td>False</td>\n",
       "      <td>False</td>\n",
       "      <td>True</td>\n",
       "    </tr>\n",
       "    <tr>\n",
       "      <th>1104</th>\n",
       "      <td>145</td>\n",
       "      <td>5069.0</td>\n",
       "      <td>UNKNOWN MASTER, Netherlandish</td>\n",
       "      <td>Martyrdom of St John the Evangelist</td>\n",
       "      <td>https://www.wga.hu/html/m/master/zunk_du/1/mar...</td>\n",
       "      <td>https://www.wga.hu/detail/m/master/zunk_du/1/m...</td>\n",
       "      <td>web_gallery_mmasterzunk_du1martyrjo.jpg</td>\n",
       "      <td>This altarpiece wing was probably painted near...</td>\n",
       "      <td>1501-1550</td>\n",
       "      <td>Wood, 117 x 67 cm</td>\n",
       "      <td>False</td>\n",
       "      <td>False</td>\n",
       "      <td>False</td>\n",
       "      <td>False</td>\n",
       "      <td>False</td>\n",
       "      <td>False</td>\n",
       "      <td>False</td>\n",
       "      <td>False</td>\n",
       "      <td>True</td>\n",
       "    </tr>\n",
       "    <tr>\n",
       "      <th>1105</th>\n",
       "      <td>146</td>\n",
       "      <td>4459.0</td>\n",
       "      <td>SIGNORELLI, Luca</td>\n",
       "      <td>The Apostles Peter and John the Evangelist</td>\n",
       "      <td>https://www.wga.hu/html/s/signorel/loreto/1apo...</td>\n",
       "      <td>https://www.wga.hu/detail/s/signorel/loreto/1a...</td>\n",
       "      <td>web_gallery_ssignorelloreto1apostl5.jpg</td>\n",
       "      <td>The individual apostles cannot be identified w...</td>\n",
       "      <td>1451-1500</td>\n",
       "      <td>Fresco, 238 x 200 cm</td>\n",
       "      <td>False</td>\n",
       "      <td>False</td>\n",
       "      <td>False</td>\n",
       "      <td>False</td>\n",
       "      <td>False</td>\n",
       "      <td>False</td>\n",
       "      <td>False</td>\n",
       "      <td>False</td>\n",
       "      <td>True</td>\n",
       "    </tr>\n",
       "    <tr>\n",
       "      <th>1106</th>\n",
       "      <td>147</td>\n",
       "      <td>6016.0</td>\n",
       "      <td>Philippe Pigouchet</td>\n",
       "      <td>The Martyrdom of Saint John the Evangelist (re...</td>\n",
       "      <td>https://www.artic.edu/artworks/22226/the-marty...</td>\n",
       "      <td>https://www.artic.edu/iiif/2/d2b5095c-fc23-58c...</td>\n",
       "      <td>chicago_art_gallery_d2b5095c-fc23-58c9-265a-b7...</td>\n",
       "      <td>Around 1488, engraver and printer Philippe Pig...</td>\n",
       "      <td>1496–1497</td>\n",
       "      <td>Metalcut and letterpress in black with rubrica...</td>\n",
       "      <td>False</td>\n",
       "      <td>False</td>\n",
       "      <td>False</td>\n",
       "      <td>False</td>\n",
       "      <td>False</td>\n",
       "      <td>False</td>\n",
       "      <td>False</td>\n",
       "      <td>False</td>\n",
       "      <td>True</td>\n",
       "    </tr>\n",
       "    <tr>\n",
       "      <th>1107</th>\n",
       "      <td>149</td>\n",
       "      <td>963.0</td>\n",
       "      <td>CAVALLINO, Bernardo</td>\n",
       "      <td>St John the Evangelist</td>\n",
       "      <td>https://www.wga.hu/html/c/cavallio/st_john.html</td>\n",
       "      <td>https://www.wga.hu/detail/c/cavallio/st_john.jpg</td>\n",
       "      <td>web_gallery_ccavalliost_john.jpg</td>\n",
       "      <td>This painting probably once belonged to a larg...</td>\n",
       "      <td>1601-1650</td>\n",
       "      <td>Oil on canvas, 93 x 83 cm</td>\n",
       "      <td>False</td>\n",
       "      <td>False</td>\n",
       "      <td>False</td>\n",
       "      <td>False</td>\n",
       "      <td>False</td>\n",
       "      <td>False</td>\n",
       "      <td>False</td>\n",
       "      <td>False</td>\n",
       "      <td>True</td>\n",
       "    </tr>\n",
       "  </tbody>\n",
       "</table>\n",
       "<p>1108 rows × 19 columns</p>\n",
       "</div>"
      ],
      "text/plain": [
       "      index  Unnamed: 0                         ARTIST  \\\n",
       "0         0      5848.0      Master I.B. with the Bird   \n",
       "1         1      5154.0                VERONESE, Paolo   \n",
       "2         2       707.0        BUONCONSIGLIO, Giovanni   \n",
       "3         3      5694.0         Bartholomaeus Spranger   \n",
       "4         4      4984.0         UNKNOWN MASTER, German   \n",
       "...     ...         ...                            ...   \n",
       "1103    144      1956.0              GIOTTO di Bondone   \n",
       "1104    145      5069.0  UNKNOWN MASTER, Netherlandish   \n",
       "1105    146      4459.0               SIGNORELLI, Luca   \n",
       "1106    147      6016.0             Philippe Pigouchet   \n",
       "1107    149       963.0            CAVALLINO, Bernardo   \n",
       "\n",
       "                                                  TITLE  \\\n",
       "0                                       Saint Sebastian   \n",
       "1                    Martyrdom of St Sebastian (detail)   \n",
       "2             St Sebastian with St Roch and St Lawrence   \n",
       "3                          Martyrdom of Saint Sebastian   \n",
       "4                                          St Sebastian   \n",
       "...                                                 ...   \n",
       "1103  Scenes from the Life of St John the Evangelist...   \n",
       "1104                Martyrdom of St John the Evangelist   \n",
       "1105         The Apostles Peter and John the Evangelist   \n",
       "1106  The Martyrdom of Saint John the Evangelist (re...   \n",
       "1107                             St John the Evangelist   \n",
       "\n",
       "                                           METADATA_URL  \\\n",
       "0     https://www.artic.edu/artworks/76077/saint-seb...   \n",
       "1     https://www.wga.hu/html/v/veronese/02a/1choir/...   \n",
       "2      https://www.wga.hu/html/b/buoncons/sebastia.html   \n",
       "3     https://www.artic.edu/artworks/84259/martyrdom...   \n",
       "4     https://www.wga.hu/html/m/master/zunk_ge/zunk_...   \n",
       "...                                                 ...   \n",
       "1103  https://www.wga.hu/html/g/giotto/s_croce/1peru...   \n",
       "1104  https://www.wga.hu/html/m/master/zunk_du/1/mar...   \n",
       "1105  https://www.wga.hu/html/s/signorel/loreto/1apo...   \n",
       "1106  https://www.artic.edu/artworks/22226/the-marty...   \n",
       "1107    https://www.wga.hu/html/c/cavallio/st_john.html   \n",
       "\n",
       "                                             IMAGE_LINK  \\\n",
       "0     https://www.artic.edu/iiif/2/ca4744b9-b20e-c01...   \n",
       "1     https://www.wga.hu/detail/v/veronese/02a/1choi...   \n",
       "2     https://www.wga.hu/detail/b/buoncons/sebastia.jpg   \n",
       "3     https://www.artic.edu/iiif/2/193f34d8-8c15-2a5...   \n",
       "4     https://www.wga.hu/detail/m/master/zunk_ge/zun...   \n",
       "...                                                 ...   \n",
       "1103  https://www.wga.hu/detail/g/giotto/s_croce/1pe...   \n",
       "1104  https://www.wga.hu/detail/m/master/zunk_du/1/m...   \n",
       "1105  https://www.wga.hu/detail/s/signorel/loreto/1a...   \n",
       "1106  https://www.artic.edu/iiif/2/d2b5095c-fc23-58c...   \n",
       "1107   https://www.wga.hu/detail/c/cavallio/st_john.jpg   \n",
       "\n",
       "                                             IMAGE_NAME  \\\n",
       "0     chicago_art_gallery_ca4744b9-b20e-c014-0ef6-9f...   \n",
       "1            web_gallery_vveronese02a1choir3martyr3.jpg   \n",
       "2                     web_gallery_bbuonconssebastia.jpg   \n",
       "3     chicago_art_gallery_193f34d8-8c15-2a51-d033-98...   \n",
       "4       web_gallery_mmasterzunk_gezunk_ge4bx_sebast.jpg   \n",
       "...                                                 ...   \n",
       "1103       web_gallery_ggiottos_croce1peruzzievang3.jpg   \n",
       "1104            web_gallery_mmasterzunk_du1martyrjo.jpg   \n",
       "1105            web_gallery_ssignorelloreto1apostl5.jpg   \n",
       "1106  chicago_art_gallery_d2b5095c-fc23-58c9-265a-b7...   \n",
       "1107                   web_gallery_ccavalliost_john.jpg   \n",
       "\n",
       "                                            DESCRIPTION       TIMEFRAME  \\\n",
       "0                                            Bartsch 1   Made 1506–1507   \n",
       "1     This picture of the title saint suffering his ...       1551-1600   \n",
       "2                                                   NaN       1451-1500   \n",
       "3     Object information is a work in progress and m...       1566–1611   \n",
       "4     This panel was one of the side wing of an alta...       1501-1550   \n",
       "...                                                 ...             ...   \n",
       "1103  Giotto illustrates the miracle of the ascensio...       1301-1350   \n",
       "1104  This altarpiece wing was probably painted near...       1501-1550   \n",
       "1105  The individual apostles cannot be identified w...       1451-1500   \n",
       "1106  Around 1488, engraver and printer Philippe Pig...       1496–1497   \n",
       "1107  This painting probably once belonged to a larg...       1601-1650   \n",
       "\n",
       "                                              TECHNIQUE  sebastian_present  \\\n",
       "0                                   Engraving, on paper               True   \n",
       "1                                         Oil on canvas               True   \n",
       "2                                         Oil on canvas               True   \n",
       "3     Pen and brown ink, with brush and brown wash, ...               True   \n",
       "4                                       Tempera on wood               True   \n",
       "...                                                 ...                ...   \n",
       "1103                               Fresco, 280 x 450 cm              False   \n",
       "1104                                  Wood, 117 x 67 cm              False   \n",
       "1105                               Fresco, 238 x 200 cm              False   \n",
       "1106  Metalcut and letterpress in black with rubrica...              False   \n",
       "1107                          Oil on canvas, 93 x 83 cm              False   \n",
       "\n",
       "      catherine_present  baptist_present  jerome_present  francis_present  \\\n",
       "0                 False            False           False            False   \n",
       "1                 False            False           False            False   \n",
       "2                 False            False           False            False   \n",
       "3                 False            False           False            False   \n",
       "4                 False            False           False            False   \n",
       "...                 ...              ...             ...              ...   \n",
       "1103              False            False           False            False   \n",
       "1104              False            False           False            False   \n",
       "1105              False            False           False            False   \n",
       "1106              False            False           False            False   \n",
       "1107              False            False           False            False   \n",
       "\n",
       "      magdalene_present  mark_present  lucy_present  evangelist_present  \n",
       "0                 False         False         False               False  \n",
       "1                 False         False         False               False  \n",
       "2                 False         False         False               False  \n",
       "3                 False         False         False               False  \n",
       "4                 False         False         False               False  \n",
       "...                 ...           ...           ...                 ...  \n",
       "1103              False         False         False                True  \n",
       "1104              False         False         False                True  \n",
       "1105              False         False         False                True  \n",
       "1106              False         False         False                True  \n",
       "1107              False         False         False                True  \n",
       "\n",
       "[1108 rows x 19 columns]"
      ]
     },
     "execution_count": 20,
     "metadata": {},
     "output_type": "execute_result"
    }
   ],
   "source": [
    "temp"
   ]
  },
  {
   "cell_type": "code",
   "execution_count": 21,
   "id": "23604839",
   "metadata": {},
   "outputs": [],
   "source": [
    "temp = temp.sample(frac=1).reset_index(drop=True)"
   ]
  },
  {
   "cell_type": "code",
   "execution_count": 22,
   "id": "d13f317c",
   "metadata": {},
   "outputs": [
    {
     "data": {
      "text/html": [
       "<div>\n",
       "<style scoped>\n",
       "    .dataframe tbody tr th:only-of-type {\n",
       "        vertical-align: middle;\n",
       "    }\n",
       "\n",
       "    .dataframe tbody tr th {\n",
       "        vertical-align: top;\n",
       "    }\n",
       "\n",
       "    .dataframe thead th {\n",
       "        text-align: right;\n",
       "    }\n",
       "</style>\n",
       "<table border=\"1\" class=\"dataframe\">\n",
       "  <thead>\n",
       "    <tr style=\"text-align: right;\">\n",
       "      <th></th>\n",
       "      <th>index</th>\n",
       "      <th>Unnamed: 0</th>\n",
       "      <th>ARTIST</th>\n",
       "      <th>TITLE</th>\n",
       "      <th>METADATA_URL</th>\n",
       "      <th>IMAGE_LINK</th>\n",
       "      <th>IMAGE_NAME</th>\n",
       "      <th>DESCRIPTION</th>\n",
       "      <th>TIMEFRAME</th>\n",
       "      <th>TECHNIQUE</th>\n",
       "      <th>sebastian_present</th>\n",
       "      <th>catherine_present</th>\n",
       "      <th>baptist_present</th>\n",
       "      <th>jerome_present</th>\n",
       "      <th>francis_present</th>\n",
       "      <th>magdalene_present</th>\n",
       "      <th>mark_present</th>\n",
       "      <th>lucy_present</th>\n",
       "      <th>evangelist_present</th>\n",
       "    </tr>\n",
       "  </thead>\n",
       "  <tbody>\n",
       "    <tr>\n",
       "      <th>0</th>\n",
       "      <td>61</td>\n",
       "      <td>5853.0</td>\n",
       "      <td>Master E.S.</td>\n",
       "      <td>The Martyrdom of Saint Sebastian</td>\n",
       "      <td>https://www.artic.edu/artworks/19503/the-marty...</td>\n",
       "      <td>https://www.artic.edu/iiif/2/794de40f-ceb9-8ac...</td>\n",
       "      <td>chicago_art_gallery_794de40f-ceb9-8ac1-a504-76...</td>\n",
       "      <td>Lehrs II.224.155</td>\n",
       "      <td>1450–1460</td>\n",
       "      <td>Engraving on paper</td>\n",
       "      <td>True</td>\n",
       "      <td>False</td>\n",
       "      <td>False</td>\n",
       "      <td>False</td>\n",
       "      <td>False</td>\n",
       "      <td>False</td>\n",
       "      <td>False</td>\n",
       "      <td>False</td>\n",
       "      <td>False</td>\n",
       "    </tr>\n",
       "    <tr>\n",
       "      <th>1</th>\n",
       "      <td>54</td>\n",
       "      <td>2090.0</td>\n",
       "      <td>GOES, Hugo van der</td>\n",
       "      <td>Sts Margaret and Mary Magdalene with Maria Por...</td>\n",
       "      <td>https://www.wga.hu/html/g/goes/portinar/right4...</td>\n",
       "      <td>https://www.wga.hu/detail/g/goes/portinar/righ...</td>\n",
       "      <td>web_gallery_ggoesportinarright4.jpg</td>\n",
       "      <td>NaN</td>\n",
       "      <td>1451-1500</td>\n",
       "      <td>Oil on wood</td>\n",
       "      <td>False</td>\n",
       "      <td>False</td>\n",
       "      <td>False</td>\n",
       "      <td>False</td>\n",
       "      <td>False</td>\n",
       "      <td>True</td>\n",
       "      <td>False</td>\n",
       "      <td>False</td>\n",
       "      <td>False</td>\n",
       "    </tr>\n",
       "    <tr>\n",
       "      <th>2</th>\n",
       "      <td>69</td>\n",
       "      <td>NaN</td>\n",
       "      <td>s •window: II, line: 10, lane: c</td>\n",
       "      <td>St. Catherine intercedes before the Emperor ag...</td>\n",
       "      <td>https://corpusvitrearum.de/cvma-digital/bildar...</td>\n",
       "      <td>https://corpusvitrearum.de/typo3temp/cvma/_pro...</td>\n",
       "      <td>corpus_5773.jpg</td>\n",
       "      <td>Mary intercedes (with Christ), Mary Mediatrix ...</td>\n",
       "      <td>1460/70</td>\n",
       "      <td>Transmitted light front single shot</td>\n",
       "      <td>False</td>\n",
       "      <td>True</td>\n",
       "      <td>False</td>\n",
       "      <td>False</td>\n",
       "      <td>False</td>\n",
       "      <td>False</td>\n",
       "      <td>False</td>\n",
       "      <td>False</td>\n",
       "      <td>False</td>\n",
       "    </tr>\n",
       "    <tr>\n",
       "      <th>3</th>\n",
       "      <td>80</td>\n",
       "      <td>3309.0</td>\n",
       "      <td>MAZZOLA BEDOLI, Girolamo</td>\n",
       "      <td>Marriage of St Catherine</td>\n",
       "      <td>https://www.wga.hu/html/m/mazzola/mar_cath.html</td>\n",
       "      <td>https://www.wga.hu/detail/m/mazzola/mar_cath.jpg</td>\n",
       "      <td>web_gallery_mmazzolamar_cath.jpg</td>\n",
       "      <td>Girolamo Bedoli was an Italian painter who rec...</td>\n",
       "      <td>1501-1550</td>\n",
       "      <td>Oil on canvas</td>\n",
       "      <td>False</td>\n",
       "      <td>True</td>\n",
       "      <td>False</td>\n",
       "      <td>False</td>\n",
       "      <td>False</td>\n",
       "      <td>False</td>\n",
       "      <td>False</td>\n",
       "      <td>False</td>\n",
       "      <td>False</td>\n",
       "    </tr>\n",
       "    <tr>\n",
       "      <th>4</th>\n",
       "      <td>41</td>\n",
       "      <td>4724.0</td>\n",
       "      <td>TINTORETTO</td>\n",
       "      <td>The Miracle of St Mark Freeing the Slave</td>\n",
       "      <td>https://www.wga.hu/html/t/tintoret/3a/1mark.html</td>\n",
       "      <td>https://www.wga.hu/detail/t/tintoret/3a/1mark.jpg</td>\n",
       "      <td>web_gallery_ttintoret3a1mark.jpg</td>\n",
       "      <td>The painting is the first of a series of works...</td>\n",
       "      <td>1551-1600</td>\n",
       "      <td>Oil on canvas, 415 x 541 cm</td>\n",
       "      <td>False</td>\n",
       "      <td>False</td>\n",
       "      <td>False</td>\n",
       "      <td>False</td>\n",
       "      <td>False</td>\n",
       "      <td>False</td>\n",
       "      <td>True</td>\n",
       "      <td>False</td>\n",
       "      <td>False</td>\n",
       "    </tr>\n",
       "    <tr>\n",
       "      <th>...</th>\n",
       "      <td>...</td>\n",
       "      <td>...</td>\n",
       "      <td>...</td>\n",
       "      <td>...</td>\n",
       "      <td>...</td>\n",
       "      <td>...</td>\n",
       "      <td>...</td>\n",
       "      <td>...</td>\n",
       "      <td>...</td>\n",
       "      <td>...</td>\n",
       "      <td>...</td>\n",
       "      <td>...</td>\n",
       "      <td>...</td>\n",
       "      <td>...</td>\n",
       "      <td>...</td>\n",
       "      <td>...</td>\n",
       "      <td>...</td>\n",
       "      <td>...</td>\n",
       "      <td>...</td>\n",
       "    </tr>\n",
       "    <tr>\n",
       "      <th>1103</th>\n",
       "      <td>27</td>\n",
       "      <td>1312.0</td>\n",
       "      <td>DOLCI, Carlo</td>\n",
       "      <td>St John the Evangelist</td>\n",
       "      <td>https://www.wga.hu/html/d/dolci/evangeli.html</td>\n",
       "      <td>https://www.wga.hu/detail/d/dolci/evangeli.jpg</td>\n",
       "      <td>web_gallery_ddolcievangeli.jpg</td>\n",
       "      <td>The present painting is an autograph version o...</td>\n",
       "      <td>1601-1650</td>\n",
       "      <td>Oil on canvas, octagonal, 97 x 79 cm</td>\n",
       "      <td>False</td>\n",
       "      <td>False</td>\n",
       "      <td>False</td>\n",
       "      <td>False</td>\n",
       "      <td>False</td>\n",
       "      <td>False</td>\n",
       "      <td>False</td>\n",
       "      <td>False</td>\n",
       "      <td>True</td>\n",
       "    </tr>\n",
       "    <tr>\n",
       "      <th>1104</th>\n",
       "      <td>42</td>\n",
       "      <td>5422.0</td>\n",
       "      <td>Joos van Cleve</td>\n",
       "      <td>The Infants Jesus Christ and Saint John the Ba...</td>\n",
       "      <td>https://www.artic.edu/artworks/48532/the-infan...</td>\n",
       "      <td>https://www.artic.edu/iiif/2/4188f4df-ca48-3e3...</td>\n",
       "      <td>chicago_art_gallery_4188f4df-ca48-3e3a-ecdf-aa...</td>\n",
       "      <td>Joos van Cleve sold many versions of this pain...</td>\n",
       "      <td>1520–1535</td>\n",
       "      <td>Oil on panel</td>\n",
       "      <td>False</td>\n",
       "      <td>False</td>\n",
       "      <td>True</td>\n",
       "      <td>False</td>\n",
       "      <td>False</td>\n",
       "      <td>False</td>\n",
       "      <td>False</td>\n",
       "      <td>False</td>\n",
       "      <td>False</td>\n",
       "    </tr>\n",
       "    <tr>\n",
       "      <th>1105</th>\n",
       "      <td>70</td>\n",
       "      <td>2857.0</td>\n",
       "      <td>LOTTO, Lorenzo</td>\n",
       "      <td>St Sebastian</td>\n",
       "      <td>https://www.wga.hu/html/l/lotto/5/02wing1.html</td>\n",
       "      <td>https://www.wga.hu/detail/l/lotto/5/02wing1.jpg</td>\n",
       "      <td>web_gallery_llotto502wing1.jpg</td>\n",
       "      <td>Like the panel representing St Christopher (in...</td>\n",
       "      <td>1501-1550</td>\n",
       "      <td>Oil on canvas, 162 x 57 cm</td>\n",
       "      <td>True</td>\n",
       "      <td>False</td>\n",
       "      <td>False</td>\n",
       "      <td>False</td>\n",
       "      <td>False</td>\n",
       "      <td>False</td>\n",
       "      <td>False</td>\n",
       "      <td>False</td>\n",
       "      <td>False</td>\n",
       "    </tr>\n",
       "    <tr>\n",
       "      <th>1106</th>\n",
       "      <td>62</td>\n",
       "      <td>1683.0</td>\n",
       "      <td>GHIRLANDAIO, Davide</td>\n",
       "      <td>Virgin and Child Enthroned between St Ursula a...</td>\n",
       "      <td>https://www.wga.hu/html/g/ghirland/davide/virg...</td>\n",
       "      <td>https://www.wga.hu/detail/g/ghirland/davide/vi...</td>\n",
       "      <td>web_gallery_gghirlanddavidevirgin_e.jpg</td>\n",
       "      <td>Formerly the painting was attributed to Domeni...</td>\n",
       "      <td>1451-1500</td>\n",
       "      <td>Tempera on panel, 65 x 42 cm</td>\n",
       "      <td>False</td>\n",
       "      <td>True</td>\n",
       "      <td>False</td>\n",
       "      <td>False</td>\n",
       "      <td>False</td>\n",
       "      <td>False</td>\n",
       "      <td>False</td>\n",
       "      <td>False</td>\n",
       "      <td>False</td>\n",
       "    </tr>\n",
       "    <tr>\n",
       "      <th>1107</th>\n",
       "      <td>136</td>\n",
       "      <td>1183.0</td>\n",
       "      <td>CRANACH, Lucas the Elder</td>\n",
       "      <td>St Jerome in a Landscape</td>\n",
       "      <td>https://www.wga.hu/html/c/cranach/lucas_e/03/1...</td>\n",
       "      <td>https://www.wga.hu/detail/c/cranach/lucas_e/03...</td>\n",
       "      <td>web_gallery_ccranachlucas_e0314jerome.jpg</td>\n",
       "      <td>This painting was produced in the Cranach work...</td>\n",
       "      <td>1501-1550</td>\n",
       "      <td>Limewood panel, 51 x 38 cm</td>\n",
       "      <td>False</td>\n",
       "      <td>False</td>\n",
       "      <td>False</td>\n",
       "      <td>True</td>\n",
       "      <td>False</td>\n",
       "      <td>False</td>\n",
       "      <td>False</td>\n",
       "      <td>False</td>\n",
       "      <td>False</td>\n",
       "    </tr>\n",
       "  </tbody>\n",
       "</table>\n",
       "<p>1108 rows × 19 columns</p>\n",
       "</div>"
      ],
      "text/plain": [
       "      index  Unnamed: 0                            ARTIST  \\\n",
       "0        61      5853.0                       Master E.S.   \n",
       "1        54      2090.0                GOES, Hugo van der   \n",
       "2        69         NaN  s •window: II, line: 10, lane: c   \n",
       "3        80      3309.0          MAZZOLA BEDOLI, Girolamo   \n",
       "4        41      4724.0                        TINTORETTO   \n",
       "...     ...         ...                               ...   \n",
       "1103     27      1312.0                      DOLCI, Carlo   \n",
       "1104     42      5422.0                    Joos van Cleve   \n",
       "1105     70      2857.0                    LOTTO, Lorenzo   \n",
       "1106     62      1683.0               GHIRLANDAIO, Davide   \n",
       "1107    136      1183.0          CRANACH, Lucas the Elder   \n",
       "\n",
       "                                                  TITLE  \\\n",
       "0                      The Martyrdom of Saint Sebastian   \n",
       "1     Sts Margaret and Mary Magdalene with Maria Por...   \n",
       "2     St. Catherine intercedes before the Emperor ag...   \n",
       "3                              Marriage of St Catherine   \n",
       "4              The Miracle of St Mark Freeing the Slave   \n",
       "...                                                 ...   \n",
       "1103                             St John the Evangelist   \n",
       "1104  The Infants Jesus Christ and Saint John the Ba...   \n",
       "1105                                       St Sebastian   \n",
       "1106  Virgin and Child Enthroned between St Ursula a...   \n",
       "1107                           St Jerome in a Landscape   \n",
       "\n",
       "                                           METADATA_URL  \\\n",
       "0     https://www.artic.edu/artworks/19503/the-marty...   \n",
       "1     https://www.wga.hu/html/g/goes/portinar/right4...   \n",
       "2     https://corpusvitrearum.de/cvma-digital/bildar...   \n",
       "3       https://www.wga.hu/html/m/mazzola/mar_cath.html   \n",
       "4      https://www.wga.hu/html/t/tintoret/3a/1mark.html   \n",
       "...                                                 ...   \n",
       "1103      https://www.wga.hu/html/d/dolci/evangeli.html   \n",
       "1104  https://www.artic.edu/artworks/48532/the-infan...   \n",
       "1105     https://www.wga.hu/html/l/lotto/5/02wing1.html   \n",
       "1106  https://www.wga.hu/html/g/ghirland/davide/virg...   \n",
       "1107  https://www.wga.hu/html/c/cranach/lucas_e/03/1...   \n",
       "\n",
       "                                             IMAGE_LINK  \\\n",
       "0     https://www.artic.edu/iiif/2/794de40f-ceb9-8ac...   \n",
       "1     https://www.wga.hu/detail/g/goes/portinar/righ...   \n",
       "2     https://corpusvitrearum.de/typo3temp/cvma/_pro...   \n",
       "3      https://www.wga.hu/detail/m/mazzola/mar_cath.jpg   \n",
       "4     https://www.wga.hu/detail/t/tintoret/3a/1mark.jpg   \n",
       "...                                                 ...   \n",
       "1103     https://www.wga.hu/detail/d/dolci/evangeli.jpg   \n",
       "1104  https://www.artic.edu/iiif/2/4188f4df-ca48-3e3...   \n",
       "1105    https://www.wga.hu/detail/l/lotto/5/02wing1.jpg   \n",
       "1106  https://www.wga.hu/detail/g/ghirland/davide/vi...   \n",
       "1107  https://www.wga.hu/detail/c/cranach/lucas_e/03...   \n",
       "\n",
       "                                             IMAGE_NAME  \\\n",
       "0     chicago_art_gallery_794de40f-ceb9-8ac1-a504-76...   \n",
       "1                   web_gallery_ggoesportinarright4.jpg   \n",
       "2                                       corpus_5773.jpg   \n",
       "3                      web_gallery_mmazzolamar_cath.jpg   \n",
       "4                      web_gallery_ttintoret3a1mark.jpg   \n",
       "...                                                 ...   \n",
       "1103                     web_gallery_ddolcievangeli.jpg   \n",
       "1104  chicago_art_gallery_4188f4df-ca48-3e3a-ecdf-aa...   \n",
       "1105                     web_gallery_llotto502wing1.jpg   \n",
       "1106            web_gallery_gghirlanddavidevirgin_e.jpg   \n",
       "1107          web_gallery_ccranachlucas_e0314jerome.jpg   \n",
       "\n",
       "                                            DESCRIPTION   TIMEFRAME  \\\n",
       "0                                     Lehrs II.224.155    1450–1460   \n",
       "1                                                   NaN   1451-1500   \n",
       "2     Mary intercedes (with Christ), Mary Mediatrix ...     1460/70   \n",
       "3     Girolamo Bedoli was an Italian painter who rec...   1501-1550   \n",
       "4     The painting is the first of a series of works...   1551-1600   \n",
       "...                                                 ...         ...   \n",
       "1103  The present painting is an autograph version o...   1601-1650   \n",
       "1104  Joos van Cleve sold many versions of this pain...   1520–1535   \n",
       "1105  Like the panel representing St Christopher (in...   1501-1550   \n",
       "1106  Formerly the painting was attributed to Domeni...   1451-1500   \n",
       "1107  This painting was produced in the Cranach work...   1501-1550   \n",
       "\n",
       "                                 TECHNIQUE  sebastian_present  \\\n",
       "0                       Engraving on paper               True   \n",
       "1                              Oil on wood              False   \n",
       "2      Transmitted light front single shot              False   \n",
       "3                            Oil on canvas              False   \n",
       "4              Oil on canvas, 415 x 541 cm              False   \n",
       "...                                    ...                ...   \n",
       "1103  Oil on canvas, octagonal, 97 x 79 cm              False   \n",
       "1104                          Oil on panel              False   \n",
       "1105            Oil on canvas, 162 x 57 cm               True   \n",
       "1106          Tempera on panel, 65 x 42 cm              False   \n",
       "1107            Limewood panel, 51 x 38 cm              False   \n",
       "\n",
       "      catherine_present  baptist_present  jerome_present  francis_present  \\\n",
       "0                 False            False           False            False   \n",
       "1                 False            False           False            False   \n",
       "2                  True            False           False            False   \n",
       "3                  True            False           False            False   \n",
       "4                 False            False           False            False   \n",
       "...                 ...              ...             ...              ...   \n",
       "1103              False            False           False            False   \n",
       "1104              False             True           False            False   \n",
       "1105              False            False           False            False   \n",
       "1106               True            False           False            False   \n",
       "1107              False            False            True            False   \n",
       "\n",
       "      magdalene_present  mark_present  lucy_present  evangelist_present  \n",
       "0                 False         False         False               False  \n",
       "1                  True         False         False               False  \n",
       "2                 False         False         False               False  \n",
       "3                 False         False         False               False  \n",
       "4                 False          True         False               False  \n",
       "...                 ...           ...           ...                 ...  \n",
       "1103              False         False         False                True  \n",
       "1104              False         False         False               False  \n",
       "1105              False         False         False               False  \n",
       "1106              False         False         False               False  \n",
       "1107              False         False         False               False  \n",
       "\n",
       "[1108 rows x 19 columns]"
      ]
     },
     "execution_count": 22,
     "metadata": {},
     "output_type": "execute_result"
    }
   ],
   "source": [
    "temp"
   ]
  },
  {
   "cell_type": "code",
   "execution_count": 23,
   "id": "9322de06",
   "metadata": {},
   "outputs": [],
   "source": [
    "temp.to_csv('iconart_detect.csv', index = False)"
   ]
  },
  {
   "cell_type": "code",
   "execution_count": 24,
   "id": "a5697a0b",
   "metadata": {},
   "outputs": [
    {
     "data": {
      "text/html": [
       "<div>\n",
       "<style scoped>\n",
       "    .dataframe tbody tr th:only-of-type {\n",
       "        vertical-align: middle;\n",
       "    }\n",
       "\n",
       "    .dataframe tbody tr th {\n",
       "        vertical-align: top;\n",
       "    }\n",
       "\n",
       "    .dataframe thead th {\n",
       "        text-align: right;\n",
       "    }\n",
       "</style>\n",
       "<table border=\"1\" class=\"dataframe\">\n",
       "  <thead>\n",
       "    <tr style=\"text-align: right;\">\n",
       "      <th></th>\n",
       "      <th>index</th>\n",
       "      <th>Unnamed: 0</th>\n",
       "      <th>ARTIST</th>\n",
       "      <th>TITLE</th>\n",
       "      <th>METADATA_URL</th>\n",
       "      <th>IMAGE_LINK</th>\n",
       "      <th>IMAGE_NAME</th>\n",
       "      <th>DESCRIPTION</th>\n",
       "      <th>TIMEFRAME</th>\n",
       "      <th>TECHNIQUE</th>\n",
       "      <th>sebastian_present</th>\n",
       "      <th>catherine_present</th>\n",
       "      <th>baptist_present</th>\n",
       "      <th>jerome_present</th>\n",
       "      <th>francis_present</th>\n",
       "      <th>magdalene_present</th>\n",
       "      <th>mark_present</th>\n",
       "      <th>lucy_present</th>\n",
       "      <th>evangelist_present</th>\n",
       "    </tr>\n",
       "  </thead>\n",
       "  <tbody>\n",
       "    <tr>\n",
       "      <th>0</th>\n",
       "      <td>61</td>\n",
       "      <td>5853.0</td>\n",
       "      <td>Master E.S.</td>\n",
       "      <td>The Martyrdom of Saint Sebastian</td>\n",
       "      <td>https://www.artic.edu/artworks/19503/the-marty...</td>\n",
       "      <td>https://www.artic.edu/iiif/2/794de40f-ceb9-8ac...</td>\n",
       "      <td>chicago_art_gallery_794de40f-ceb9-8ac1-a504-76...</td>\n",
       "      <td>Lehrs II.224.155</td>\n",
       "      <td>1450–1460</td>\n",
       "      <td>Engraving on paper</td>\n",
       "      <td>True</td>\n",
       "      <td>False</td>\n",
       "      <td>False</td>\n",
       "      <td>False</td>\n",
       "      <td>False</td>\n",
       "      <td>False</td>\n",
       "      <td>False</td>\n",
       "      <td>False</td>\n",
       "      <td>False</td>\n",
       "    </tr>\n",
       "    <tr>\n",
       "      <th>1</th>\n",
       "      <td>54</td>\n",
       "      <td>2090.0</td>\n",
       "      <td>GOES, Hugo van der</td>\n",
       "      <td>Sts Margaret and Mary Magdalene with Maria Por...</td>\n",
       "      <td>https://www.wga.hu/html/g/goes/portinar/right4...</td>\n",
       "      <td>https://www.wga.hu/detail/g/goes/portinar/righ...</td>\n",
       "      <td>web_gallery_ggoesportinarright4.jpg</td>\n",
       "      <td>NaN</td>\n",
       "      <td>1451-1500</td>\n",
       "      <td>Oil on wood</td>\n",
       "      <td>False</td>\n",
       "      <td>False</td>\n",
       "      <td>False</td>\n",
       "      <td>False</td>\n",
       "      <td>False</td>\n",
       "      <td>True</td>\n",
       "      <td>False</td>\n",
       "      <td>False</td>\n",
       "      <td>False</td>\n",
       "    </tr>\n",
       "    <tr>\n",
       "      <th>2</th>\n",
       "      <td>69</td>\n",
       "      <td>NaN</td>\n",
       "      <td>s •window: II, line: 10, lane: c</td>\n",
       "      <td>St. Catherine intercedes before the Emperor ag...</td>\n",
       "      <td>https://corpusvitrearum.de/cvma-digital/bildar...</td>\n",
       "      <td>https://corpusvitrearum.de/typo3temp/cvma/_pro...</td>\n",
       "      <td>corpus_5773.jpg</td>\n",
       "      <td>Mary intercedes (with Christ), Mary Mediatrix ...</td>\n",
       "      <td>1460/70</td>\n",
       "      <td>Transmitted light front single shot</td>\n",
       "      <td>False</td>\n",
       "      <td>True</td>\n",
       "      <td>False</td>\n",
       "      <td>False</td>\n",
       "      <td>False</td>\n",
       "      <td>False</td>\n",
       "      <td>False</td>\n",
       "      <td>False</td>\n",
       "      <td>False</td>\n",
       "    </tr>\n",
       "    <tr>\n",
       "      <th>3</th>\n",
       "      <td>80</td>\n",
       "      <td>3309.0</td>\n",
       "      <td>MAZZOLA BEDOLI, Girolamo</td>\n",
       "      <td>Marriage of St Catherine</td>\n",
       "      <td>https://www.wga.hu/html/m/mazzola/mar_cath.html</td>\n",
       "      <td>https://www.wga.hu/detail/m/mazzola/mar_cath.jpg</td>\n",
       "      <td>web_gallery_mmazzolamar_cath.jpg</td>\n",
       "      <td>Girolamo Bedoli was an Italian painter who rec...</td>\n",
       "      <td>1501-1550</td>\n",
       "      <td>Oil on canvas</td>\n",
       "      <td>False</td>\n",
       "      <td>True</td>\n",
       "      <td>False</td>\n",
       "      <td>False</td>\n",
       "      <td>False</td>\n",
       "      <td>False</td>\n",
       "      <td>False</td>\n",
       "      <td>False</td>\n",
       "      <td>False</td>\n",
       "    </tr>\n",
       "    <tr>\n",
       "      <th>4</th>\n",
       "      <td>41</td>\n",
       "      <td>4724.0</td>\n",
       "      <td>TINTORETTO</td>\n",
       "      <td>The Miracle of St Mark Freeing the Slave</td>\n",
       "      <td>https://www.wga.hu/html/t/tintoret/3a/1mark.html</td>\n",
       "      <td>https://www.wga.hu/detail/t/tintoret/3a/1mark.jpg</td>\n",
       "      <td>web_gallery_ttintoret3a1mark.jpg</td>\n",
       "      <td>The painting is the first of a series of works...</td>\n",
       "      <td>1551-1600</td>\n",
       "      <td>Oil on canvas, 415 x 541 cm</td>\n",
       "      <td>False</td>\n",
       "      <td>False</td>\n",
       "      <td>False</td>\n",
       "      <td>False</td>\n",
       "      <td>False</td>\n",
       "      <td>False</td>\n",
       "      <td>True</td>\n",
       "      <td>False</td>\n",
       "      <td>False</td>\n",
       "    </tr>\n",
       "    <tr>\n",
       "      <th>...</th>\n",
       "      <td>...</td>\n",
       "      <td>...</td>\n",
       "      <td>...</td>\n",
       "      <td>...</td>\n",
       "      <td>...</td>\n",
       "      <td>...</td>\n",
       "      <td>...</td>\n",
       "      <td>...</td>\n",
       "      <td>...</td>\n",
       "      <td>...</td>\n",
       "      <td>...</td>\n",
       "      <td>...</td>\n",
       "      <td>...</td>\n",
       "      <td>...</td>\n",
       "      <td>...</td>\n",
       "      <td>...</td>\n",
       "      <td>...</td>\n",
       "      <td>...</td>\n",
       "      <td>...</td>\n",
       "    </tr>\n",
       "    <tr>\n",
       "      <th>1103</th>\n",
       "      <td>27</td>\n",
       "      <td>1312.0</td>\n",
       "      <td>DOLCI, Carlo</td>\n",
       "      <td>St John the Evangelist</td>\n",
       "      <td>https://www.wga.hu/html/d/dolci/evangeli.html</td>\n",
       "      <td>https://www.wga.hu/detail/d/dolci/evangeli.jpg</td>\n",
       "      <td>web_gallery_ddolcievangeli.jpg</td>\n",
       "      <td>The present painting is an autograph version o...</td>\n",
       "      <td>1601-1650</td>\n",
       "      <td>Oil on canvas, octagonal, 97 x 79 cm</td>\n",
       "      <td>False</td>\n",
       "      <td>False</td>\n",
       "      <td>False</td>\n",
       "      <td>False</td>\n",
       "      <td>False</td>\n",
       "      <td>False</td>\n",
       "      <td>False</td>\n",
       "      <td>False</td>\n",
       "      <td>True</td>\n",
       "    </tr>\n",
       "    <tr>\n",
       "      <th>1104</th>\n",
       "      <td>42</td>\n",
       "      <td>5422.0</td>\n",
       "      <td>Joos van Cleve</td>\n",
       "      <td>The Infants Jesus Christ and Saint John the Ba...</td>\n",
       "      <td>https://www.artic.edu/artworks/48532/the-infan...</td>\n",
       "      <td>https://www.artic.edu/iiif/2/4188f4df-ca48-3e3...</td>\n",
       "      <td>chicago_art_gallery_4188f4df-ca48-3e3a-ecdf-aa...</td>\n",
       "      <td>Joos van Cleve sold many versions of this pain...</td>\n",
       "      <td>1520–1535</td>\n",
       "      <td>Oil on panel</td>\n",
       "      <td>False</td>\n",
       "      <td>False</td>\n",
       "      <td>True</td>\n",
       "      <td>False</td>\n",
       "      <td>False</td>\n",
       "      <td>False</td>\n",
       "      <td>False</td>\n",
       "      <td>False</td>\n",
       "      <td>False</td>\n",
       "    </tr>\n",
       "    <tr>\n",
       "      <th>1105</th>\n",
       "      <td>70</td>\n",
       "      <td>2857.0</td>\n",
       "      <td>LOTTO, Lorenzo</td>\n",
       "      <td>St Sebastian</td>\n",
       "      <td>https://www.wga.hu/html/l/lotto/5/02wing1.html</td>\n",
       "      <td>https://www.wga.hu/detail/l/lotto/5/02wing1.jpg</td>\n",
       "      <td>web_gallery_llotto502wing1.jpg</td>\n",
       "      <td>Like the panel representing St Christopher (in...</td>\n",
       "      <td>1501-1550</td>\n",
       "      <td>Oil on canvas, 162 x 57 cm</td>\n",
       "      <td>True</td>\n",
       "      <td>False</td>\n",
       "      <td>False</td>\n",
       "      <td>False</td>\n",
       "      <td>False</td>\n",
       "      <td>False</td>\n",
       "      <td>False</td>\n",
       "      <td>False</td>\n",
       "      <td>False</td>\n",
       "    </tr>\n",
       "    <tr>\n",
       "      <th>1106</th>\n",
       "      <td>62</td>\n",
       "      <td>1683.0</td>\n",
       "      <td>GHIRLANDAIO, Davide</td>\n",
       "      <td>Virgin and Child Enthroned between St Ursula a...</td>\n",
       "      <td>https://www.wga.hu/html/g/ghirland/davide/virg...</td>\n",
       "      <td>https://www.wga.hu/detail/g/ghirland/davide/vi...</td>\n",
       "      <td>web_gallery_gghirlanddavidevirgin_e.jpg</td>\n",
       "      <td>Formerly the painting was attributed to Domeni...</td>\n",
       "      <td>1451-1500</td>\n",
       "      <td>Tempera on panel, 65 x 42 cm</td>\n",
       "      <td>False</td>\n",
       "      <td>True</td>\n",
       "      <td>False</td>\n",
       "      <td>False</td>\n",
       "      <td>False</td>\n",
       "      <td>False</td>\n",
       "      <td>False</td>\n",
       "      <td>False</td>\n",
       "      <td>False</td>\n",
       "    </tr>\n",
       "    <tr>\n",
       "      <th>1107</th>\n",
       "      <td>136</td>\n",
       "      <td>1183.0</td>\n",
       "      <td>CRANACH, Lucas the Elder</td>\n",
       "      <td>St Jerome in a Landscape</td>\n",
       "      <td>https://www.wga.hu/html/c/cranach/lucas_e/03/1...</td>\n",
       "      <td>https://www.wga.hu/detail/c/cranach/lucas_e/03...</td>\n",
       "      <td>web_gallery_ccranachlucas_e0314jerome.jpg</td>\n",
       "      <td>This painting was produced in the Cranach work...</td>\n",
       "      <td>1501-1550</td>\n",
       "      <td>Limewood panel, 51 x 38 cm</td>\n",
       "      <td>False</td>\n",
       "      <td>False</td>\n",
       "      <td>False</td>\n",
       "      <td>True</td>\n",
       "      <td>False</td>\n",
       "      <td>False</td>\n",
       "      <td>False</td>\n",
       "      <td>False</td>\n",
       "      <td>False</td>\n",
       "    </tr>\n",
       "  </tbody>\n",
       "</table>\n",
       "<p>1108 rows × 19 columns</p>\n",
       "</div>"
      ],
      "text/plain": [
       "      index  Unnamed: 0                            ARTIST  \\\n",
       "0        61      5853.0                       Master E.S.   \n",
       "1        54      2090.0                GOES, Hugo van der   \n",
       "2        69         NaN  s •window: II, line: 10, lane: c   \n",
       "3        80      3309.0          MAZZOLA BEDOLI, Girolamo   \n",
       "4        41      4724.0                        TINTORETTO   \n",
       "...     ...         ...                               ...   \n",
       "1103     27      1312.0                      DOLCI, Carlo   \n",
       "1104     42      5422.0                    Joos van Cleve   \n",
       "1105     70      2857.0                    LOTTO, Lorenzo   \n",
       "1106     62      1683.0               GHIRLANDAIO, Davide   \n",
       "1107    136      1183.0          CRANACH, Lucas the Elder   \n",
       "\n",
       "                                                  TITLE  \\\n",
       "0                      The Martyrdom of Saint Sebastian   \n",
       "1     Sts Margaret and Mary Magdalene with Maria Por...   \n",
       "2     St. Catherine intercedes before the Emperor ag...   \n",
       "3                              Marriage of St Catherine   \n",
       "4              The Miracle of St Mark Freeing the Slave   \n",
       "...                                                 ...   \n",
       "1103                             St John the Evangelist   \n",
       "1104  The Infants Jesus Christ and Saint John the Ba...   \n",
       "1105                                       St Sebastian   \n",
       "1106  Virgin and Child Enthroned between St Ursula a...   \n",
       "1107                           St Jerome in a Landscape   \n",
       "\n",
       "                                           METADATA_URL  \\\n",
       "0     https://www.artic.edu/artworks/19503/the-marty...   \n",
       "1     https://www.wga.hu/html/g/goes/portinar/right4...   \n",
       "2     https://corpusvitrearum.de/cvma-digital/bildar...   \n",
       "3       https://www.wga.hu/html/m/mazzola/mar_cath.html   \n",
       "4      https://www.wga.hu/html/t/tintoret/3a/1mark.html   \n",
       "...                                                 ...   \n",
       "1103      https://www.wga.hu/html/d/dolci/evangeli.html   \n",
       "1104  https://www.artic.edu/artworks/48532/the-infan...   \n",
       "1105     https://www.wga.hu/html/l/lotto/5/02wing1.html   \n",
       "1106  https://www.wga.hu/html/g/ghirland/davide/virg...   \n",
       "1107  https://www.wga.hu/html/c/cranach/lucas_e/03/1...   \n",
       "\n",
       "                                             IMAGE_LINK  \\\n",
       "0     https://www.artic.edu/iiif/2/794de40f-ceb9-8ac...   \n",
       "1     https://www.wga.hu/detail/g/goes/portinar/righ...   \n",
       "2     https://corpusvitrearum.de/typo3temp/cvma/_pro...   \n",
       "3      https://www.wga.hu/detail/m/mazzola/mar_cath.jpg   \n",
       "4     https://www.wga.hu/detail/t/tintoret/3a/1mark.jpg   \n",
       "...                                                 ...   \n",
       "1103     https://www.wga.hu/detail/d/dolci/evangeli.jpg   \n",
       "1104  https://www.artic.edu/iiif/2/4188f4df-ca48-3e3...   \n",
       "1105    https://www.wga.hu/detail/l/lotto/5/02wing1.jpg   \n",
       "1106  https://www.wga.hu/detail/g/ghirland/davide/vi...   \n",
       "1107  https://www.wga.hu/detail/c/cranach/lucas_e/03...   \n",
       "\n",
       "                                             IMAGE_NAME  \\\n",
       "0     chicago_art_gallery_794de40f-ceb9-8ac1-a504-76...   \n",
       "1                   web_gallery_ggoesportinarright4.jpg   \n",
       "2                                       corpus_5773.jpg   \n",
       "3                      web_gallery_mmazzolamar_cath.jpg   \n",
       "4                      web_gallery_ttintoret3a1mark.jpg   \n",
       "...                                                 ...   \n",
       "1103                     web_gallery_ddolcievangeli.jpg   \n",
       "1104  chicago_art_gallery_4188f4df-ca48-3e3a-ecdf-aa...   \n",
       "1105                     web_gallery_llotto502wing1.jpg   \n",
       "1106            web_gallery_gghirlanddavidevirgin_e.jpg   \n",
       "1107          web_gallery_ccranachlucas_e0314jerome.jpg   \n",
       "\n",
       "                                            DESCRIPTION   TIMEFRAME  \\\n",
       "0                                     Lehrs II.224.155    1450–1460   \n",
       "1                                                   NaN   1451-1500   \n",
       "2     Mary intercedes (with Christ), Mary Mediatrix ...     1460/70   \n",
       "3     Girolamo Bedoli was an Italian painter who rec...   1501-1550   \n",
       "4     The painting is the first of a series of works...   1551-1600   \n",
       "...                                                 ...         ...   \n",
       "1103  The present painting is an autograph version o...   1601-1650   \n",
       "1104  Joos van Cleve sold many versions of this pain...   1520–1535   \n",
       "1105  Like the panel representing St Christopher (in...   1501-1550   \n",
       "1106  Formerly the painting was attributed to Domeni...   1451-1500   \n",
       "1107  This painting was produced in the Cranach work...   1501-1550   \n",
       "\n",
       "                                 TECHNIQUE  sebastian_present  \\\n",
       "0                       Engraving on paper               True   \n",
       "1                              Oil on wood              False   \n",
       "2      Transmitted light front single shot              False   \n",
       "3                            Oil on canvas              False   \n",
       "4              Oil on canvas, 415 x 541 cm              False   \n",
       "...                                    ...                ...   \n",
       "1103  Oil on canvas, octagonal, 97 x 79 cm              False   \n",
       "1104                          Oil on panel              False   \n",
       "1105            Oil on canvas, 162 x 57 cm               True   \n",
       "1106          Tempera on panel, 65 x 42 cm              False   \n",
       "1107            Limewood panel, 51 x 38 cm              False   \n",
       "\n",
       "      catherine_present  baptist_present  jerome_present  francis_present  \\\n",
       "0                 False            False           False            False   \n",
       "1                 False            False           False            False   \n",
       "2                  True            False           False            False   \n",
       "3                  True            False           False            False   \n",
       "4                 False            False           False            False   \n",
       "...                 ...              ...             ...              ...   \n",
       "1103              False            False           False            False   \n",
       "1104              False             True           False            False   \n",
       "1105              False            False           False            False   \n",
       "1106               True            False           False            False   \n",
       "1107              False            False            True            False   \n",
       "\n",
       "      magdalene_present  mark_present  lucy_present  evangelist_present  \n",
       "0                 False         False         False               False  \n",
       "1                  True         False         False               False  \n",
       "2                 False         False         False               False  \n",
       "3                 False         False         False               False  \n",
       "4                 False          True         False               False  \n",
       "...                 ...           ...           ...                 ...  \n",
       "1103              False         False         False                True  \n",
       "1104              False         False         False               False  \n",
       "1105              False         False         False               False  \n",
       "1106              False         False         False               False  \n",
       "1107              False         False         False               False  \n",
       "\n",
       "[1108 rows x 19 columns]"
      ]
     },
     "execution_count": 24,
     "metadata": {},
     "output_type": "execute_result"
    }
   ],
   "source": [
    "temp"
   ]
  },
  {
   "cell_type": "code",
   "execution_count": null,
   "id": "c74e6fde",
   "metadata": {},
   "outputs": [],
   "source": []
  }
 ],
 "metadata": {
  "kernelspec": {
   "display_name": "Python 3 (ipykernel)",
   "language": "python",
   "name": "python3"
  },
  "language_info": {
   "codemirror_mode": {
    "name": "ipython",
    "version": 3
   },
   "file_extension": ".py",
   "mimetype": "text/x-python",
   "name": "python",
   "nbconvert_exporter": "python",
   "pygments_lexer": "ipython3",
   "version": "3.9.12"
  }
 },
 "nbformat": 4,
 "nbformat_minor": 5
}

{
 "cells": [
  {
   "cell_type": "code",
   "execution_count": 1,
   "id": "ab0c378f",
   "metadata": {},
   "outputs": [
    {
     "name": "stdout",
     "output_type": "stream",
     "text": [
      "Collecting transformers\n",
      "  Downloading transformers-4.21.1-py3-none-any.whl (4.7 MB)\n",
      "\u001b[K     |████████████████████████████████| 4.7 MB 1.2 MB/s eta 0:00:01\n",
      "\u001b[?25hRequirement already satisfied: packaging>=20.0 in /home/nightskies/anaconda3/lib/python3.9/site-packages (from transformers) (21.3)\n",
      "Requirement already satisfied: huggingface-hub<1.0,>=0.1.0 in /home/nightskies/anaconda3/lib/python3.9/site-packages (from transformers) (0.8.1)\n",
      "Requirement already satisfied: numpy>=1.17 in /home/nightskies/anaconda3/lib/python3.9/site-packages (from transformers) (1.21.5)\n",
      "Requirement already satisfied: regex!=2019.12.17 in /home/nightskies/anaconda3/lib/python3.9/site-packages (from transformers) (2022.3.15)\n",
      "Requirement already satisfied: requests in /home/nightskies/anaconda3/lib/python3.9/site-packages (from transformers) (2.27.1)\n",
      "Collecting tokenizers!=0.11.3,<0.13,>=0.11.1\n",
      "  Downloading tokenizers-0.12.1-cp39-cp39-manylinux_2_12_x86_64.manylinux2010_x86_64.whl (6.6 MB)\n",
      "\u001b[K     |████████████████████████████████| 6.6 MB 1.7 MB/s eta 0:00:01\n",
      "\u001b[?25hRequirement already satisfied: tqdm>=4.27 in /home/nightskies/anaconda3/lib/python3.9/site-packages (from transformers) (4.64.0)\n",
      "Requirement already satisfied: pyyaml>=5.1 in /home/nightskies/anaconda3/lib/python3.9/site-packages (from transformers) (6.0)\n",
      "Requirement already satisfied: filelock in /home/nightskies/anaconda3/lib/python3.9/site-packages (from transformers) (3.6.0)\n",
      "Requirement already satisfied: typing-extensions>=3.7.4.3 in /home/nightskies/anaconda3/lib/python3.9/site-packages (from huggingface-hub<1.0,>=0.1.0->transformers) (4.1.1)\n",
      "Requirement already satisfied: pyparsing!=3.0.5,>=2.0.2 in /home/nightskies/anaconda3/lib/python3.9/site-packages (from packaging>=20.0->transformers) (3.0.4)\n",
      "Requirement already satisfied: idna<4,>=2.5 in /home/nightskies/anaconda3/lib/python3.9/site-packages (from requests->transformers) (3.3)\n",
      "Requirement already satisfied: urllib3<1.27,>=1.21.1 in /home/nightskies/anaconda3/lib/python3.9/site-packages (from requests->transformers) (1.26.9)\n",
      "Requirement already satisfied: certifi>=2017.4.17 in /home/nightskies/anaconda3/lib/python3.9/site-packages (from requests->transformers) (2021.10.8)\n",
      "Requirement already satisfied: charset-normalizer~=2.0.0 in /home/nightskies/anaconda3/lib/python3.9/site-packages (from requests->transformers) (2.0.4)\n",
      "Installing collected packages: tokenizers, transformers\n",
      "Successfully installed tokenizers-0.12.1 transformers-4.21.1\n"
     ]
    }
   ],
   "source": [
    "!pip install transformers"
   ]
  },
  {
   "cell_type": "code",
   "execution_count": 1,
   "id": "a31f6108",
   "metadata": {},
   "outputs": [],
   "source": [
    "from transformers import BertTokenizer, BertModel\n",
    "import pandas as pd"
   ]
  },
  {
   "cell_type": "code",
   "execution_count": 2,
   "id": "1dc15ba4",
   "metadata": {},
   "outputs": [],
   "source": [
    "import logging\n",
    "#logging.basicConfig(level=logging.INFO)\n",
    "\n",
    "import matplotlib.pyplot as plt\n",
    "\n",
    "# Load pre-trained model tokenizer (vocabulary)\n",
    "tokenizer = BertTokenizer.from_pretrained('bert-base-uncased')\n"
   ]
  },
  {
   "cell_type": "code",
   "execution_count": 3,
   "id": "5de6843c",
   "metadata": {},
   "outputs": [],
   "source": [
    "from nltk import tokenize"
   ]
  },
  {
   "cell_type": "code",
   "execution_count": 4,
   "id": "487de34b",
   "metadata": {},
   "outputs": [],
   "source": [
    "metadata_df = pd.read_csv('metadata(7).csv')"
   ]
  },
  {
   "cell_type": "code",
   "execution_count": null,
   "id": "a2129921",
   "metadata": {},
   "outputs": [],
   "source": []
  },
  {
   "cell_type": "code",
   "execution_count": 5,
   "id": "1e061a3d",
   "metadata": {},
   "outputs": [
    {
     "data": {
      "text/html": [
       "<div>\n",
       "<style scoped>\n",
       "    .dataframe tbody tr th:only-of-type {\n",
       "        vertical-align: middle;\n",
       "    }\n",
       "\n",
       "    .dataframe tbody tr th {\n",
       "        vertical-align: top;\n",
       "    }\n",
       "\n",
       "    .dataframe thead th {\n",
       "        text-align: right;\n",
       "    }\n",
       "</style>\n",
       "<table border=\"1\" class=\"dataframe\">\n",
       "  <thead>\n",
       "    <tr style=\"text-align: right;\">\n",
       "      <th></th>\n",
       "      <th>ARTIST</th>\n",
       "      <th>TITLE</th>\n",
       "      <th>METADATA_URL</th>\n",
       "      <th>IMAGE_LINK</th>\n",
       "      <th>IMAGE_NAME</th>\n",
       "      <th>DESCRIPTION</th>\n",
       "      <th>TIMEFRAME</th>\n",
       "      <th>TECHNIQUE</th>\n",
       "      <th>valid</th>\n",
       "    </tr>\n",
       "  </thead>\n",
       "  <tbody>\n",
       "    <tr>\n",
       "      <th>0</th>\n",
       "      <td>AERTSEN, Pieter</td>\n",
       "      <td>Apostles Peter and John</td>\n",
       "      <td>https://www.wga.hu/html/a/aertsen/apostles.html</td>\n",
       "      <td>https://www.wga.hu/detail/a/aertsen/apostles.jpg</td>\n",
       "      <td>web_gallery_aaertsenapostles.jpg</td>\n",
       "      <td>Earlier the painting was attributed to Joachim...</td>\n",
       "      <td>1501-1550</td>\n",
       "      <td>Oil on wood, 55,5 x 76 cm cm</td>\n",
       "      <td>200.0</td>\n",
       "    </tr>\n",
       "    <tr>\n",
       "      <th>1</th>\n",
       "      <td>AERTSEN, Pieter</td>\n",
       "      <td>Christ in the House of Martha and Mary</td>\n",
       "      <td>https://www.wga.hu/html/a/aertsen/christ_m.html</td>\n",
       "      <td>https://www.wga.hu/detail/a/aertsen/christ_m.jpg</td>\n",
       "      <td>web_gallery_aaertsenchrist_m.jpg</td>\n",
       "      <td>A kitchen scene combined with a religious subj...</td>\n",
       "      <td>1501-1550</td>\n",
       "      <td>Oil on panel, 126 x 200 cm</td>\n",
       "      <td>200.0</td>\n",
       "    </tr>\n",
       "    <tr>\n",
       "      <th>2</th>\n",
       "      <td>AGABITI, Pietro Paolo</td>\n",
       "      <td>Virgin Enthroned between Sts John the Baptist ...</td>\n",
       "      <td>https://www.wga.hu/html/a/agabiti/altar1.html</td>\n",
       "      <td>https://www.wga.hu/detail/a/agabiti/altar1.jpg</td>\n",
       "      <td>web_gallery_aagabitialtar1.jpg</td>\n",
       "      <td>This is the central piece of an altarpiece. Th...</td>\n",
       "      <td>1501-1550</td>\n",
       "      <td>Oil on wood</td>\n",
       "      <td>200.0</td>\n",
       "    </tr>\n",
       "    <tr>\n",
       "      <th>3</th>\n",
       "      <td>AGABITI, Pietro Paolo</td>\n",
       "      <td>Sts Sebastian and Roch</td>\n",
       "      <td>https://www.wga.hu/html/a/agabiti/altar32.html</td>\n",
       "      <td>https://www.wga.hu/detail/a/agabiti/altar32.jpg</td>\n",
       "      <td>web_gallery_aagabitialtar32.jpg</td>\n",
       "      <td>This is one of the four predella scenes belong...</td>\n",
       "      <td>1501-1550</td>\n",
       "      <td>Oil on wood</td>\n",
       "      <td>200.0</td>\n",
       "    </tr>\n",
       "    <tr>\n",
       "      <th>4</th>\n",
       "      <td>AGABITI, Pietro Paolo</td>\n",
       "      <td>St Jerome in the Desert</td>\n",
       "      <td>https://www.wga.hu/html/a/agabiti/altar33.html</td>\n",
       "      <td>https://www.wga.hu/detail/a/agabiti/altar33.jpg</td>\n",
       "      <td>web_gallery_aagabitialtar33.jpg</td>\n",
       "      <td>This is one of the four predella scenes belong...</td>\n",
       "      <td>1501-1550</td>\n",
       "      <td>Oil on wood</td>\n",
       "      <td>200.0</td>\n",
       "    </tr>\n",
       "    <tr>\n",
       "      <th>...</th>\n",
       "      <td>...</td>\n",
       "      <td>...</td>\n",
       "      <td>...</td>\n",
       "      <td>...</td>\n",
       "      <td>...</td>\n",
       "      <td>...</td>\n",
       "      <td>...</td>\n",
       "      <td>...</td>\n",
       "      <td>...</td>\n",
       "    </tr>\n",
       "    <tr>\n",
       "      <th>9445</th>\n",
       "      <td>Rosenwald Collection</td>\n",
       "      <td>Coats of Arms with Corner Portraits of Henry V...</td>\n",
       "      <td>https://www.nga.gov/collection/art-object-page...</td>\n",
       "      <td>https://media.nga.gov/iiif/b1c8f026-c6c1-45b6-...</td>\n",
       "      <td>nga_b1c8f026-c6c1-45b6-97bc-877c3bda7e50.jpg</td>\n",
       "      <td>NaN</td>\n",
       "      <td>1500.0</td>\n",
       "      <td>engraving</td>\n",
       "      <td>200.0</td>\n",
       "    </tr>\n",
       "    <tr>\n",
       "      <th>9446</th>\n",
       "      <td>Rosenwald Collection</td>\n",
       "      <td>The Flight to Egypt</td>\n",
       "      <td>https://www.nga.gov/collection/art-object-page...</td>\n",
       "      <td>https://media.nga.gov/iiif/3149723d-f276-4c0b-...</td>\n",
       "      <td>nga_3149723d-f276-4c0b-9177-5ee29114dfa0.jpg</td>\n",
       "      <td>NaN</td>\n",
       "      <td>1500.0</td>\n",
       "      <td>woodcut [restrike 1968]</td>\n",
       "      <td>200.0</td>\n",
       "    </tr>\n",
       "    <tr>\n",
       "      <th>9447</th>\n",
       "      <td>Rosenwald Collection</td>\n",
       "      <td>Saints Peter and Paul</td>\n",
       "      <td>https://www.nga.gov/collection/art-object-page...</td>\n",
       "      <td>https://media.nga.gov/iiif/4106c711-defc-4a1a-...</td>\n",
       "      <td>nga_4106c711-defc-4a1a-8648-668113de7138.jpg</td>\n",
       "      <td>NaN</td>\n",
       "      <td>1489.0</td>\n",
       "      <td>miniature on vellum</td>\n",
       "      <td>200.0</td>\n",
       "    </tr>\n",
       "    <tr>\n",
       "      <th>9448</th>\n",
       "      <td>Rosenwald Collection</td>\n",
       "      <td>King John [right side]</td>\n",
       "      <td>https://www.nga.gov/collection/art-object-page...</td>\n",
       "      <td>https://media.nga.gov/iiif/8f7afd37-1314-49ef-...</td>\n",
       "      <td>nga_8f7afd37-1314-49ef-b7e5-9689a77c01e4.jpg</td>\n",
       "      <td>NaN</td>\n",
       "      <td>1500.0</td>\n",
       "      <td>pen and brown-black ink over black chalk on la...</td>\n",
       "      <td>200.0</td>\n",
       "    </tr>\n",
       "    <tr>\n",
       "      <th>9449</th>\n",
       "      <td>Ailsa Mellon Bruce Fund</td>\n",
       "      <td>Saints Nicholas, Ulrich, and Erasmus</td>\n",
       "      <td>https://www.nga.gov/collection/art-object-page...</td>\n",
       "      <td>https://media.nga.gov/iiif/8625f7c6-68cf-4765-...</td>\n",
       "      <td>nga_8625f7c6-68cf-4765-909c-c868ec3ccd60.jpg</td>\n",
       "      <td>NaN</td>\n",
       "      <td>1508.0</td>\n",
       "      <td>woodcut</td>\n",
       "      <td>200.0</td>\n",
       "    </tr>\n",
       "  </tbody>\n",
       "</table>\n",
       "<p>9450 rows × 9 columns</p>\n",
       "</div>"
      ],
      "text/plain": [
       "                       ARTIST  \\\n",
       "0             AERTSEN, Pieter   \n",
       "1             AERTSEN, Pieter   \n",
       "2       AGABITI, Pietro Paolo   \n",
       "3       AGABITI, Pietro Paolo   \n",
       "4       AGABITI, Pietro Paolo   \n",
       "...                       ...   \n",
       "9445     Rosenwald Collection   \n",
       "9446     Rosenwald Collection   \n",
       "9447     Rosenwald Collection   \n",
       "9448     Rosenwald Collection   \n",
       "9449  Ailsa Mellon Bruce Fund   \n",
       "\n",
       "                                                  TITLE  \\\n",
       "0                               Apostles Peter and John   \n",
       "1                Christ in the House of Martha and Mary   \n",
       "2     Virgin Enthroned between Sts John the Baptist ...   \n",
       "3                                Sts Sebastian and Roch   \n",
       "4                               St Jerome in the Desert   \n",
       "...                                                 ...   \n",
       "9445  Coats of Arms with Corner Portraits of Henry V...   \n",
       "9446                                The Flight to Egypt   \n",
       "9447                              Saints Peter and Paul   \n",
       "9448                             King John [right side]   \n",
       "9449               Saints Nicholas, Ulrich, and Erasmus   \n",
       "\n",
       "                                           METADATA_URL  \\\n",
       "0       https://www.wga.hu/html/a/aertsen/apostles.html   \n",
       "1       https://www.wga.hu/html/a/aertsen/christ_m.html   \n",
       "2         https://www.wga.hu/html/a/agabiti/altar1.html   \n",
       "3        https://www.wga.hu/html/a/agabiti/altar32.html   \n",
       "4        https://www.wga.hu/html/a/agabiti/altar33.html   \n",
       "...                                                 ...   \n",
       "9445  https://www.nga.gov/collection/art-object-page...   \n",
       "9446  https://www.nga.gov/collection/art-object-page...   \n",
       "9447  https://www.nga.gov/collection/art-object-page...   \n",
       "9448  https://www.nga.gov/collection/art-object-page...   \n",
       "9449  https://www.nga.gov/collection/art-object-page...   \n",
       "\n",
       "                                             IMAGE_LINK  \\\n",
       "0      https://www.wga.hu/detail/a/aertsen/apostles.jpg   \n",
       "1      https://www.wga.hu/detail/a/aertsen/christ_m.jpg   \n",
       "2        https://www.wga.hu/detail/a/agabiti/altar1.jpg   \n",
       "3       https://www.wga.hu/detail/a/agabiti/altar32.jpg   \n",
       "4       https://www.wga.hu/detail/a/agabiti/altar33.jpg   \n",
       "...                                                 ...   \n",
       "9445  https://media.nga.gov/iiif/b1c8f026-c6c1-45b6-...   \n",
       "9446  https://media.nga.gov/iiif/3149723d-f276-4c0b-...   \n",
       "9447  https://media.nga.gov/iiif/4106c711-defc-4a1a-...   \n",
       "9448  https://media.nga.gov/iiif/8f7afd37-1314-49ef-...   \n",
       "9449  https://media.nga.gov/iiif/8625f7c6-68cf-4765-...   \n",
       "\n",
       "                                        IMAGE_NAME  \\\n",
       "0                 web_gallery_aaertsenapostles.jpg   \n",
       "1                 web_gallery_aaertsenchrist_m.jpg   \n",
       "2                   web_gallery_aagabitialtar1.jpg   \n",
       "3                  web_gallery_aagabitialtar32.jpg   \n",
       "4                  web_gallery_aagabitialtar33.jpg   \n",
       "...                                            ...   \n",
       "9445  nga_b1c8f026-c6c1-45b6-97bc-877c3bda7e50.jpg   \n",
       "9446  nga_3149723d-f276-4c0b-9177-5ee29114dfa0.jpg   \n",
       "9447  nga_4106c711-defc-4a1a-8648-668113de7138.jpg   \n",
       "9448  nga_8f7afd37-1314-49ef-b7e5-9689a77c01e4.jpg   \n",
       "9449  nga_8625f7c6-68cf-4765-909c-c868ec3ccd60.jpg   \n",
       "\n",
       "                                            DESCRIPTION  TIMEFRAME  \\\n",
       "0     Earlier the painting was attributed to Joachim...  1501-1550   \n",
       "1     A kitchen scene combined with a religious subj...  1501-1550   \n",
       "2     This is the central piece of an altarpiece. Th...  1501-1550   \n",
       "3     This is one of the four predella scenes belong...  1501-1550   \n",
       "4     This is one of the four predella scenes belong...  1501-1550   \n",
       "...                                                 ...        ...   \n",
       "9445                                                NaN     1500.0   \n",
       "9446                                                NaN     1500.0   \n",
       "9447                                                NaN     1489.0   \n",
       "9448                                                NaN     1500.0   \n",
       "9449                                                NaN     1508.0   \n",
       "\n",
       "                                              TECHNIQUE  valid  \n",
       "0                          Oil on wood, 55,5 x 76 cm cm  200.0  \n",
       "1                            Oil on panel, 126 x 200 cm  200.0  \n",
       "2                                           Oil on wood  200.0  \n",
       "3                                           Oil on wood  200.0  \n",
       "4                                           Oil on wood  200.0  \n",
       "...                                                 ...    ...  \n",
       "9445                                          engraving  200.0  \n",
       "9446                            woodcut [restrike 1968]  200.0  \n",
       "9447                                miniature on vellum  200.0  \n",
       "9448  pen and brown-black ink over black chalk on la...  200.0  \n",
       "9449                                            woodcut  200.0  \n",
       "\n",
       "[9450 rows x 9 columns]"
      ]
     },
     "execution_count": 5,
     "metadata": {},
     "output_type": "execute_result"
    }
   ],
   "source": [
    "metadata_df"
   ]
  },
  {
   "cell_type": "code",
   "execution_count": 6,
   "id": "7550147f",
   "metadata": {},
   "outputs": [
    {
     "name": "stdout",
     "output_type": "stream",
     "text": [
      "['[CLS]', 'a', 'kitchen', 'scene', 'combined', 'with', 'a', 'religious', 'subject', 'is', 'set', 'within', 'renaissance', 'architecture', '.', 'the', 'background', 'depicts', 'the', 'story', 'of', 'christ', 'in', 'the', 'house', 'of', 'martha', 'and', 'mary', '.', 'this', 'painting', 'marks', 'the', 'transition', 'from', 'the', 'late', 'media', '##eva', '##l', 'practice', 'of', 'depicting', 'religious', 'subjects', 'to', 'a', 'new', 'era', ',', 'in', 'which', 'art', 'depicts', 'the', 'everyday', 'life', 'of', 'the', 'self', 'confident', 'bourgeois', '##ie', '.', '[SEP]']\n"
     ]
    }
   ],
   "source": [
    "text = metadata_df.iloc[1]['DESCRIPTION']\n",
    "marked_text = \"[CLS] \" + text + \" [SEP]\"\n",
    "\n",
    "# Tokenize our sentence with the BERT tokenizer.\n",
    "tokenized_text = tokenizer.tokenize(marked_text)\n",
    "\n",
    "# Print out the tokens.\n",
    "print (tokenized_text)"
   ]
  },
  {
   "cell_type": "code",
   "execution_count": 7,
   "id": "ccc2bf99",
   "metadata": {},
   "outputs": [
    {
     "data": {
      "text/plain": [
       "['A kitchen scene combined with a religious subject is set within Renaissance architecture.',\n",
       " 'The background depicts the story of Christ in the house of Martha and Mary.',\n",
       " 'This painting marks the transition from the late mediaeval practice of depicting religious subjects to a new era, in which art depicts the everyday life of the self confident bourgeoisie.']"
      ]
     },
     "execution_count": 7,
     "metadata": {},
     "output_type": "execute_result"
    }
   ],
   "source": [
    "tokenize.sent_tokenize(metadata_df.iloc[1]['DESCRIPTION'])"
   ]
  },
  {
   "cell_type": "code",
   "execution_count": 8,
   "id": "df0e6865",
   "metadata": {},
   "outputs": [
    {
     "data": {
      "text/plain": [
       "PreTrainedTokenizer(name_or_path='bert-base-uncased', vocab_size=30522, model_max_len=512, is_fast=False, padding_side='right', truncation_side='right', special_tokens={'unk_token': '[UNK]', 'sep_token': '[SEP]', 'pad_token': '[PAD]', 'cls_token': '[CLS]', 'mask_token': '[MASK]'})"
      ]
     },
     "execution_count": 8,
     "metadata": {},
     "output_type": "execute_result"
    }
   ],
   "source": [
    "tokenizer"
   ]
  },
  {
   "cell_type": "code",
   "execution_count": 9,
   "id": "aafc5b45",
   "metadata": {},
   "outputs": [],
   "source": [
    "res = tokenize.sent_tokenize(metadata_df.iloc[1]['DESCRIPTION'])"
   ]
  },
  {
   "cell_type": "code",
   "execution_count": null,
   "id": "7301b8e1",
   "metadata": {},
   "outputs": [],
   "source": []
  },
  {
   "cell_type": "code",
   "execution_count": 10,
   "id": "a2d05d82",
   "metadata": {},
   "outputs": [],
   "source": [
    "res1 = tokenize.sent_tokenize(metadata_df.iloc[2]['DESCRIPTION'])"
   ]
  },
  {
   "cell_type": "code",
   "execution_count": 11,
   "id": "f6523077",
   "metadata": {},
   "outputs": [
    {
     "data": {
      "text/plain": [
       "['The background depicts the story of Christ in the house of Martha and Mary. This painting marks the transition from the late mediaeval practice of depicting religious subjects to a new era, in which art depicts the everyday life of the self confident bourgeoisie.',\n",
       " 'The lunette and predella belonging to the altarpiece are also in the Pinacoteca Civica in Jesi.']"
      ]
     },
     "execution_count": 11,
     "metadata": {},
     "output_type": "execute_result"
    }
   ],
   "source": [
    "[\" \".join(res[1:]), \" \".join(res1[1:])]"
   ]
  },
  {
   "cell_type": "code",
   "execution_count": 23,
   "id": "13971fbc",
   "metadata": {},
   "outputs": [],
   "source": [
    "result = \" \".join(tokenize.word_tokenize(res[0]) + ['[SEP]'] + tokenize.word_tokenize(res[1]))"
   ]
  },
  {
   "cell_type": "code",
   "execution_count": 24,
   "id": "a5cc7b6b",
   "metadata": {},
   "outputs": [
    {
     "data": {
      "text/plain": [
       "'A kitchen scene combined with a religious subject is set within Renaissance architecture . [SEP] The background depicts the story of Christ in the house of Martha and Mary .'"
      ]
     },
     "execution_count": 24,
     "metadata": {},
     "output_type": "execute_result"
    }
   ],
   "source": [
    "result"
   ]
  },
  {
   "cell_type": "code",
   "execution_count": 71,
   "id": "8836ea04",
   "metadata": {},
   "outputs": [],
   "source": [
    "metadata_df.DESCRIPTION = metadata_df.DESCRIPTION.fillna(\"\")"
   ]
  },
  {
   "cell_type": "code",
   "execution_count": 69,
   "id": "05e956bf",
   "metadata": {},
   "outputs": [
    {
     "data": {
      "text/plain": [
       "['A kitchen scene combined with a religious subject is set within Renaissance architecture. The background depicts the story of Christ in the house of Martha and Mary. This painting marks the transition from the late mediaeval practice of depicting religious subjects to a new era, in which art depicts the everyday life of the self confident bourgeoisie.',\n",
       " 'This is the central piece of an altarpiece. The lunette and predella belonging to the altarpiece are also in the Pinacoteca Civica in Jesi.',\n",
       " 'This is one of the four predella scenes belonging to the altarpiece with the central panel depicting the Virgin Enthroned between Sts John the Baptist and Anthony of Padua.',\n",
       " 'This is one of the four predella scenes belonging to the altarpiece with the central panel depicting the Virgin Enthroned between Sts John the Baptist and Anthony of Padua.',\n",
       " nan,\n",
       " nan,\n",
       " 'In the years that preceded the Turkish conquest of Constantinople and the ultimate fall of the Byzantine Empire, the Byzantine state had been restricted to the areas around Thrace and the Morea. The difficult circumstances and the insecurity that reigned led the artists of the Capital to seek safer places and new markets. Crete, an island which had been under Venetian domination since 1210, and which was flourishing economically, was one such place. Archival sources mention at least six painters from Constantinople who lived and worked at Chandax (the medieval name for the present-day city of Herakleion in Crete) at the beginning of the 15th century; among them were John Apokaukos and Nicholas Philanthropenos. The wave of \"artistic migration\" which went on even after the fall of Constantinople to the Turks (1453), led to the spread of the art of the Capital to the island and was a contributing factor in the creation of a particular school of painting, known as the \"Cretan School\", which was to dominate the art scene of the post-Byzantine years.',\n",
       " 'The composition and figural types of this Holy Family or The Rest on the Flight into Egypt, especially the statuesque Madonna, owe much to Annibale Carracci, while the soft modeling and freshness of colour, emphasized by the luminosity of the copper support, is highly characteristic of Albani.',\n",
       " \"Small, highly finished cabinet pictures were a specialty of Albani's production and proved to be enormously popular with collectors, especially in France.  Many were painted on copper, a technique he had learned during his years working in the studio of Denys Calvaert, a Flemish artist who had settled in Bologna and operated a successful workshop.\",\n",
       " 'Albani is a typical representative of the reform movement introduced by Carracci. As a student of the Bolognese artists and a colleague of Annibale who collaborated on the decoration of the Aldobrandini lunettes, he had developed a degree of confidence in his choice and application of stylistic means that allowed him not only to handle large wall areas, but also to create small and intimate devotional pictures.',\n",
       " 'The oratory at the west edge of the city centre of Urbino was erected c. 1393. Nothing is known about the commissioning of the paintings on the walls, a cycle depicting scenes from the life of St John the Baptist. The unidentified patron was probably from Rome from where the Salimbeni brothers, Lorenzo and Jacopo, came to Urbino for this commission. Stylistic analysis tells us that another painter was also engaged for the wall frescoes in the oratory. Antonio Alberti was responsible for the scenes from the St John cycle on the left-hand wall and on the inner façade.',\n",
       " \"The Virgin and Child are represented beside a window with a landscape beyond. The landscape shown through the window at right is painted with a remarkable looseness. The trees, some fine and long limbed, others made full with layered rows of browning leaves, are reminiscent of those in the background of Fra Bartolomeo's Noli Me Tangere in the Louvre. Albertinelli and Fra Bartolomeo set up a workshop in the 1490s. They appear to have been close friends and the two operated under an equal partnership.\",\n",
       " nan,\n",
       " 'In 1577 Alessandro Allori painted the frescoes of the cupola of the Gaddi Chapel in Santa Maria Novella. The frescoes inserted in the mirrors of the vault and the intrados of the entrance arch are by Alessandro Allori, a pupil of Bronzino, They depict scenes from the life of St Jerome, Virtue and other allegorical figures, and are signed and dated 1577.',\n",
       " 'The Cappella di San Luca (Chapel of St Luke) is a memorial chapel for artists in Santissima Annunziata, Florence. It has belonged to the artists confraternity or the Accademia delle Arti del Disegno since 1565. Many artists are buried in its vault, including Benvenuto Cellini, Pontormo, Franciabigio, Giovanni Angelo Montorsoli and Lorenzo Bartolini.',\n",
       " \"In a nocturnal scene, John the Baptist preaches the coming of Christ. He holds the standard of the Resurrection above a lamb representing Christ's sacrifice. Allori seems to have looked back to the Mannerist for his palette, to Michelangelo for his figures, and to northern Europe for his landscape.\",\n",
       " 'In this work, as often occurs in the painting of Allori, the composition is slightly over-emphatic. Saint Peter, kneeling in the foreground, enveloped in his billowing garments, seems in fact to be acting on a stage. The setting, instead, is made pleasant and gracious thanks to an almost archaic use of perspective, to that sea rising high on the horizon, ruffled by light foaming waves, and to the small boat, tossed by the waters, brimming with small figures.',\n",
       " 'The forested landscapes of Alsloot often incorporate views of castles and abbeys located in the Foret de Soignes, near Brussels, a frequent source of inspiration. The building depicted with topographical accuracy in its lakeside setting in the present painting can be identified as the château at Tervueren, an important site tied to the Brussels court. ',\n",
       " \"Altdorfer was one of Germany's most innovative artists in an era spanning late medieval piety, the Renaissance and the Reformation, and his work reveals many facets of a changing society. It is especially noteworthy for an expressive use of nature and for introducing landscape as a theme of its own in art. In this respect Altdorfer is the central figure of the Danube school.\",\n",
       " 'The Virgin is shown resting in a throne-like chair by a richly ornate Renaissance fountain, while Joseph proffers a basket of cherries. Several angels are playing in and around the basin of the fountain, and the child Jesus tries to reach into the water. The fountain-pillar is lavishly decorated with sculpture. The significance of the group of figures at the top - a bearded man with a boy shooting an arrow - is not clear, but appears to relate to ancient mythology. Beyond the fountain the wooded shores of a lake stretch far into the distance. The rocks are crowded with gateways, fortified roads and towers, houses with pointed gables, ruins and decaying roofs - all so intricately interwoven with trees and foliage that it is difficult to detect the relationship of any one building to the other.',\n",
       " 'Several angels are playing in and around the basin of the fountain, and the child Jesus tries to reach into the water.',\n",
       " 'Keeling in prayer beneath the cross are the tiny figures of the unknown couple who donated this crucifixion panel, which would have hung above the family tomb in a Regensburg church or cloister. At the foot of the cross, where in other such works one finds the skull of Adam, said to have been buried at Golgotha and whose sins Christ atones for by his death, is their coat of arms, with a hexagram. On either side of Christ, who is represented not in an idealised manner but with the signs of his injuries, the landscape stretches away into the far distance.',\n",
       " 'The picture shows a detail of the landscape behind the cross. Altdorfer is considered to be one of the founders of the German landscape painting that emerges in the early 16th century, the great achievement of which is the representation of nature in its concrete reality, essential for the later development of art.',\n",
       " 'Apart from Dürer, Cranach and Grünewald, Altdorfer was the most significant German artist of the sixteenth century: a gifted painter, a graphic artist and the founder of the Danube School. He worked in Regensburg on the Danube, painting altarpieces and Biblical and historical scenes, and he was also the first landscape painter in the modern sense.',\n",
       " nan,\n",
       " nan,\n",
       " 'The painting was executed after an engraving of Dürer.',\n",
       " 'No architectural work by Altdorfer is known, but his interest in architecture and his skill in handling intricate problems of perspective are demonstrated by his Birth of the Virgin.',\n",
       " 'The two panels in the Uffizi (The Departure of St Florian and The Martyrdom of St Florian) make up a series (incomplete) of seven representing the story of St Florian. The other panels are scattered in various museums: 3 in Nuremberg, 1 in Prague, and 1 in Bern. They are not belong to the St Florian Altarpiece executed by Altdorfer for the abbey church in Sankt Florian near Linz, Austria. It is not known whether this altarpiece was also painted for the same church.',\n",
       " 'The two panels in the Uffizi (The Departure of St Florian and The Martyrdom of St Florian) make up a series (incomplete) seven representing the story of St Florian. The other panels are   scattered in various museums: 3 in Nuremberg, 1 in Prague, and 1 in Bern. They are not belong to the St Florian Altarpiece executed by Altdorfer for the abbey church in Sankt Florian near Linz, Austria. It is not known whether this altarpiece was also painted for the same church.',\n",
       " 'Six of the seven paintings on the northeast wall (left to the entrance) are devoted to the life and martyrdom of St George, beginning with St George Slays the Dragon in the upper register of the wall. It is characteristic of Altichiero that he did not limit the scene to the figures of the knight slaying the dragon with his lance and the princess; he added a rocky landscape that stretches deep into space at the left of the image and, as a counterpart to this on the right, included a fantastic image of the city of Silene from whose walls the king and his wife, as well as the inhabitants of the city, follow with frightened looks the battle taking place before the city gate.',\n",
       " 'In this scene, most of those present are wearing traditional garb of the period; moreover, several of these figures are presumed to be portraits of contemporaries. Similarities wwith the portrait of Petrarch in a contemporary codex, the man dressed in dark red behind St George can be identified as Petrarch, while the figure beside him on his left may be his secretary and pupil, Lombardo della Seta.',\n",
       " 'This scene is located in the lower register of the northeast wall.',\n",
       " \"The first two pictures, dedicated to St Catherine, are in very poor condition; they show the saint appearing before Emperor Maxentius to condemn idolatry and her dispute with the philosophers summoned by the emperor and their conversion. These scenes are followed by the picture of an angel intervening to prevent Catherine's torture on the wheel and the beheading of the saint. Both scenes have parallels in the St George cycle, here, however, an oriental milieu, seen in the physiognomies, head coverings, and scimitars, is emphasized still more.\",\n",
       " 'The first Lucy scene in the lower register shows the steadfastness of the saint before the judge Paschasius, the second and unsuccessful attempt to have her brought to a brothel with a team of oxen. These scenes are followed by the martyrdom of the saint, and the concluding scene is her burial.',\n",
       " \"In the scene of The Funeral of St Lucy the backdrop is a lavishly designed sacred building - the church that was erected over the tomb of the saint, according to the Golden Legend. Numerous citizens dressed in contemporary garb are present at the funeral ceremony, and some of their faced have unmistakably portrait-like features. This applies particularly to the figures in the left half of the image, among whom Giovanni de' Lupi, the brother of Bonifacio, and Giovanni Dondi, the famous doctor who was an intimate friend of Petrarch, are to be recognized.\",\n",
       " \"The Cappella di San Giacomo in the transept of the Basilica di Sant'Antonio was built by the Venetian sculptor and architect Andriolo de'Santi in 1372-76, and it was decorated by Altichiero da Zevio and his workshop.\",\n",
       " \"Before his stay in Padua, the Veronese painter Altichiero painted frescoes in Verona, including  the votive fresco of the Cavalli family in Sant'Anastasia.\",\n",
       " 'The composition of this painting is close to that of a large altarpiece painted by Altomonte in 1723-24 for high altar of the church of the Carmelites (Karmeliterkirche) in Linz.',\n",
       " \"Jacopo Amigoni traveled through Europe and finally settled in Spain, where he died after painting portraits, and biblical works, such as Joseph in the Pharaoh's Palace.\",\n",
       " 'Amigoni treated this subject about fifteen times during his career. It is difficult to reconstruct a chronological classification of these pieces.',\n",
       " 'The end wall (the north wall) of the chancel chapel is devoted entirely to three scenes from the Passion of Christ: the Bearing of the Cross at bottom left, the Crucifixion in the middle, and the Descent into Hell at bottom right. The Crucifixion extends over the entire width of the upper wall segment as a multifigure image of Golgotha. In this scene the crosses of the two thieves create recessional axes into space, although the actual space depicted is relatively shallow. The thieves twist convulsively on their crosses while a group of figures runs from an attacking soldier at the right.',\n",
       " 'This is one of the scenes on the wall opposite to the entrance of the chapel. This wall is covered with scenes of the Passion and Resurrection of Christ. Instead of painting the scenes in many panels, as the Giottesque artists did, Andrea carried out the narration of the Passion in a continuous fashion, with the scenes following as in a film. The Christ Bearing of the Cross is on the lower left side of the wall.',\n",
       " 'At bottom left on the north wall the scene Bearing of the Cross is depicted.',\n",
       " 'While the main thematic emphasis on the east wall is on the pastoral and missionary work of the Dominicans, the fresco on the west wall - which is generally known as the Triumph of St Thomas Aquinas, even if this is not an accurate description - has as its fundamental theme the scientific and academic contributions of the order, exemplified in the person of Aquinas.',\n",
       " \"In the middle of the upper section of the west wall, St Thomas Aquinas, seated on a throne and surrounded by an aureole, presents an open book to the viewer. Floating above the saint's throne are the four cardinal virtues and the three theological virtues.\",\n",
       " \"In the middle of the upper section, St Thomas Aquinas, seated on a throne and surrounded by an aureole, presents an open book to the viewer. Floating above the saint's throne are the four cardinal virtues and the three theological virtues. Seated to the right of Thomas, from the viewer's standpoint, are Solomon, Isaiah, Moses, Luke, and Matthew.\",\n",
       " 'In the lower register of the fresco a uniform row of fourteen thrones extends like a line of choir stalls across the wall. The detail shows part of the left side thrones with female figures whose identification is difficult. They were originally identified by inscriptions which today are lost. According to Vasari they represent the seven theological sciences, but there are other assumptions, too.',\n",
       " 'In the lower register of the fresco a uniform row of fourteen thrones extends like a line of choir stalls across the wall. The detail shows part of the left side thrones with female figures whose identification is difficult. They were originally identified by inscriptions which today are lost. According to Vasari they represent the seven theological sciences, but there are other assumptions, too.',\n",
       " 'In the lower register of the fresco a uniform row of fourteen thrones extends like a line of choir stalls across the wall. The detail shows the right side thrones with female figures identified as the personifications of the liberal arts (from right to left: Grammar, Rhetoric, Logic, Music, Astronomy, Geometry, and Arithmetic). The antique and biblical representatives of the liberal arts (Priscian, Cicero, Aristotle, Tubalcain, Ptolemy, Euclid, and Pythagoras) are at their feet. Priscian was a Latin grammarian who lived in the 6th century AD. Cicero was a Roman lawyer, orator and statesman, 1st century BC. Aristotle was a Greek philosopher, 4th century BC, who invented formal logic. Tubalcain was a metalworker, mentioned in Genesis, identified with music possibly through a misunderstanding by Isidore of Seville. Ptolemy was a Greek astronomer, 2nd century AD, whose system prevailed until Copernicus. Euclid was a Greek mathematician, 3rd century BC; his textbook was used for 2000 years. Pythagoras was a Greek philosopher and mathematician, 6th century BC.',\n",
       " \"On the entrance wall (south wall) seven scenes from the life of St Peter Martyr, another saint of the Dominican order, are located. The central section of the wall has largely been destroyed by the addition of a gallery installed during a subsequent period. The thematic accent of the scenes has primarily placed on the saint's posthumous miracles. For example, the fresco to the left of the entrance (shown here) depicts pilgrims pressing toward the tomb of the saint, seeking to be healed of their afflictions through prayer and touching his shrine.\",\n",
       " \"On the east vault cell, above the Church as the Path to Salvation, the Salvation to Peter, a free copy of the famous mosaic by Giotto from the Old St. Peter's, known as the Navicella, is depicted. The apostles' ship, threatened by a storm, and Christ's rescue of Peter from drowning, stories that since early Christian times were understood as symbolic of the church, are to be viewed here with the subject of the fresco on the east wall.\",\n",
       " 'This panel was probably painted for the Santa Maria Novella in Florence. The ten saints depicted were the titulars of altars in the Santa Maria Novella in the fourteenth century. Although thee painting mirrors the chapels of the church, there is nothing in the iconography to suggest that it was commissioned by any of the families who had patronage of the chapels.',\n",
       " 'The detail shows the Virgin and Child in the centre of the panel.',\n",
       " 'The detail shows Sts Mark and Peter Martyr.',\n",
       " 'The detail shows Sts John the Evangelist and Gregory.',\n",
       " 'The detail shows Sts Thomas Aquinas, Dominic and Luke.',\n",
       " 'The detail shows Sts Catherine of Alexandria. Mary Magdalene, and Thomas à Becket.',\n",
       " \"In 1442 Andrea went to Venice where he frescoed the ceiling of the chapel of St Tarasius in the church of San Zaccaria together with an artist known as Francesco da Faenza (probably Francesco Torelli). This is the painter's first signed and dated work, although earlier, presumably in 1440-41, he had already painted a Crucifixion with Saints for the monastery of Santa Maria degli Angeli, today in the hospital of Santa Maria Nuova. Both this painting and the San Zaccaria frescoes depicting God the Father, Saints and Evangelists, show what a strong influence the work of Masaccio and Donatello had on the young Andrea. And in particular, Andrea's interest in Donatello's sculptural and linear dynamic power already evident in the Santa Maria degli Angeli Crucifixion, becomes much more obvious in the ceiling frescoes in San Zaccaria. Clear-cut outlines define the Masaccesque sculptural figures, so that their forms are strengthened and hardened.\",\n",
       " \"During the first half of the fifteenth century, Florentine artists including Donatello, Paolo Uccello, and Andrea del Castagno traveled to other cities, bringing with them the new style that had been developed. In fact, Andrea del Castagno's earliest known work is represented by frescoes in Venice. They are rather harsh, direct, and uncompromising images that emphasize the more realistic current that is sometimes found in Donatello's sculpture. The picture shown is the seated God the Father holding a globe.\",\n",
       " \"The vault of the original choir (now transformed into the chapel named Capella di San Tarasio) of San Zaccaria, Venice, was painted when Castagno was about twenty-one, in 1442. The frescoes depicting God the Father, Saints and Evangelists are painted on narrow, sharply curved compartments between the ribs and consequently are particularly hard to photograph effectively. The style reflects a careful study by the young painter of Donatello's sculpture - especially the Zuccone and Jeremiah \\x97 with its broad treatment of sturdy figures with puffy draperies, its intensity of expression, and even such secondary details as putti. Features from Uccello may also be detected, but the most important pictorial force acting upon Castagno seems to have been the example of Domenico Veneziano, whose participation in the same fresco program has been suggested.\",\n",
       " \"In 1442 Andrea went to Venice where he frescoed the ceiling of the chapel of St Tarasius in the church of San Zaccaria together with an artist known as Francesco da Faenza (probably Francesco Torelli). This is the painter's first signed and dated work, although earlier, presumably in 1440-41, he had already painted a Crucifixion with Saints for the monastery of Santa Maria degli Angeli, today in the hospital of Santa Maria Nuova. Both this painting and the San Zaccaria frescoes depicting God the Father, Saints and Evangelists, show what a strong influence the work of Masaccio and Donatello had on the young Andrea. And in particular, Andrea's interest in Donatello's sculptural and linear dynamic power already evident in the Santa Maria degli Angeli Crucifixion, becomes much more obvious in the ceiling frescoes in San Zaccaria. Clear-cut outlines define the Masaccesque sculptural figures, so that their forms are strengthened and hardened.\",\n",
       " 'On 20 November 1449 the Rector of the church of San Miniato alle Torri asked Andrea to paint an altarpiece depicting Our Lady of the Assumption with Saints Miniato and Julian, today in Berlin. By April 1450 the altarpiece was finished and the artist began to receive his first payments.',\n",
       " 'Probably in 1453, Andrea moved to the church of Santissima Annunziata, where he painted two frescoes (St Julian and the Redeemer; The Holy Trinity, St Jerome and Two Saints) that are typical of his late style. No longer interested in the heroic and monumental characteristics illustrated in the Legnaia cycle, Andrea here imbues his figures with the crude truth that he had gradually mastered over a lifetime of hard work.',\n",
       " 'Probably in 1453, Andrea moved to the church of Santissima Annunziata, where he painted two frescoes (St Julian and the Redeemer; The Holy Trinity, St Jerome and Two Saints) that are typical of his late style. No longer interested in the heroic and monumental characteristics illustrated in the Legnaia cycle, Andrea here imbues his figures with the crude truth that he had gradually mastered over a lifetime of hard work.',\n",
       " \"In the atrium of Santissima Annunziata, the Servite church in Florence, lunette frescoes on the left side of the courtyard portray the life of the patron saint of the order, Filippo Benizzi. One episode from his life had already been frescoed by Cosimo Rosselli in the fifteenth century. Andrea del Sarto turned it into a series with five more scenes in 1509-10. The last painting on the entrance side shows a miraculous cure by Filippo Benizzi's relics. A priest in an apse is showing the holy objects, and the people are approaching from the front and sides. The motifs of an arch and columns harmonize with the real architecture of the atrium.\",\n",
       " \"The interior is vast and elaborate, dominated by the huge canopy of the bed of the woman in labour, and defined in all its vastness by elegant architectural features and furnishings. In this grandiose framework, which presupposes Andrea's clear knowledge of what Raphael and Michelangelo had been working in Rome, the women are moving slowly attending with serene solicitude to the tasks as laid down by the account  in the apocryphal Gospels, leading the scene an absolutely original kind of animation.\",\n",
       " \"For the Florentine Compagnia dello Scalzo, Andrea del Sarto frescoed the atrium of the brotherhood's chapel. The artist worked on it from 1509 to 1526, with interruptions. A frieze depicts the life of John the Baptist, the patron saint of the brotherhood. Sarto executed the entire decoration in grisaille. This did not just save the brotherhood money, the renunciation of colour also express the rigor and humility of its communal ideal.\",\n",
       " 'According to Vasari, this painting is one of the two Madonnas painted by Andrea del Sarto for François I around 1516. The subject is the visit of St Elisabeth and the Infant St John at the Virgin and her Child.',\n",
       " \"One is struck by the extraordinary originality of this composition, constructed on an X-shaped scheme which may be discerned beneath the violent emotional expressiveness of the three protagonists. The Madonna's sweet face is shadowed by the soft chiaroscuro that also gives depth and body to the colours. She is seated on the ground, like the traditional madonna of Humility, filling the space diagonally. In a dramatically unstable pose between her knees, a Child Jesus with an elongated body transforms the jocular movements of a putto into a tragic contortion of the limbs and of the smile, in the awareness of his destiny which is matched by a range of colours unusually cold for Andrea, based on subtle relations between grey and violet.\",\n",
       " \"One of the typical works of the artist's mature period, it was painted as an altarpiece. Saint Catherine is the portrait of Lucrezia, the wife of the artist.\",\n",
       " 'This medium-sized altarpiece on panel was painted for the church of Sta Lucia a Settimello, outside Florence, for the family altar of Leonardo Morelli.',\n",
       " nan,\n",
       " 'This is one of the two paintings commissioned by Pier Francesco Borgherini.',\n",
       " 'This is one of the two paintings commissioned by Pier Francesco Borgherini.',\n",
       " 'This large altarpiece, called  Assunta Passerini, represents the miracle of the Assumption of the Virgin. The subject illustrates an ancient tradition, according to which Mary, being deprived of original sin, is the only one to be welcomed in heaven with the body and with the soul. ',\n",
       " \"The face of Mary in Andrea's huge Assumption bears the features of his wife. Seated on clouds, her hands folded in prayer, she is surrounded by sturdy putti.\",\n",
       " 'Vasari records this as being executed around 1529 for Bartolommeo Panciatichi the Elder. Andrea began it and carried it out almost to the end, but because the panel split several times as the work was begun and then suspended, the picture remained not entirely finished at his death.',\n",
       " 'This is a celebrated picture. Although actually disfigured by bad restorations in old times which have changed the background and diminished the splendor and especially the interrelation of colors, there still remains the frank, original and lively conception of this youthful figure.',\n",
       " 'This is a celebrated picture. Although actually disfigured by bad restorations in old times which have changed the background and diminished the splendor and especially the interrelation of colors, there still remains the frank, original and lively conception of this youthful figure.',\n",
       " nan,\n",
       " \"This painting, called the Medici Holy Family, was originally for Ottaviano de' Medici, a central figure in political and cultural life in Florence, both during the Republic and in the period of Cosimo I's duchy.\",\n",
       " 'In his biography of Andrea del Sarto, Vasari mentions this painting right after a panel of the same subject painted for Zanobi Bracci. The latter picture survives: given to Cardinal Ferdinando de Medici it is now in the Galleria Palatina at the Palazzo Pitti in Florence. The picture now in Rome, painted for the same Zanobi, was originally installed in the chapel of the Villa di Rovezzano.',\n",
       " 'Vasari mentions this panel as having been painted for Becuccio, a glassmaker, from Gambassi, and adds that it had a predella with the lively portraits of Becuccio and his wife. (The two little tondi with the portraits are now in Chicago.) The represented saints are Lawrence, Onophrius, John the Baptist, Mary Magdalen, Sebastian and Roch. he panel was placed to an altar dedicated to the hermit saints Lawrence and Onophrius in the female monastery of the Eremite Benedictines, the Pieve di Sta Maria a Chianni a Gambassi.',\n",
       " 'The detail represents the figure of St Roch.',\n",
       " 'In this painting Andrea del Sarto appears to reflect on an archaising iconography in the style of Fra Bartolomeo. The figure is large and dominant, yet the proportions between the masses and the space are accurate. Even the extended spreading of the colours seems intended to lighten the weight of the figure, which due to the faint and uncertain light stands alone and isolated against the background surroundings.',\n",
       " 'This painting is part of an altarpiece for the church at Vallombrosa, near Florence, home of the monastic community reformed by St John Gualbert (Giovanni Gualberto) in the eleventh century. Even though St John is the patron saint of Florence, the date, 1528, is below St Michael the Archangel, the highest ranking figure in this hierarchy.',\n",
       " 'This painting is part of an altarpiece for the church at Vallombrosa, near Florence, home of the monastic community reformed by St John Gualbert (Giovanni Gualberto) in the eleventh century. St Bernardo degli Uberti was a Vallombrosian monk, and an abbot of Vallombrosa.',\n",
       " \"Mary's seated position emphasizes her passivity - Christ ascended, but she is carried up. The represented saints are: Fedele (with the sword), Catherine of Alexandria, Giovanni Gualberto and Bernardo degli Uberti.\",\n",
       " 'The painting belongs to an uncommon genre of devotional icons painted on both sides. It is a simplified version of the portable diptych in which the Madonna and Child was usually depicted on the obverse, and Christ on the Cross on the reverse. This panel presents an isolated image of Christ hanging on the cross, unattended by the usual figures of mourners, soldiers, or onlookers who allude to the event of the Crucifixion.',\n",
       " 'Refined use of colour and the delicate, elegantly traced outlines continue the Sienese tradition that grew out of the fundamental contribution of Simone Martini.',\n",
       " \"This polyptych, originating from the convent of Santa Caterina d'Alessandria in Saant'Angelo in Vado (near Urbino), was executed with the collaboration of the painter's son, Giorgio di Andrea (active 1410-1428). The four saints on the side panels are Catherine of Alexandria, Augustine, Peter, and Paul. Originally the polyptych had five side panels, the missing two, representing Sts Michael and John the Baptist, are in the Galleria Nazionale delle Marche in Urbino.\",\n",
       " 'This painting probably once formed part of the upper register of a larger polyptych, from which a companion panel representing St Ambrose Sansedoni also survives (Staatsgalerie, Stuttgart).',\n",
       " nan,\n",
       " \"Andrea di Bartolo was the son of the painter Bartolo di Fredi. Like most boys, he began his career in his father's workshop. Although scenes of the Madonna and Child flanked by saints are common, this inclusion of the four Evangelists and their symbols is rare, perhaps even unique. Mark with his lion and John with his eagle are to Mary's right; Matthew with his winged man and Luke with his ox kneel to her left. The infant Christ, who wears a beautiful transparent garment, raises his right hand in blessing and holds a European goldfinch, a symbol of the Resurrection, in his left hand.\",\n",
       " \"Andrea di Nerio's compositional clarity, incisive figure style and refined technique place him in the first rank of 14th-century Tuscan painters.\",\n",
       " 'This panel comes from the Castle of Casaluce, near Aversa, where it was part of a polyptych. A similar panel in Naples, depicting St James the Greater, has the same provenance.',\n",
       " nan,\n",
       " 'This panel comes from the Castle of Casaluce, near Aversa, where it was part of a polyptych. A similar panel in Altenburg, depicting St Francis of Assisi, has the same provenance.']"
      ]
     },
     "execution_count": 69,
     "metadata": {},
     "output_type": "execute_result"
    }
   ],
   "source": [
    "list(metadata_df.iloc[1:100]['DESCRIPTION'])"
   ]
  },
  {
   "cell_type": "code",
   "execution_count": 72,
   "id": "c5fc2004",
   "metadata": {},
   "outputs": [],
   "source": [
    "tokens = tokenizer(\n",
    "    text = list(metadata_df.iloc[1:100]['DESCRIPTION']),\n",
    "    return_tensors = 'pt',\n",
    "    padding = True,\n",
    "    max_length = 400,\n",
    "    truncation = True\n",
    ")"
   ]
  },
  {
   "cell_type": "code",
   "execution_count": 73,
   "id": "c56e83d9",
   "metadata": {},
   "outputs": [
    {
     "data": {
      "text/plain": [
       "torch.Size([99, 237])"
      ]
     },
     "execution_count": 73,
     "metadata": {},
     "output_type": "execute_result"
    }
   ],
   "source": [
    "tokens.input_ids.shape"
   ]
  },
  {
   "cell_type": "code",
   "execution_count": 21,
   "id": "3b335eac",
   "metadata": {},
   "outputs": [
    {
     "data": {
      "text/plain": [
       "'[CLS] a kitchen scene combined with a religious subject is set within renaissance architecture. [SEP] the background depicts the story of christ in the house of martha and mary. [SEP]'"
      ]
     },
     "execution_count": 21,
     "metadata": {},
     "output_type": "execute_result"
    }
   ],
   "source": [
    "tokenizer.decode(tokens['input_ids'])"
   ]
  },
  {
   "cell_type": "code",
   "execution_count": 22,
   "id": "75b7c13e",
   "metadata": {},
   "outputs": [
    {
     "data": {
      "text/plain": [
       "{'input_ids': [101, 1037, 3829, 3496, 4117, 2007, 1037, 3412, 3395, 2003, 2275, 2306, 8028, 4294, 1012, 102, 1996, 4281, 11230, 1996, 2466, 1997, 4828, 1999, 1996, 2160, 1997, 9246, 1998, 2984, 1012, 102], 'token_type_ids': [0, 0, 0, 0, 0, 0, 0, 0, 0, 0, 0, 0, 0, 0, 0, 0, 0, 0, 0, 0, 0, 0, 0, 0, 0, 0, 0, 0, 0, 0, 0, 0], 'attention_mask': [1, 1, 1, 1, 1, 1, 1, 1, 1, 1, 1, 1, 1, 1, 1, 1, 1, 1, 1, 1, 1, 1, 1, 1, 1, 1, 1, 1, 1, 1, 1, 1]}"
      ]
     },
     "execution_count": 22,
     "metadata": {},
     "output_type": "execute_result"
    }
   ],
   "source": [
    "tokens"
   ]
  },
  {
   "cell_type": "code",
   "execution_count": 12,
   "id": "70ff97d1",
   "metadata": {},
   "outputs": [],
   "source": [
    "token_tensors = tokens.input_ids\n",
    "segment_ids = tokens.token_type_ids"
   ]
  },
  {
   "cell_type": "code",
   "execution_count": 31,
   "id": "5b6e6ad6",
   "metadata": {},
   "outputs": [
    {
     "name": "stderr",
     "output_type": "stream",
     "text": [
      "Some weights of the model checkpoint at bert-base-uncased were not used when initializing BertModel: ['cls.seq_relationship.weight', 'cls.predictions.transform.LayerNorm.weight', 'cls.predictions.decoder.weight', 'cls.predictions.bias', 'cls.seq_relationship.bias', 'cls.predictions.transform.dense.weight', 'cls.predictions.transform.dense.bias', 'cls.predictions.transform.LayerNorm.bias']\n",
      "- This IS expected if you are initializing BertModel from the checkpoint of a model trained on another task or with another architecture (e.g. initializing a BertForSequenceClassification model from a BertForPreTraining model).\n",
      "- This IS NOT expected if you are initializing BertModel from the checkpoint of a model that you expect to be exactly identical (initializing a BertForSequenceClassification model from a BertForSequenceClassification model).\n"
     ]
    },
    {
     "data": {
      "text/plain": [
       "BertModel(\n",
       "  (embeddings): BertEmbeddings(\n",
       "    (word_embeddings): Embedding(30522, 768, padding_idx=0)\n",
       "    (position_embeddings): Embedding(512, 768)\n",
       "    (token_type_embeddings): Embedding(2, 768)\n",
       "    (LayerNorm): LayerNorm((768,), eps=1e-12, elementwise_affine=True)\n",
       "    (dropout): Dropout(p=0.1, inplace=False)\n",
       "  )\n",
       "  (encoder): BertEncoder(\n",
       "    (layer): ModuleList(\n",
       "      (0): BertLayer(\n",
       "        (attention): BertAttention(\n",
       "          (self): BertSelfAttention(\n",
       "            (query): Linear(in_features=768, out_features=768, bias=True)\n",
       "            (key): Linear(in_features=768, out_features=768, bias=True)\n",
       "            (value): Linear(in_features=768, out_features=768, bias=True)\n",
       "            (dropout): Dropout(p=0.1, inplace=False)\n",
       "          )\n",
       "          (output): BertSelfOutput(\n",
       "            (dense): Linear(in_features=768, out_features=768, bias=True)\n",
       "            (LayerNorm): LayerNorm((768,), eps=1e-12, elementwise_affine=True)\n",
       "            (dropout): Dropout(p=0.1, inplace=False)\n",
       "          )\n",
       "        )\n",
       "        (intermediate): BertIntermediate(\n",
       "          (dense): Linear(in_features=768, out_features=3072, bias=True)\n",
       "          (intermediate_act_fn): GELUActivation()\n",
       "        )\n",
       "        (output): BertOutput(\n",
       "          (dense): Linear(in_features=3072, out_features=768, bias=True)\n",
       "          (LayerNorm): LayerNorm((768,), eps=1e-12, elementwise_affine=True)\n",
       "          (dropout): Dropout(p=0.1, inplace=False)\n",
       "        )\n",
       "      )\n",
       "      (1): BertLayer(\n",
       "        (attention): BertAttention(\n",
       "          (self): BertSelfAttention(\n",
       "            (query): Linear(in_features=768, out_features=768, bias=True)\n",
       "            (key): Linear(in_features=768, out_features=768, bias=True)\n",
       "            (value): Linear(in_features=768, out_features=768, bias=True)\n",
       "            (dropout): Dropout(p=0.1, inplace=False)\n",
       "          )\n",
       "          (output): BertSelfOutput(\n",
       "            (dense): Linear(in_features=768, out_features=768, bias=True)\n",
       "            (LayerNorm): LayerNorm((768,), eps=1e-12, elementwise_affine=True)\n",
       "            (dropout): Dropout(p=0.1, inplace=False)\n",
       "          )\n",
       "        )\n",
       "        (intermediate): BertIntermediate(\n",
       "          (dense): Linear(in_features=768, out_features=3072, bias=True)\n",
       "          (intermediate_act_fn): GELUActivation()\n",
       "        )\n",
       "        (output): BertOutput(\n",
       "          (dense): Linear(in_features=3072, out_features=768, bias=True)\n",
       "          (LayerNorm): LayerNorm((768,), eps=1e-12, elementwise_affine=True)\n",
       "          (dropout): Dropout(p=0.1, inplace=False)\n",
       "        )\n",
       "      )\n",
       "      (2): BertLayer(\n",
       "        (attention): BertAttention(\n",
       "          (self): BertSelfAttention(\n",
       "            (query): Linear(in_features=768, out_features=768, bias=True)\n",
       "            (key): Linear(in_features=768, out_features=768, bias=True)\n",
       "            (value): Linear(in_features=768, out_features=768, bias=True)\n",
       "            (dropout): Dropout(p=0.1, inplace=False)\n",
       "          )\n",
       "          (output): BertSelfOutput(\n",
       "            (dense): Linear(in_features=768, out_features=768, bias=True)\n",
       "            (LayerNorm): LayerNorm((768,), eps=1e-12, elementwise_affine=True)\n",
       "            (dropout): Dropout(p=0.1, inplace=False)\n",
       "          )\n",
       "        )\n",
       "        (intermediate): BertIntermediate(\n",
       "          (dense): Linear(in_features=768, out_features=3072, bias=True)\n",
       "          (intermediate_act_fn): GELUActivation()\n",
       "        )\n",
       "        (output): BertOutput(\n",
       "          (dense): Linear(in_features=3072, out_features=768, bias=True)\n",
       "          (LayerNorm): LayerNorm((768,), eps=1e-12, elementwise_affine=True)\n",
       "          (dropout): Dropout(p=0.1, inplace=False)\n",
       "        )\n",
       "      )\n",
       "      (3): BertLayer(\n",
       "        (attention): BertAttention(\n",
       "          (self): BertSelfAttention(\n",
       "            (query): Linear(in_features=768, out_features=768, bias=True)\n",
       "            (key): Linear(in_features=768, out_features=768, bias=True)\n",
       "            (value): Linear(in_features=768, out_features=768, bias=True)\n",
       "            (dropout): Dropout(p=0.1, inplace=False)\n",
       "          )\n",
       "          (output): BertSelfOutput(\n",
       "            (dense): Linear(in_features=768, out_features=768, bias=True)\n",
       "            (LayerNorm): LayerNorm((768,), eps=1e-12, elementwise_affine=True)\n",
       "            (dropout): Dropout(p=0.1, inplace=False)\n",
       "          )\n",
       "        )\n",
       "        (intermediate): BertIntermediate(\n",
       "          (dense): Linear(in_features=768, out_features=3072, bias=True)\n",
       "          (intermediate_act_fn): GELUActivation()\n",
       "        )\n",
       "        (output): BertOutput(\n",
       "          (dense): Linear(in_features=3072, out_features=768, bias=True)\n",
       "          (LayerNorm): LayerNorm((768,), eps=1e-12, elementwise_affine=True)\n",
       "          (dropout): Dropout(p=0.1, inplace=False)\n",
       "        )\n",
       "      )\n",
       "      (4): BertLayer(\n",
       "        (attention): BertAttention(\n",
       "          (self): BertSelfAttention(\n",
       "            (query): Linear(in_features=768, out_features=768, bias=True)\n",
       "            (key): Linear(in_features=768, out_features=768, bias=True)\n",
       "            (value): Linear(in_features=768, out_features=768, bias=True)\n",
       "            (dropout): Dropout(p=0.1, inplace=False)\n",
       "          )\n",
       "          (output): BertSelfOutput(\n",
       "            (dense): Linear(in_features=768, out_features=768, bias=True)\n",
       "            (LayerNorm): LayerNorm((768,), eps=1e-12, elementwise_affine=True)\n",
       "            (dropout): Dropout(p=0.1, inplace=False)\n",
       "          )\n",
       "        )\n",
       "        (intermediate): BertIntermediate(\n",
       "          (dense): Linear(in_features=768, out_features=3072, bias=True)\n",
       "          (intermediate_act_fn): GELUActivation()\n",
       "        )\n",
       "        (output): BertOutput(\n",
       "          (dense): Linear(in_features=3072, out_features=768, bias=True)\n",
       "          (LayerNorm): LayerNorm((768,), eps=1e-12, elementwise_affine=True)\n",
       "          (dropout): Dropout(p=0.1, inplace=False)\n",
       "        )\n",
       "      )\n",
       "      (5): BertLayer(\n",
       "        (attention): BertAttention(\n",
       "          (self): BertSelfAttention(\n",
       "            (query): Linear(in_features=768, out_features=768, bias=True)\n",
       "            (key): Linear(in_features=768, out_features=768, bias=True)\n",
       "            (value): Linear(in_features=768, out_features=768, bias=True)\n",
       "            (dropout): Dropout(p=0.1, inplace=False)\n",
       "          )\n",
       "          (output): BertSelfOutput(\n",
       "            (dense): Linear(in_features=768, out_features=768, bias=True)\n",
       "            (LayerNorm): LayerNorm((768,), eps=1e-12, elementwise_affine=True)\n",
       "            (dropout): Dropout(p=0.1, inplace=False)\n",
       "          )\n",
       "        )\n",
       "        (intermediate): BertIntermediate(\n",
       "          (dense): Linear(in_features=768, out_features=3072, bias=True)\n",
       "          (intermediate_act_fn): GELUActivation()\n",
       "        )\n",
       "        (output): BertOutput(\n",
       "          (dense): Linear(in_features=3072, out_features=768, bias=True)\n",
       "          (LayerNorm): LayerNorm((768,), eps=1e-12, elementwise_affine=True)\n",
       "          (dropout): Dropout(p=0.1, inplace=False)\n",
       "        )\n",
       "      )\n",
       "      (6): BertLayer(\n",
       "        (attention): BertAttention(\n",
       "          (self): BertSelfAttention(\n",
       "            (query): Linear(in_features=768, out_features=768, bias=True)\n",
       "            (key): Linear(in_features=768, out_features=768, bias=True)\n",
       "            (value): Linear(in_features=768, out_features=768, bias=True)\n",
       "            (dropout): Dropout(p=0.1, inplace=False)\n",
       "          )\n",
       "          (output): BertSelfOutput(\n",
       "            (dense): Linear(in_features=768, out_features=768, bias=True)\n",
       "            (LayerNorm): LayerNorm((768,), eps=1e-12, elementwise_affine=True)\n",
       "            (dropout): Dropout(p=0.1, inplace=False)\n",
       "          )\n",
       "        )\n",
       "        (intermediate): BertIntermediate(\n",
       "          (dense): Linear(in_features=768, out_features=3072, bias=True)\n",
       "          (intermediate_act_fn): GELUActivation()\n",
       "        )\n",
       "        (output): BertOutput(\n",
       "          (dense): Linear(in_features=3072, out_features=768, bias=True)\n",
       "          (LayerNorm): LayerNorm((768,), eps=1e-12, elementwise_affine=True)\n",
       "          (dropout): Dropout(p=0.1, inplace=False)\n",
       "        )\n",
       "      )\n",
       "      (7): BertLayer(\n",
       "        (attention): BertAttention(\n",
       "          (self): BertSelfAttention(\n",
       "            (query): Linear(in_features=768, out_features=768, bias=True)\n",
       "            (key): Linear(in_features=768, out_features=768, bias=True)\n",
       "            (value): Linear(in_features=768, out_features=768, bias=True)\n",
       "            (dropout): Dropout(p=0.1, inplace=False)\n",
       "          )\n",
       "          (output): BertSelfOutput(\n",
       "            (dense): Linear(in_features=768, out_features=768, bias=True)\n",
       "            (LayerNorm): LayerNorm((768,), eps=1e-12, elementwise_affine=True)\n",
       "            (dropout): Dropout(p=0.1, inplace=False)\n",
       "          )\n",
       "        )\n",
       "        (intermediate): BertIntermediate(\n",
       "          (dense): Linear(in_features=768, out_features=3072, bias=True)\n",
       "          (intermediate_act_fn): GELUActivation()\n",
       "        )\n",
       "        (output): BertOutput(\n",
       "          (dense): Linear(in_features=3072, out_features=768, bias=True)\n",
       "          (LayerNorm): LayerNorm((768,), eps=1e-12, elementwise_affine=True)\n",
       "          (dropout): Dropout(p=0.1, inplace=False)\n",
       "        )\n",
       "      )\n",
       "      (8): BertLayer(\n",
       "        (attention): BertAttention(\n",
       "          (self): BertSelfAttention(\n",
       "            (query): Linear(in_features=768, out_features=768, bias=True)\n",
       "            (key): Linear(in_features=768, out_features=768, bias=True)\n",
       "            (value): Linear(in_features=768, out_features=768, bias=True)\n",
       "            (dropout): Dropout(p=0.1, inplace=False)\n",
       "          )\n",
       "          (output): BertSelfOutput(\n",
       "            (dense): Linear(in_features=768, out_features=768, bias=True)\n",
       "            (LayerNorm): LayerNorm((768,), eps=1e-12, elementwise_affine=True)\n",
       "            (dropout): Dropout(p=0.1, inplace=False)\n",
       "          )\n",
       "        )\n",
       "        (intermediate): BertIntermediate(\n",
       "          (dense): Linear(in_features=768, out_features=3072, bias=True)\n",
       "          (intermediate_act_fn): GELUActivation()\n",
       "        )\n",
       "        (output): BertOutput(\n",
       "          (dense): Linear(in_features=3072, out_features=768, bias=True)\n",
       "          (LayerNorm): LayerNorm((768,), eps=1e-12, elementwise_affine=True)\n",
       "          (dropout): Dropout(p=0.1, inplace=False)\n",
       "        )\n",
       "      )\n",
       "      (9): BertLayer(\n",
       "        (attention): BertAttention(\n",
       "          (self): BertSelfAttention(\n",
       "            (query): Linear(in_features=768, out_features=768, bias=True)\n",
       "            (key): Linear(in_features=768, out_features=768, bias=True)\n",
       "            (value): Linear(in_features=768, out_features=768, bias=True)\n",
       "            (dropout): Dropout(p=0.1, inplace=False)\n",
       "          )\n",
       "          (output): BertSelfOutput(\n",
       "            (dense): Linear(in_features=768, out_features=768, bias=True)\n",
       "            (LayerNorm): LayerNorm((768,), eps=1e-12, elementwise_affine=True)\n",
       "            (dropout): Dropout(p=0.1, inplace=False)\n",
       "          )\n",
       "        )\n",
       "        (intermediate): BertIntermediate(\n",
       "          (dense): Linear(in_features=768, out_features=3072, bias=True)\n",
       "          (intermediate_act_fn): GELUActivation()\n",
       "        )\n",
       "        (output): BertOutput(\n",
       "          (dense): Linear(in_features=3072, out_features=768, bias=True)\n",
       "          (LayerNorm): LayerNorm((768,), eps=1e-12, elementwise_affine=True)\n",
       "          (dropout): Dropout(p=0.1, inplace=False)\n",
       "        )\n",
       "      )\n",
       "      (10): BertLayer(\n",
       "        (attention): BertAttention(\n",
       "          (self): BertSelfAttention(\n",
       "            (query): Linear(in_features=768, out_features=768, bias=True)\n",
       "            (key): Linear(in_features=768, out_features=768, bias=True)\n",
       "            (value): Linear(in_features=768, out_features=768, bias=True)\n",
       "            (dropout): Dropout(p=0.1, inplace=False)\n",
       "          )\n",
       "          (output): BertSelfOutput(\n",
       "            (dense): Linear(in_features=768, out_features=768, bias=True)\n",
       "            (LayerNorm): LayerNorm((768,), eps=1e-12, elementwise_affine=True)\n",
       "            (dropout): Dropout(p=0.1, inplace=False)\n",
       "          )\n",
       "        )\n",
       "        (intermediate): BertIntermediate(\n",
       "          (dense): Linear(in_features=768, out_features=3072, bias=True)\n",
       "          (intermediate_act_fn): GELUActivation()\n",
       "        )\n",
       "        (output): BertOutput(\n",
       "          (dense): Linear(in_features=3072, out_features=768, bias=True)\n",
       "          (LayerNorm): LayerNorm((768,), eps=1e-12, elementwise_affine=True)\n",
       "          (dropout): Dropout(p=0.1, inplace=False)\n",
       "        )\n",
       "      )\n",
       "      (11): BertLayer(\n",
       "        (attention): BertAttention(\n",
       "          (self): BertSelfAttention(\n",
       "            (query): Linear(in_features=768, out_features=768, bias=True)\n",
       "            (key): Linear(in_features=768, out_features=768, bias=True)\n",
       "            (value): Linear(in_features=768, out_features=768, bias=True)\n",
       "            (dropout): Dropout(p=0.1, inplace=False)\n",
       "          )\n",
       "          (output): BertSelfOutput(\n",
       "            (dense): Linear(in_features=768, out_features=768, bias=True)\n",
       "            (LayerNorm): LayerNorm((768,), eps=1e-12, elementwise_affine=True)\n",
       "            (dropout): Dropout(p=0.1, inplace=False)\n",
       "          )\n",
       "        )\n",
       "        (intermediate): BertIntermediate(\n",
       "          (dense): Linear(in_features=768, out_features=3072, bias=True)\n",
       "          (intermediate_act_fn): GELUActivation()\n",
       "        )\n",
       "        (output): BertOutput(\n",
       "          (dense): Linear(in_features=3072, out_features=768, bias=True)\n",
       "          (LayerNorm): LayerNorm((768,), eps=1e-12, elementwise_affine=True)\n",
       "          (dropout): Dropout(p=0.1, inplace=False)\n",
       "        )\n",
       "      )\n",
       "    )\n",
       "  )\n",
       "  (pooler): BertPooler(\n",
       "    (dense): Linear(in_features=768, out_features=768, bias=True)\n",
       "    (activation): Tanh()\n",
       "  )\n",
       ")"
      ]
     },
     "execution_count": 31,
     "metadata": {},
     "output_type": "execute_result"
    }
   ],
   "source": [
    "model = BertModel.from_pretrained('bert-base-uncased',\n",
    "                                  output_hidden_states = True, # Whether the model returns all hidden-states.\n",
    "                                  )\n",
    "\n",
    "# Put the model in \"evaluation\" mode, meaning feed-forward operation.\n",
    "model.eval()"
   ]
  },
  {
   "cell_type": "code",
   "execution_count": 32,
   "id": "84c78797",
   "metadata": {},
   "outputs": [],
   "source": [
    "import torch"
   ]
  },
  {
   "cell_type": "code",
   "execution_count": 34,
   "id": "6c414659",
   "metadata": {},
   "outputs": [
    {
     "data": {
      "text/plain": [
       "{'input_ids': [101, 1037, 3829, 3496, 4117, 2007, 1037, 3412, 3395, 2003, 2275, 2306, 8028, 4294, 1012, 1996, 4281, 11230, 1996, 2466, 1997, 4828, 1999, 1996, 2160, 1997, 9246, 1998, 2984, 1012, 2023, 4169, 6017, 1996, 6653, 2013, 1996, 2397, 2865, 13331, 2140, 3218, 1997, 10775, 3412, 5739, 2000, 1037, 2047, 3690, 1010, 1999, 2029, 2396, 11230, 1996, 10126, 2166, 1997, 1996, 2969, 9657, 22846, 2666, 1012, 102], 'token_type_ids': [0, 0, 0, 0, 0, 0, 0, 0, 0, 0, 0, 0, 0, 0, 0, 0, 0, 0, 0, 0, 0, 0, 0, 0, 0, 0, 0, 0, 0, 0, 0, 0, 0, 0, 0, 0, 0, 0, 0, 0, 0, 0, 0, 0, 0, 0, 0, 0, 0, 0, 0, 0, 0, 0, 0, 0, 0, 0, 0, 0, 0, 0, 0, 0, 0, 0], 'attention_mask': [1, 1, 1, 1, 1, 1, 1, 1, 1, 1, 1, 1, 1, 1, 1, 1, 1, 1, 1, 1, 1, 1, 1, 1, 1, 1, 1, 1, 1, 1, 1, 1, 1, 1, 1, 1, 1, 1, 1, 1, 1, 1, 1, 1, 1, 1, 1, 1, 1, 1, 1, 1, 1, 1, 1, 1, 1, 1, 1, 1, 1, 1, 1, 1, 1, 1]}"
      ]
     },
     "execution_count": 34,
     "metadata": {},
     "output_type": "execute_result"
    }
   ],
   "source": [
    "tokens"
   ]
  },
  {
   "cell_type": "code",
   "execution_count": 47,
   "id": "5b4ba058",
   "metadata": {},
   "outputs": [],
   "source": [
    "input_ids = tokens.input_ids\n",
    "token_type_ids = tokens.token_type_ids\n",
    "masks = tokens.attention_mask"
   ]
  },
  {
   "cell_type": "code",
   "execution_count": 48,
   "id": "e1540320",
   "metadata": {},
   "outputs": [],
   "source": [
    "with torch.no_grad():\n",
    "\n",
    "    outputs = model(input_ids, token_type_ids, masks)\n",
    "\n",
    "    # Evaluating the model will return a different number of objects based on \n",
    "    # how it's  configured in the `from_pretrained` call earlier. In this case, \n",
    "    # becase we set `output_hidden_states = True`, the third item will be the \n",
    "    # hidden states from all layers. See the documentation for more details:\n",
    "    # https://huggingface.co/transformers/model_doc/bert.html#bertmodel\n",
    "    hidden_states = outputs[2]\n"
   ]
  },
  {
   "cell_type": "code",
   "execution_count": null,
   "id": "1324a521",
   "metadata": {},
   "outputs": [],
   "source": []
  },
  {
   "cell_type": "code",
   "execution_count": 49,
   "id": "060268e6",
   "metadata": {},
   "outputs": [
    {
     "data": {
      "text/plain": [
       "torch.Size([3, 66, 768])"
      ]
     },
     "execution_count": 49,
     "metadata": {},
     "output_type": "execute_result"
    }
   ],
   "source": [
    "hidden_states[1].shape"
   ]
  },
  {
   "cell_type": "code",
   "execution_count": 50,
   "id": "980b9e4f",
   "metadata": {},
   "outputs": [
    {
     "name": "stdout",
     "output_type": "stream",
     "text": [
      "Number of layers: 13   (initial embeddings + 12 BERT layers)\n",
      "Number of batches: 3\n",
      "Number of tokens: 66\n",
      "Number of hidden units: 768\n"
     ]
    }
   ],
   "source": [
    "print (\"Number of layers:\", len(hidden_states), \"  (initial embeddings + 12 BERT layers)\")\n",
    "layer_i = 0\n",
    "\n",
    "print (\"Number of batches:\", len(hidden_states[layer_i]))\n",
    "batch_i = 0\n",
    "\n",
    "print (\"Number of tokens:\", len(hidden_states[layer_i][batch_i]))\n",
    "token_i = 0\n",
    "\n",
    "print (\"Number of hidden units:\", len(hidden_states[layer_i][batch_i][token_i]))\n"
   ]
  },
  {
   "cell_type": "code",
   "execution_count": 51,
   "id": "607046b5",
   "metadata": {},
   "outputs": [],
   "source": [
    "hidden_states = torch.stack(hidden_states, dim = 0)"
   ]
  },
  {
   "cell_type": "code",
   "execution_count": 54,
   "id": "5c03597b",
   "metadata": {},
   "outputs": [],
   "source": [
    "token_embeddings = torch.squeeze(hidden_states, dim=1)[:,0,:,:]"
   ]
  },
  {
   "cell_type": "code",
   "execution_count": null,
   "id": "978ffd67",
   "metadata": {},
   "outputs": [],
   "source": []
  },
  {
   "cell_type": "code",
   "execution_count": 55,
   "id": "4efba475",
   "metadata": {},
   "outputs": [],
   "source": [
    "token_embeddings = token_embeddings.permute(1,0,2)"
   ]
  },
  {
   "cell_type": "code",
   "execution_count": 56,
   "id": "fa3b0db6",
   "metadata": {},
   "outputs": [
    {
     "data": {
      "text/plain": [
       "torch.Size([66, 13, 768])"
      ]
     },
     "execution_count": 56,
     "metadata": {},
     "output_type": "execute_result"
    }
   ],
   "source": [
    "token_embeddings.shape"
   ]
  },
  {
   "cell_type": "code",
   "execution_count": 57,
   "id": "f6e2c417",
   "metadata": {},
   "outputs": [],
   "source": [
    "import torch.nn as nn"
   ]
  },
  {
   "cell_type": "code",
   "execution_count": 58,
   "id": "d42d51c5",
   "metadata": {},
   "outputs": [],
   "source": [
    "lstm = nn.LSTM(3072, 256, 1)"
   ]
  },
  {
   "cell_type": "code",
   "execution_count": 59,
   "id": "91586901",
   "metadata": {},
   "outputs": [],
   "source": [
    "token_embeddings = token_embeddings[:,-4:,0:].reshape(token_embeddings.shape[0],-1)"
   ]
  },
  {
   "cell_type": "code",
   "execution_count": 60,
   "id": "7aa8e965",
   "metadata": {},
   "outputs": [],
   "source": [
    "hiddens, _ = lstm(token_embeddings)"
   ]
  },
  {
   "cell_type": "code",
   "execution_count": 61,
   "id": "2f97eb12",
   "metadata": {},
   "outputs": [
    {
     "data": {
      "text/plain": [
       "torch.Size([66, 256])"
      ]
     },
     "execution_count": 61,
     "metadata": {},
     "output_type": "execute_result"
    }
   ],
   "source": [
    "hiddens.shape"
   ]
  },
  {
   "cell_type": "code",
   "execution_count": 62,
   "id": "60852e2c",
   "metadata": {},
   "outputs": [
    {
     "ename": "KeyboardInterrupt",
     "evalue": "",
     "output_type": "error",
     "traceback": [
      "\u001b[0;31m---------------------------------------------------------------------------\u001b[0m",
      "\u001b[0;31mKeyboardInterrupt\u001b[0m                         Traceback (most recent call last)",
      "Input \u001b[0;32mIn [62]\u001b[0m, in \u001b[0;36m<cell line: 8>\u001b[0;34m()\u001b[0m\n\u001b[1;32m      6\u001b[0m plt\u001b[38;5;241m.\u001b[39mfigure(figsize\u001b[38;5;241m=\u001b[39m(\u001b[38;5;241m10\u001b[39m,\u001b[38;5;241m10\u001b[39m))\n\u001b[1;32m      7\u001b[0m plt\u001b[38;5;241m.\u001b[39mhist(vec, bins\u001b[38;5;241m=\u001b[39m\u001b[38;5;241m200\u001b[39m)\n\u001b[0;32m----> 8\u001b[0m \u001b[43mplt\u001b[49m\u001b[38;5;241;43m.\u001b[39;49m\u001b[43mshow\u001b[49m\u001b[43m(\u001b[49m\u001b[43m)\u001b[49m\n",
      "File \u001b[0;32m~/anaconda3/lib/python3.9/site-packages/matplotlib/pyplot.py:368\u001b[0m, in \u001b[0;36mshow\u001b[0;34m(*args, **kwargs)\u001b[0m\n\u001b[1;32m    324\u001b[0m \u001b[38;5;124;03m\"\"\"\u001b[39;00m\n\u001b[1;32m    325\u001b[0m \u001b[38;5;124;03mDisplay all open figures.\u001b[39;00m\n\u001b[1;32m    326\u001b[0m \n\u001b[0;32m   (...)\u001b[0m\n\u001b[1;32m    365\u001b[0m \u001b[38;5;124;03mexplicitly there.\u001b[39;00m\n\u001b[1;32m    366\u001b[0m \u001b[38;5;124;03m\"\"\"\u001b[39;00m\n\u001b[1;32m    367\u001b[0m _warn_if_gui_out_of_main_thread()\n\u001b[0;32m--> 368\u001b[0m \u001b[38;5;28;01mreturn\u001b[39;00m \u001b[43m_backend_mod\u001b[49m\u001b[38;5;241;43m.\u001b[39;49m\u001b[43mshow\u001b[49m\u001b[43m(\u001b[49m\u001b[38;5;241;43m*\u001b[39;49m\u001b[43margs\u001b[49m\u001b[43m,\u001b[49m\u001b[43m \u001b[49m\u001b[38;5;241;43m*\u001b[39;49m\u001b[38;5;241;43m*\u001b[39;49m\u001b[43mkwargs\u001b[49m\u001b[43m)\u001b[49m\n",
      "File \u001b[0;32m~/anaconda3/lib/python3.9/site-packages/matplotlib_inline/backend_inline.py:41\u001b[0m, in \u001b[0;36mshow\u001b[0;34m(close, block)\u001b[0m\n\u001b[1;32m     39\u001b[0m \u001b[38;5;28;01mtry\u001b[39;00m:\n\u001b[1;32m     40\u001b[0m     \u001b[38;5;28;01mfor\u001b[39;00m figure_manager \u001b[38;5;129;01min\u001b[39;00m Gcf\u001b[38;5;241m.\u001b[39mget_all_fig_managers():\n\u001b[0;32m---> 41\u001b[0m         \u001b[43mdisplay\u001b[49m\u001b[43m(\u001b[49m\n\u001b[1;32m     42\u001b[0m \u001b[43m            \u001b[49m\u001b[43mfigure_manager\u001b[49m\u001b[38;5;241;43m.\u001b[39;49m\u001b[43mcanvas\u001b[49m\u001b[38;5;241;43m.\u001b[39;49m\u001b[43mfigure\u001b[49m\u001b[43m,\u001b[49m\n\u001b[1;32m     43\u001b[0m \u001b[43m            \u001b[49m\u001b[43mmetadata\u001b[49m\u001b[38;5;241;43m=\u001b[39;49m\u001b[43m_fetch_figure_metadata\u001b[49m\u001b[43m(\u001b[49m\u001b[43mfigure_manager\u001b[49m\u001b[38;5;241;43m.\u001b[39;49m\u001b[43mcanvas\u001b[49m\u001b[38;5;241;43m.\u001b[39;49m\u001b[43mfigure\u001b[49m\u001b[43m)\u001b[49m\n\u001b[1;32m     44\u001b[0m \u001b[43m        \u001b[49m\u001b[43m)\u001b[49m\n\u001b[1;32m     45\u001b[0m \u001b[38;5;28;01mfinally\u001b[39;00m:\n\u001b[1;32m     46\u001b[0m     show\u001b[38;5;241m.\u001b[39m_to_draw \u001b[38;5;241m=\u001b[39m []\n",
      "File \u001b[0;32m~/anaconda3/lib/python3.9/site-packages/IPython/core/display_functions.py:298\u001b[0m, in \u001b[0;36mdisplay\u001b[0;34m(include, exclude, metadata, transient, display_id, raw, clear, *objs, **kwargs)\u001b[0m\n\u001b[1;32m    296\u001b[0m     publish_display_data(data\u001b[38;5;241m=\u001b[39mobj, metadata\u001b[38;5;241m=\u001b[39mmetadata, \u001b[38;5;241m*\u001b[39m\u001b[38;5;241m*\u001b[39mkwargs)\n\u001b[1;32m    297\u001b[0m \u001b[38;5;28;01melse\u001b[39;00m:\n\u001b[0;32m--> 298\u001b[0m     format_dict, md_dict \u001b[38;5;241m=\u001b[39m \u001b[38;5;28;43mformat\u001b[39;49m\u001b[43m(\u001b[49m\u001b[43mobj\u001b[49m\u001b[43m,\u001b[49m\u001b[43m \u001b[49m\u001b[43minclude\u001b[49m\u001b[38;5;241;43m=\u001b[39;49m\u001b[43minclude\u001b[49m\u001b[43m,\u001b[49m\u001b[43m \u001b[49m\u001b[43mexclude\u001b[49m\u001b[38;5;241;43m=\u001b[39;49m\u001b[43mexclude\u001b[49m\u001b[43m)\u001b[49m\n\u001b[1;32m    299\u001b[0m     \u001b[38;5;28;01mif\u001b[39;00m \u001b[38;5;129;01mnot\u001b[39;00m format_dict:\n\u001b[1;32m    300\u001b[0m         \u001b[38;5;66;03m# nothing to display (e.g. _ipython_display_ took over)\u001b[39;00m\n\u001b[1;32m    301\u001b[0m         \u001b[38;5;28;01mcontinue\u001b[39;00m\n",
      "File \u001b[0;32m~/anaconda3/lib/python3.9/site-packages/IPython/core/formatters.py:178\u001b[0m, in \u001b[0;36mDisplayFormatter.format\u001b[0;34m(self, obj, include, exclude)\u001b[0m\n\u001b[1;32m    176\u001b[0m md \u001b[38;5;241m=\u001b[39m \u001b[38;5;28;01mNone\u001b[39;00m\n\u001b[1;32m    177\u001b[0m \u001b[38;5;28;01mtry\u001b[39;00m:\n\u001b[0;32m--> 178\u001b[0m     data \u001b[38;5;241m=\u001b[39m \u001b[43mformatter\u001b[49m\u001b[43m(\u001b[49m\u001b[43mobj\u001b[49m\u001b[43m)\u001b[49m\n\u001b[1;32m    179\u001b[0m \u001b[38;5;28;01mexcept\u001b[39;00m:\n\u001b[1;32m    180\u001b[0m     \u001b[38;5;66;03m# FIXME: log the exception\u001b[39;00m\n\u001b[1;32m    181\u001b[0m     \u001b[38;5;28;01mraise\u001b[39;00m\n",
      "File \u001b[0;32m~/anaconda3/lib/python3.9/site-packages/decorator.py:232\u001b[0m, in \u001b[0;36mdecorate.<locals>.fun\u001b[0;34m(*args, **kw)\u001b[0m\n\u001b[1;32m    230\u001b[0m \u001b[38;5;28;01mif\u001b[39;00m \u001b[38;5;129;01mnot\u001b[39;00m kwsyntax:\n\u001b[1;32m    231\u001b[0m     args, kw \u001b[38;5;241m=\u001b[39m fix(args, kw, sig)\n\u001b[0;32m--> 232\u001b[0m \u001b[38;5;28;01mreturn\u001b[39;00m \u001b[43mcaller\u001b[49m\u001b[43m(\u001b[49m\u001b[43mfunc\u001b[49m\u001b[43m,\u001b[49m\u001b[43m \u001b[49m\u001b[38;5;241;43m*\u001b[39;49m\u001b[43m(\u001b[49m\u001b[43mextras\u001b[49m\u001b[43m \u001b[49m\u001b[38;5;241;43m+\u001b[39;49m\u001b[43m \u001b[49m\u001b[43margs\u001b[49m\u001b[43m)\u001b[49m\u001b[43m,\u001b[49m\u001b[43m \u001b[49m\u001b[38;5;241;43m*\u001b[39;49m\u001b[38;5;241;43m*\u001b[39;49m\u001b[43mkw\u001b[49m\u001b[43m)\u001b[49m\n",
      "File \u001b[0;32m~/anaconda3/lib/python3.9/site-packages/IPython/core/formatters.py:222\u001b[0m, in \u001b[0;36mcatch_format_error\u001b[0;34m(method, self, *args, **kwargs)\u001b[0m\n\u001b[1;32m    220\u001b[0m \u001b[38;5;124;03m\"\"\"show traceback on failed format call\"\"\"\u001b[39;00m\n\u001b[1;32m    221\u001b[0m \u001b[38;5;28;01mtry\u001b[39;00m:\n\u001b[0;32m--> 222\u001b[0m     r \u001b[38;5;241m=\u001b[39m \u001b[43mmethod\u001b[49m\u001b[43m(\u001b[49m\u001b[38;5;28;43mself\u001b[39;49m\u001b[43m,\u001b[49m\u001b[43m \u001b[49m\u001b[38;5;241;43m*\u001b[39;49m\u001b[43margs\u001b[49m\u001b[43m,\u001b[49m\u001b[43m \u001b[49m\u001b[38;5;241;43m*\u001b[39;49m\u001b[38;5;241;43m*\u001b[39;49m\u001b[43mkwargs\u001b[49m\u001b[43m)\u001b[49m\n\u001b[1;32m    223\u001b[0m \u001b[38;5;28;01mexcept\u001b[39;00m \u001b[38;5;167;01mNotImplementedError\u001b[39;00m:\n\u001b[1;32m    224\u001b[0m     \u001b[38;5;66;03m# don't warn on NotImplementedErrors\u001b[39;00m\n\u001b[1;32m    225\u001b[0m     \u001b[38;5;28;01mreturn\u001b[39;00m \u001b[38;5;28mself\u001b[39m\u001b[38;5;241m.\u001b[39m_check_return(\u001b[38;5;28;01mNone\u001b[39;00m, args[\u001b[38;5;241m0\u001b[39m])\n",
      "File \u001b[0;32m~/anaconda3/lib/python3.9/site-packages/IPython/core/formatters.py:339\u001b[0m, in \u001b[0;36mBaseFormatter.__call__\u001b[0;34m(self, obj)\u001b[0m\n\u001b[1;32m    337\u001b[0m     \u001b[38;5;28;01mpass\u001b[39;00m\n\u001b[1;32m    338\u001b[0m \u001b[38;5;28;01melse\u001b[39;00m:\n\u001b[0;32m--> 339\u001b[0m     \u001b[38;5;28;01mreturn\u001b[39;00m \u001b[43mprinter\u001b[49m\u001b[43m(\u001b[49m\u001b[43mobj\u001b[49m\u001b[43m)\u001b[49m\n\u001b[1;32m    340\u001b[0m \u001b[38;5;66;03m# Finally look for special method names\u001b[39;00m\n\u001b[1;32m    341\u001b[0m method \u001b[38;5;241m=\u001b[39m get_real_method(obj, \u001b[38;5;28mself\u001b[39m\u001b[38;5;241m.\u001b[39mprint_method)\n",
      "File \u001b[0;32m~/anaconda3/lib/python3.9/site-packages/IPython/core/pylabtools.py:151\u001b[0m, in \u001b[0;36mprint_figure\u001b[0;34m(fig, fmt, bbox_inches, base64, **kwargs)\u001b[0m\n\u001b[1;32m    148\u001b[0m     \u001b[38;5;28;01mfrom\u001b[39;00m \u001b[38;5;21;01mmatplotlib\u001b[39;00m\u001b[38;5;21;01m.\u001b[39;00m\u001b[38;5;21;01mbackend_bases\u001b[39;00m \u001b[38;5;28;01mimport\u001b[39;00m FigureCanvasBase\n\u001b[1;32m    149\u001b[0m     FigureCanvasBase(fig)\n\u001b[0;32m--> 151\u001b[0m \u001b[43mfig\u001b[49m\u001b[38;5;241;43m.\u001b[39;49m\u001b[43mcanvas\u001b[49m\u001b[38;5;241;43m.\u001b[39;49m\u001b[43mprint_figure\u001b[49m\u001b[43m(\u001b[49m\u001b[43mbytes_io\u001b[49m\u001b[43m,\u001b[49m\u001b[43m \u001b[49m\u001b[38;5;241;43m*\u001b[39;49m\u001b[38;5;241;43m*\u001b[39;49m\u001b[43mkw\u001b[49m\u001b[43m)\u001b[49m\n\u001b[1;32m    152\u001b[0m data \u001b[38;5;241m=\u001b[39m bytes_io\u001b[38;5;241m.\u001b[39mgetvalue()\n\u001b[1;32m    153\u001b[0m \u001b[38;5;28;01mif\u001b[39;00m fmt \u001b[38;5;241m==\u001b[39m \u001b[38;5;124m'\u001b[39m\u001b[38;5;124msvg\u001b[39m\u001b[38;5;124m'\u001b[39m:\n",
      "File \u001b[0;32m~/anaconda3/lib/python3.9/site-packages/matplotlib/backend_bases.py:2299\u001b[0m, in \u001b[0;36mFigureCanvasBase.print_figure\u001b[0;34m(self, filename, dpi, facecolor, edgecolor, orientation, format, bbox_inches, pad_inches, bbox_extra_artists, backend, **kwargs)\u001b[0m\n\u001b[1;32m   2297\u001b[0m \u001b[38;5;28;01mif\u001b[39;00m bbox_inches:\n\u001b[1;32m   2298\u001b[0m     \u001b[38;5;28;01mif\u001b[39;00m bbox_inches \u001b[38;5;241m==\u001b[39m \u001b[38;5;124m\"\u001b[39m\u001b[38;5;124mtight\u001b[39m\u001b[38;5;124m\"\u001b[39m:\n\u001b[0;32m-> 2299\u001b[0m         bbox_inches \u001b[38;5;241m=\u001b[39m \u001b[38;5;28;43mself\u001b[39;49m\u001b[38;5;241;43m.\u001b[39;49m\u001b[43mfigure\u001b[49m\u001b[38;5;241;43m.\u001b[39;49m\u001b[43mget_tightbbox\u001b[49m\u001b[43m(\u001b[49m\n\u001b[1;32m   2300\u001b[0m \u001b[43m            \u001b[49m\u001b[43mrenderer\u001b[49m\u001b[43m,\u001b[49m\u001b[43m \u001b[49m\u001b[43mbbox_extra_artists\u001b[49m\u001b[38;5;241;43m=\u001b[39;49m\u001b[43mbbox_extra_artists\u001b[49m\u001b[43m)\u001b[49m\n\u001b[1;32m   2301\u001b[0m         \u001b[38;5;28;01mif\u001b[39;00m pad_inches \u001b[38;5;129;01mis\u001b[39;00m \u001b[38;5;28;01mNone\u001b[39;00m:\n\u001b[1;32m   2302\u001b[0m             pad_inches \u001b[38;5;241m=\u001b[39m rcParams[\u001b[38;5;124m'\u001b[39m\u001b[38;5;124msavefig.pad_inches\u001b[39m\u001b[38;5;124m'\u001b[39m]\n",
      "File \u001b[0;32m~/anaconda3/lib/python3.9/site-packages/matplotlib/figure.py:1632\u001b[0m, in \u001b[0;36mFigureBase.get_tightbbox\u001b[0;34m(self, renderer, bbox_extra_artists)\u001b[0m\n\u001b[1;32m   1629\u001b[0m     artists \u001b[38;5;241m=\u001b[39m bbox_extra_artists\n\u001b[1;32m   1631\u001b[0m \u001b[38;5;28;01mfor\u001b[39;00m a \u001b[38;5;129;01min\u001b[39;00m artists:\n\u001b[0;32m-> 1632\u001b[0m     bbox \u001b[38;5;241m=\u001b[39m \u001b[43ma\u001b[49m\u001b[38;5;241;43m.\u001b[39;49m\u001b[43mget_tightbbox\u001b[49m\u001b[43m(\u001b[49m\u001b[43mrenderer\u001b[49m\u001b[43m)\u001b[49m\n\u001b[1;32m   1633\u001b[0m     \u001b[38;5;28;01mif\u001b[39;00m bbox \u001b[38;5;129;01mis\u001b[39;00m \u001b[38;5;129;01mnot\u001b[39;00m \u001b[38;5;28;01mNone\u001b[39;00m \u001b[38;5;129;01mand\u001b[39;00m (bbox\u001b[38;5;241m.\u001b[39mwidth \u001b[38;5;241m!=\u001b[39m \u001b[38;5;241m0\u001b[39m \u001b[38;5;129;01mor\u001b[39;00m bbox\u001b[38;5;241m.\u001b[39mheight \u001b[38;5;241m!=\u001b[39m \u001b[38;5;241m0\u001b[39m):\n\u001b[1;32m   1634\u001b[0m         bb\u001b[38;5;241m.\u001b[39mappend(bbox)\n",
      "File \u001b[0;32m~/anaconda3/lib/python3.9/site-packages/matplotlib/axes/_base.py:4660\u001b[0m, in \u001b[0;36m_AxesBase.get_tightbbox\u001b[0;34m(self, renderer, call_axes_locator, bbox_extra_artists, for_layout_only)\u001b[0m\n\u001b[1;32m   4658\u001b[0m clip_extent \u001b[38;5;241m=\u001b[39m a\u001b[38;5;241m.\u001b[39m_get_clipping_extent_bbox()\n\u001b[1;32m   4659\u001b[0m \u001b[38;5;28;01mif\u001b[39;00m clip_extent \u001b[38;5;129;01mis\u001b[39;00m \u001b[38;5;129;01mnot\u001b[39;00m \u001b[38;5;28;01mNone\u001b[39;00m:\n\u001b[0;32m-> 4660\u001b[0m     clip_extent \u001b[38;5;241m=\u001b[39m \u001b[43mmtransforms\u001b[49m\u001b[38;5;241;43m.\u001b[39;49m\u001b[43mBbox\u001b[49m\u001b[38;5;241;43m.\u001b[39;49m\u001b[43mintersection\u001b[49m\u001b[43m(\u001b[49m\n\u001b[1;32m   4661\u001b[0m \u001b[43m        \u001b[49m\u001b[43mclip_extent\u001b[49m\u001b[43m,\u001b[49m\u001b[43m \u001b[49m\u001b[43maxbbox\u001b[49m\u001b[43m)\u001b[49m\n\u001b[1;32m   4662\u001b[0m     \u001b[38;5;28;01mif\u001b[39;00m np\u001b[38;5;241m.\u001b[39mall(clip_extent\u001b[38;5;241m.\u001b[39mextents \u001b[38;5;241m==\u001b[39m axbbox\u001b[38;5;241m.\u001b[39mextents):\n\u001b[1;32m   4663\u001b[0m         \u001b[38;5;66;03m# clip extent is inside the Axes bbox so don't check\u001b[39;00m\n\u001b[1;32m   4664\u001b[0m         \u001b[38;5;66;03m# this artist\u001b[39;00m\n\u001b[1;32m   4665\u001b[0m         \u001b[38;5;28;01mcontinue\u001b[39;00m\n",
      "File \u001b[0;32m~/anaconda3/lib/python3.9/site-packages/matplotlib/transforms.py:683\u001b[0m, in \u001b[0;36mBboxBase.intersection\u001b[0;34m(bbox1, bbox2)\u001b[0m\n\u001b[1;32m    681\u001b[0m y0 \u001b[38;5;241m=\u001b[39m np\u001b[38;5;241m.\u001b[39mmaximum(bbox1\u001b[38;5;241m.\u001b[39mymin, bbox2\u001b[38;5;241m.\u001b[39mymin)\n\u001b[1;32m    682\u001b[0m y1 \u001b[38;5;241m=\u001b[39m np\u001b[38;5;241m.\u001b[39mminimum(bbox1\u001b[38;5;241m.\u001b[39mymax, bbox2\u001b[38;5;241m.\u001b[39mymax)\n\u001b[0;32m--> 683\u001b[0m \u001b[38;5;28;01mreturn\u001b[39;00m \u001b[43mBbox\u001b[49m\u001b[43m(\u001b[49m\u001b[43m[\u001b[49m\u001b[43m[\u001b[49m\u001b[43mx0\u001b[49m\u001b[43m,\u001b[49m\u001b[43m \u001b[49m\u001b[43my0\u001b[49m\u001b[43m]\u001b[49m\u001b[43m,\u001b[49m\u001b[43m \u001b[49m\u001b[43m[\u001b[49m\u001b[43mx1\u001b[49m\u001b[43m,\u001b[49m\u001b[43m \u001b[49m\u001b[43my1\u001b[49m\u001b[43m]\u001b[49m\u001b[43m]\u001b[49m\u001b[43m)\u001b[49m \u001b[38;5;28;01mif\u001b[39;00m x0 \u001b[38;5;241m<\u001b[39m\u001b[38;5;241m=\u001b[39m x1 \u001b[38;5;129;01mand\u001b[39;00m y0 \u001b[38;5;241m<\u001b[39m\u001b[38;5;241m=\u001b[39m y1 \u001b[38;5;28;01melse\u001b[39;00m \u001b[38;5;28;01mNone\u001b[39;00m\n",
      "File \u001b[0;32m~/anaconda3/lib/python3.9/site-packages/matplotlib/transforms.py:785\u001b[0m, in \u001b[0;36mBbox.__init__\u001b[0;34m(self, points, **kwargs)\u001b[0m\n\u001b[1;32m    781\u001b[0m \u001b[38;5;28mself\u001b[39m\u001b[38;5;241m.\u001b[39m_ignore \u001b[38;5;241m=\u001b[39m \u001b[38;5;28;01mTrue\u001b[39;00m\n\u001b[1;32m    782\u001b[0m \u001b[38;5;66;03m# it is helpful in some contexts to know if the bbox is a\u001b[39;00m\n\u001b[1;32m    783\u001b[0m \u001b[38;5;66;03m# default or has been mutated; we store the orig points to\u001b[39;00m\n\u001b[1;32m    784\u001b[0m \u001b[38;5;66;03m# support the mutated methods\u001b[39;00m\n\u001b[0;32m--> 785\u001b[0m \u001b[38;5;28mself\u001b[39m\u001b[38;5;241m.\u001b[39m_points_orig \u001b[38;5;241m=\u001b[39m \u001b[38;5;28;43mself\u001b[39;49m\u001b[38;5;241;43m.\u001b[39;49m\u001b[43m_points\u001b[49m\u001b[38;5;241;43m.\u001b[39;49m\u001b[43mcopy\u001b[49m\u001b[43m(\u001b[49m\u001b[43m)\u001b[49m\n",
      "\u001b[0;31mKeyboardInterrupt\u001b[0m: "
     ]
    }
   ],
   "source": [
    "token_i = 4\n",
    "layer_i = 5\n",
    "vec = hidden_states[layer_i][batch_i][token_i]\n",
    "\n",
    "# Plot the values as a histogram to show their distribution.\n",
    "plt.figure(figsize=(10,10))\n",
    "plt.hist(vec, bins=200)\n",
    "plt.show()"
   ]
  },
  {
   "cell_type": "code",
   "execution_count": null,
   "id": "d8215a6e",
   "metadata": {},
   "outputs": [],
   "source": [
    "hidden_states[layer_i][batch_i][token_i]"
   ]
  },
  {
   "cell_type": "code",
   "execution_count": null,
   "id": "97b954e2",
   "metadata": {},
   "outputs": [],
   "source": [
    "res['input_ids'].shape"
   ]
  },
  {
   "cell_type": "code",
   "execution_count": 18,
   "id": "5958dc03",
   "metadata": {},
   "outputs": [
    {
     "data": {
      "text/plain": [
       "353"
      ]
     },
     "execution_count": 18,
     "metadata": {},
     "output_type": "execute_result"
    }
   ],
   "source": [
    "len(metadata_df.iloc[1]['DESCRIPTION'])"
   ]
  },
  {
   "cell_type": "code",
   "execution_count": null,
   "id": "0abbf14e",
   "metadata": {},
   "outputs": [],
   "source": []
  }
 ],
 "metadata": {
  "kernelspec": {
   "display_name": "Python 3 (ipykernel)",
   "language": "python",
   "name": "python3"
  },
  "language_info": {
   "codemirror_mode": {
    "name": "ipython",
    "version": 3
   },
   "file_extension": ".py",
   "mimetype": "text/x-python",
   "name": "python",
   "nbconvert_exporter": "python",
   "pygments_lexer": "ipython3",
   "version": "3.9.12"
  }
 },
 "nbformat": 4,
 "nbformat_minor": 5
}

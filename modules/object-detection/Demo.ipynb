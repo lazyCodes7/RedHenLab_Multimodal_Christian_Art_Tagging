{
 "cells": [
  {
   "cell_type": "code",
   "execution_count": 94,
   "id": "cd4ad700",
   "metadata": {},
   "outputs": [],
   "source": [
    "import pandas as pd\n",
    "import numpy as np\n",
    "import torch.nn as nn\n",
    "import torch\n",
    "import cv2\n",
    "import matplotlib.pyplot as plt\n",
    "from transform import Transform\n",
    "from PIL import Image"
   ]
  },
  {
   "cell_type": "code",
   "execution_count": 92,
   "id": "80cbf45c",
   "metadata": {},
   "outputs": [],
   "source": [
    "import re\n",
    "import os"
   ]
  },
  {
   "cell_type": "code",
   "execution_count": 3,
   "id": "d0695a97",
   "metadata": {},
   "outputs": [
    {
     "name": "stdout",
     "output_type": "stream",
     "text": [
      "/home/nightskies/anaconda3/lib/python3.9/site-packages/torch/cuda/__init__.py:83: UserWarning: CUDA initialization: CUDA unknown error - this may be due to an incorrectly set up environment, e.g. changing env variable CUDA_VISIBLE_DEVICES after program start. Setting the available devices to be zero. (Triggered internally at  ../c10/cuda/CUDAFunctions.cpp:109.)\n",
      "  return torch._C._cuda_getDeviceCount() > 0\n",
      "sample_folder\n",
      "/home/nightskies/anaconda3/lib/python3.9/site-packages/torchvision/models/_utils.py:208: UserWarning: The parameter 'pretrained' is deprecated since 0.13 and will be removed in 0.15, please use 'weights' instead.\n",
      "  warnings.warn(\n",
      "/home/nightskies/anaconda3/lib/python3.9/site-packages/torchvision/models/_utils.py:223: UserWarning: Arguments other than a weight enum or `None` for 'weights' are deprecated since 0.13 and will be removed in 0.15. The current behavior is equivalent to passing `weights=FasterRCNN_ResNet50_FPN_Weights.COCO_V1`. You can also use `weights=FasterRCNN_ResNet50_FPN_Weights.DEFAULT` to get the most up-to-date weights.\n",
      "  warnings.warn(msg)\n",
      "\n",
      " Total Time - 20.29891300201416\n",
      "\n"
     ]
    }
   ],
   "source": [
    "!python generate.py --image_dir sample_folder"
   ]
  },
  {
   "cell_type": "code",
   "execution_count": 4,
   "id": "f2cd5a7e",
   "metadata": {},
   "outputs": [
    {
     "name": "stdout",
     "output_type": "stream",
     "text": [
      "anchors.csv  Emile_Male_Dataset  __pycache__\ttransform.py\r\n",
      "dataset.py   generate.py\t sample_folder\tUntitled.ipynb\r\n"
     ]
    }
   ],
   "source": [
    "!ls"
   ]
  },
  {
   "cell_type": "code",
   "execution_count": 5,
   "id": "6f68ab06",
   "metadata": {},
   "outputs": [],
   "source": [
    "anchors_df = pd.read_csv('anchors.csv')"
   ]
  },
  {
   "cell_type": "code",
   "execution_count": 9,
   "id": "5133fe29",
   "metadata": {},
   "outputs": [
    {
     "data": {
      "text/plain": [
       "'[[ 79.483215   90.43543   129.36275   157.3515   ]\\n [147.3661     85.60952   212.66064   150.11371  ]\\n [ 13.414156   76.42696    78.89861   156.70372  ]\\n [ 79.98974    83.85538   142.2327    149.33505  ]\\n [ 73.61796    81.63705   145.36809   148.90993  ]\\n [ 22.0924    134.83154    46.599434  151.64877  ]\\n [ 91.08653    71.148224  216.9315    159.66621  ]\\n [ 28.129173   80.4678    122.3555    153.64713  ]\\n [149.40923   132.69345   177.17377   157.2805   ]\\n [ 24.0575     55.118275  211.22757   151.75073  ]\\n [142.5436     79.95575   211.24457   138.79326  ]\\n [  4.2948017  78.46843   134.03389   221.7828   ]]'"
      ]
     },
     "execution_count": 9,
     "metadata": {},
     "output_type": "execute_result"
    }
   ],
   "source": [
    "anchors_df.bboxes.iloc[4]"
   ]
  },
  {
   "cell_type": "code",
   "execution_count": 155,
   "id": "f4d99043",
   "metadata": {},
   "outputs": [],
   "source": [
    "def prepare_bboxes(bboxes):\n",
    "    result = bboxes.strip('][').split('\\n')\n",
    "    result[0] = \"[\" + result[0]\n",
    "    \n",
    "    final_bboxes = []\n",
    "    for res in result:\n",
    "        res = res.strip(\"[]\").strip(\" \")\n",
    "        res = re.sub(' +', ' ', res)\n",
    "        res = res.split(\" \")\n",
    "        preprocessed_result = []\n",
    "        for i in range(len(res)):\n",
    "            res[i] = res[i].strip(\"[]\")\n",
    "            if(res[i]!=\"\"):\n",
    "                preprocessed_result.append(res[i])\n",
    "        final_bboxes.append(preprocessed_result)\n",
    "    return final_bboxes"
   ]
  },
  {
   "cell_type": "code",
   "execution_count": 117,
   "id": "89150657",
   "metadata": {},
   "outputs": [],
   "source": [
    "images = []\n",
    "image_dir = 'sample_folder'\n",
    "for image in os.listdir(image_dir):\n",
    "    images.append(tf.transform(Image.open(image_dir + \"/\" + image)))"
   ]
  },
  {
   "cell_type": "code",
   "execution_count": 116,
   "id": "87526b31",
   "metadata": {},
   "outputs": [],
   "source": [
    "tf = Transform()"
   ]
  },
  {
   "cell_type": "code",
   "execution_count": 289,
   "id": "9272cb92",
   "metadata": {},
   "outputs": [],
   "source": [
    "def show_pred_on_image(img, bboxes, label):\n",
    "    \n",
    "    \n",
    "    img = np.transpose(img.squeeze().numpy(), (1, 2, 0))\n",
    "    img[img<0] = 0\n",
    "    img = img*255\n",
    "    img = img.astype(np.uint8).copy()\n",
    "\n",
    "    \n",
    "    fig, ax = plt.subplots(1, 1, figsize=(16, 8))\n",
    "    idx = 0\n",
    "    for bbox in bboxes:\n",
    "        x1 = int(float(bbox[0]))\n",
    "        y1 = int(float(bbox[1]))\n",
    "        x2 = int(float(bbox[2]))\n",
    "        y2 = int(float(bbox[3]))\n",
    "\n",
    "        cv2.rectangle(img, (x1, y1), (x2, y2), color = (0, 0, 255), thickness = 1)\n",
    "        cv2.putText(img, labels[int(label[idx])-1], (x1, y1+10), cv2.FONT_HERSHEY_SIMPLEX, 0.3, (36,255,12), 1)\n",
    "        idx+=1\n",
    "        \n",
    "    ax.imshow(img)"
   ]
  },
  {
   "cell_type": "code",
   "execution_count": 231,
   "id": "4b8f7d5e",
   "metadata": {},
   "outputs": [],
   "source": [
    "labels = labels.read().split(\"\\n\")"
   ]
  },
  {
   "cell_type": "code",
   "execution_count": 229,
   "id": "1f704094",
   "metadata": {},
   "outputs": [],
   "source": [
    "labels = open('coco-labels-2014_2017.txt')"
   ]
  },
  {
   "cell_type": "code",
   "execution_count": 288,
   "id": "d03a9275",
   "metadata": {},
   "outputs": [
    {
     "data": {
      "text/plain": [
       "['person',\n",
       " 'bicycle',\n",
       " 'car',\n",
       " 'motorcycle',\n",
       " 'airplane',\n",
       " 'bus',\n",
       " 'train',\n",
       " 'truck',\n",
       " 'boat',\n",
       " 'traffic light',\n",
       " 'fire hydrant',\n",
       " 'stop sign',\n",
       " 'parking meter',\n",
       " 'bench',\n",
       " 'bird',\n",
       " 'cat',\n",
       " 'dog',\n",
       " 'horse',\n",
       " 'sheep',\n",
       " 'cow',\n",
       " 'elephant',\n",
       " 'bear',\n",
       " 'zebra',\n",
       " 'giraffe',\n",
       " 'backpack',\n",
       " 'umbrella',\n",
       " 'handbag',\n",
       " 'tie',\n",
       " 'suitcase',\n",
       " 'frisbee',\n",
       " 'skis',\n",
       " 'snowboard',\n",
       " 'sports ball',\n",
       " 'kite',\n",
       " 'baseball bat',\n",
       " 'baseball glove',\n",
       " 'skateboard',\n",
       " 'surfboard',\n",
       " 'tennis racket',\n",
       " 'bottle',\n",
       " 'wine glass',\n",
       " 'cup',\n",
       " 'fork',\n",
       " 'knife',\n",
       " 'spoon',\n",
       " 'bowl',\n",
       " 'banana',\n",
       " 'apple',\n",
       " 'sandwich',\n",
       " 'orange',\n",
       " 'broccoli',\n",
       " 'carrot',\n",
       " 'hot dog',\n",
       " 'pizza',\n",
       " 'donut',\n",
       " 'cake',\n",
       " 'chair',\n",
       " 'couch',\n",
       " 'potted plant',\n",
       " 'bed',\n",
       " 'dining table',\n",
       " 'toilet',\n",
       " 'tv',\n",
       " 'laptop',\n",
       " 'mouse',\n",
       " 'remote',\n",
       " 'keyboard',\n",
       " 'cell phone',\n",
       " 'microwave',\n",
       " 'oven',\n",
       " 'toaster',\n",
       " 'sink',\n",
       " 'refrigerator',\n",
       " 'book',\n",
       " 'clock',\n",
       " 'vase',\n",
       " 'scissors',\n",
       " 'teddy bear',\n",
       " 'hair drier',\n",
       " 'toothbrush']"
      ]
     },
     "execution_count": 288,
     "metadata": {},
     "output_type": "execute_result"
    }
   ],
   "source": [
    "labels"
   ]
  },
  {
   "cell_type": "code",
   "execution_count": 292,
   "id": "a2c023b3",
   "metadata": {},
   "outputs": [],
   "source": [
    "boxes = prepare_bboxes(anchors_df.iloc[4]['bboxes'])"
   ]
  },
  {
   "cell_type": "code",
   "execution_count": 293,
   "id": "737eb1e9",
   "metadata": {},
   "outputs": [],
   "source": [
    "box_labels = anchors_df.iloc[4]['labels'].strip(\"[]\").strip(\" \")\n",
    "box_labels = re.sub(' +', ' ', box_labels)\n",
    "box_labels = box_labels.split(\" \")"
   ]
  },
  {
   "cell_type": "code",
   "execution_count": 294,
   "id": "c2759f74",
   "metadata": {},
   "outputs": [
    {
     "data": {
      "text/plain": [
       "['1', '1', '1', '62', '3', '3', '1', '1', '3', '1', '62', '1']"
      ]
     },
     "execution_count": 294,
     "metadata": {},
     "output_type": "execute_result"
    }
   ],
   "source": [
    "box_labels"
   ]
  },
  {
   "cell_type": "code",
   "execution_count": 299,
   "id": "f297ed82",
   "metadata": {},
   "outputs": [
    {
     "data": {
      "image/png": "[encoded data removed]",
      "text/plain": [
       "<Figure size 1152x576 with 1 Axes>"
      ]
     },
     "metadata": {
      "needs_background": "light"
     },
     "output_type": "display_data"
    }
   ],
   "source": [
    "show_pred_on_image(images[2], boxes, box_labels)"
   ]
  },
  {
   "cell_type": "code",
   "execution_count": 108,
   "id": "ea2c6405",
   "metadata": {},
   "outputs": [
    {
     "data": {
      "text/plain": [
       "torch.Size([3, 224, 224])"
      ]
     },
     "execution_count": 108,
     "metadata": {},
     "output_type": "execute_result"
    }
   ],
   "source": [
    "images[0].shape"
   ]
  },
  {
   "cell_type": "code",
   "execution_count": 202,
   "id": "a19b6226",
   "metadata": {},
   "outputs": [
    {
     "name": "stdout",
     "output_type": "stream",
     "text": [
      "--2022-07-22 21:56:11--  https://raw.githubusercontent.com/amikelive/coco-labels/master/coco-labels-2014_2017.txt\n",
      "Resolving raw.githubusercontent.com (raw.githubusercontent.com)... 185.199.109.133, 185.199.110.133, 185.199.108.133, ...\n",
      "Connecting to raw.githubusercontent.com (raw.githubusercontent.com)|185.199.109.133|:443... connected.\n",
      "HTTP request sent, awaiting response... 200 OK\n",
      "Length: 620 [text/plain]\n",
      "Saving to: ‘coco-labels-2014_2017.txt’\n",
      "\n",
      "coco-labels-2014_20 100%[===================>]     620  --.-KB/s    in 0s      \n",
      "\n",
      "2022-07-22 21:56:12 (18.1 MB/s) - ‘coco-labels-2014_2017.txt’ saved [620/620]\n",
      "\n"
     ]
    }
   ],
   "source": [
    "!wget https://raw.githubusercontent.com/amikelive/coco-labels/master/coco-labels-2014_2017.txt"
   ]
  },
  {
   "cell_type": "code",
   "execution_count": null,
   "id": "333be3a2",
   "metadata": {},
   "outputs": [],
   "source": []
  }
 ],
 "metadata": {
  "kernelspec": {
   "display_name": "Python 3 (ipykernel)",
   "language": "python",
   "name": "python3"
  },
  "language_info": {
   "codemirror_mode": {
    "name": "ipython",
    "version": 3
   },
   "file_extension": ".py",
   "mimetype": "text/x-python",
   "name": "python",
   "nbconvert_exporter": "python",
   "pygments_lexer": "ipython3",
   "version": "3.9.12"
  }
 },
 "nbformat": 4,
 "nbformat_minor": 5
}

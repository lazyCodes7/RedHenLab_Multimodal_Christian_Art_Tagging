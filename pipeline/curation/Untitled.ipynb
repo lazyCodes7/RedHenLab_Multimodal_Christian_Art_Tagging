{
 "cells": [
  {
   "cell_type": "code",
   "execution_count": 1,
   "id": "acc17461",
   "metadata": {},
   "outputs": [],
   "source": [
    "import pandas as pd"
   ]
  },
  {
   "cell_type": "code",
   "execution_count": 2,
   "id": "43a55e7d",
   "metadata": {},
   "outputs": [],
   "source": [
    "df = pd.read_csv('metadata_v2.csv')"
   ]
  },
  {
   "cell_type": "code",
   "execution_count": 7,
   "id": "31989609",
   "metadata": {},
   "outputs": [
    {
     "data": {
      "text/plain": [
       "'https://images.metmuseum.org/CRDImages/ep/original/DT2564.jpg'"
      ]
     },
     "execution_count": 7,
     "metadata": {},
     "output_type": "execute_result"
    }
   ],
   "source": [
    "df.iloc[6050].IMAGE_LINK"
   ]
  },
  {
   "cell_type": "code",
   "execution_count": 4,
   "id": "278dbb54",
   "metadata": {},
   "outputs": [
    {
     "data": {
      "text/plain": [
       "ARTIST                                        Théodore Chassériau\n",
       "TITLE           Comtesse de La Tour-Maubourg (Marie-Louise-Cha...\n",
       "METADATA_URL    https://www.metmuseum.org/art/collection/searc...\n",
       "IMAGE_LINK      https://images.metmuseum.org/CRDImages/ep/orig...\n",
       "IMAGE_NAME                                 met_gallery_DT2564.jpg\n",
       "DESCRIPTION     This likeness of the wife of the French ambass...\n",
       "TIMEFRAME                                                     NaN\n",
       "TECHNIQUE                                           Oil on canvas\n",
       "valid                                                       200.0\n",
       "Name: 6050, dtype: object"
      ]
     },
     "execution_count": 4,
     "metadata": {},
     "output_type": "execute_result"
    }
   ],
   "source": [
    "df.iloc[6050]"
   ]
  },
  {
   "cell_type": "code",
   "execution_count": 5,
   "id": "1f9b6896",
   "metadata": {},
   "outputs": [],
   "source": [
    "import requests"
   ]
  },
  {
   "cell_type": "code",
   "execution_count": 7,
   "id": "79345a13",
   "metadata": {},
   "outputs": [
    {
     "data": {
      "text/plain": [
       "404"
      ]
     },
     "execution_count": 7,
     "metadata": {},
     "output_type": "execute_result"
    }
   ],
   "source": [
    "requests.get('https://images.metmuseum.org/CRDImages/ep/original/DT2564.jpg').status_code"
   ]
  },
  {
   "cell_type": "code",
   "execution_count": null,
   "id": "69ae5daf",
   "metadata": {},
   "outputs": [],
   "source": []
  }
 ],
 "metadata": {
  "kernelspec": {
   "display_name": "Python 3 (ipykernel)",
   "language": "python",
   "name": "python3"
  },
  "language_info": {
   "codemirror_mode": {
    "name": "ipython",
    "version": 3
   },
   "file_extension": ".py",
   "mimetype": "text/x-python",
   "name": "python",
   "nbconvert_exporter": "python",
   "pygments_lexer": "ipython3",
   "version": "3.9.12"
  }
 },
 "nbformat": 4,
 "nbformat_minor": 5
}
